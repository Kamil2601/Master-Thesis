{
 "cells": [
  {
   "cell_type": "code",
   "execution_count": 1,
   "metadata": {},
   "outputs": [],
   "source": [
    "%reload_ext autoreload\n",
    "%autoreload 2\n",
    "\n",
    "import sys\n",
    "sys.path.append(\"..\")\n",
    "\n",
    "from common.utils import load_sql_to_df, plot_history, save_to_sql\n",
    "from datasets import MoveAsTensorDataset\n",
    "import board_representation as br\n",
    "\n",
    "import torch\n",
    "import torch.nn as nn\n",
    "from sklearn.model_selection import train_test_split\n",
    "from torch.utils.data import DataLoader\n",
    "\n",
    "from common.training import train_loop, test_model\n",
    "\n",
    "import random\n",
    "\n",
    "import chess\n",
    "import chess.engine\n",
    "from stockfish import Stockfish\n",
    "import pandas as pd"
   ]
  },
  {
   "cell_type": "code",
   "execution_count": 2,
   "metadata": {},
   "outputs": [
    {
     "data": {
      "text/plain": [
       "'cuda:0'"
      ]
     },
     "execution_count": 2,
     "metadata": {},
     "output_type": "execute_result"
    }
   ],
   "source": [
    "device = 'cuda:0' if torch.cuda.is_available() else 'cpu'\n",
    "device"
   ]
  },
  {
   "cell_type": "code",
   "execution_count": 24,
   "metadata": {},
   "outputs": [
    {
     "data": {
      "text/html": [
       "<div>\n",
       "<style scoped>\n",
       "    .dataframe tbody tr th:only-of-type {\n",
       "        vertical-align: middle;\n",
       "    }\n",
       "\n",
       "    .dataframe tbody tr th {\n",
       "        vertical-align: top;\n",
       "    }\n",
       "\n",
       "    .dataframe thead th {\n",
       "        text-align: right;\n",
       "    }\n",
       "</style>\n",
       "<table border=\"1\" class=\"dataframe\">\n",
       "  <thead>\n",
       "    <tr style=\"text-align: right;\">\n",
       "      <th></th>\n",
       "      <th>position</th>\n",
       "      <th>move</th>\n",
       "      <th>sentiment</th>\n",
       "    </tr>\n",
       "  </thead>\n",
       "  <tbody>\n",
       "    <tr>\n",
       "      <th>0</th>\n",
       "      <td>2kr1b1r/ppp2ppp/2n5/4pb2/2P5/P1NP1PqP/1P4P1/R1...</td>\n",
       "      <td>e1d2</td>\n",
       "      <td>1</td>\n",
       "    </tr>\n",
       "    <tr>\n",
       "      <th>1</th>\n",
       "      <td>r1b3k1/5p1r/p7/q1n1Q2p/2p1P1p1/6P1/PP2N1BP/R4R...</td>\n",
       "      <td>c8b7</td>\n",
       "      <td>1</td>\n",
       "    </tr>\n",
       "    <tr>\n",
       "      <th>2</th>\n",
       "      <td>r1b2r2/p2n3k/1p4pp/2pp4/3P2Q1/P3P3/5PPP/2R3KR ...</td>\n",
       "      <td>d4c5</td>\n",
       "      <td>1</td>\n",
       "    </tr>\n",
       "    <tr>\n",
       "      <th>3</th>\n",
       "      <td>r2q4/2p2k2/P1p2pp1/2P5/3p3R/6Q1/P4PPK/8 b - - ...</td>\n",
       "      <td>f7g7</td>\n",
       "      <td>1</td>\n",
       "    </tr>\n",
       "    <tr>\n",
       "      <th>4</th>\n",
       "      <td>r1bqkbnr/p1p2ppp/3p4/2p1p3/2P1P3/5N2/PP1P1PPP/...</td>\n",
       "      <td>d2d3</td>\n",
       "      <td>1</td>\n",
       "    </tr>\n",
       "    <tr>\n",
       "      <th>...</th>\n",
       "      <td>...</td>\n",
       "      <td>...</td>\n",
       "      <td>...</td>\n",
       "    </tr>\n",
       "    <tr>\n",
       "      <th>2906272</th>\n",
       "      <td>3q1k2/3bpnr1/2p5/3pP3/1PpP1RPP/2BR4/3K2B1/1N6 ...</td>\n",
       "      <td>c6c5</td>\n",
       "      <td>0</td>\n",
       "    </tr>\n",
       "    <tr>\n",
       "      <th>2906273</th>\n",
       "      <td>3q1k2/3bpnr1/8/2ppP3/1PpP1RPP/2BR4/3K2B1/1N6 w...</td>\n",
       "      <td>g2h3</td>\n",
       "      <td>0</td>\n",
       "    </tr>\n",
       "    <tr>\n",
       "      <th>2906274</th>\n",
       "      <td>3q1k2/3bpnr1/8/2ppP3/1PpP1RPP/2BR3B/3K4/1N6 b ...</td>\n",
       "      <td>d7e8</td>\n",
       "      <td>0</td>\n",
       "    </tr>\n",
       "    <tr>\n",
       "      <th>2906275</th>\n",
       "      <td>3qbk2/4pnr1/8/2ppP3/1PpP1RPP/2BR3B/3K4/1N6 w -...</td>\n",
       "      <td>f4e4</td>\n",
       "      <td>0</td>\n",
       "    </tr>\n",
       "    <tr>\n",
       "      <th>2906276</th>\n",
       "      <td>3qbk2/4pnr1/8/2ppP3/1PpPR1PP/2BR3B/3K4/1N6 b -...</td>\n",
       "      <td>c5d4</td>\n",
       "      <td>0</td>\n",
       "    </tr>\n",
       "  </tbody>\n",
       "</table>\n",
       "<p>2906277 rows × 3 columns</p>\n",
       "</div>"
      ],
      "text/plain": [
       "                                                  position  move  sentiment\n",
       "0        2kr1b1r/ppp2ppp/2n5/4pb2/2P5/P1NP1PqP/1P4P1/R1...  e1d2          1\n",
       "1        r1b3k1/5p1r/p7/q1n1Q2p/2p1P1p1/6P1/PP2N1BP/R4R...  c8b7          1\n",
       "2        r1b2r2/p2n3k/1p4pp/2pp4/3P2Q1/P3P3/5PPP/2R3KR ...  d4c5          1\n",
       "3        r2q4/2p2k2/P1p2pp1/2P5/3p3R/6Q1/P4PPK/8 b - - ...  f7g7          1\n",
       "4        r1bqkbnr/p1p2ppp/3p4/2p1p3/2P1P3/5N2/PP1P1PPP/...  d2d3          1\n",
       "...                                                    ...   ...        ...\n",
       "2906272  3q1k2/3bpnr1/2p5/3pP3/1PpP1RPP/2BR4/3K2B1/1N6 ...  c6c5          0\n",
       "2906273  3q1k2/3bpnr1/8/2ppP3/1PpP1RPP/2BR4/3K2B1/1N6 w...  g2h3          0\n",
       "2906274  3q1k2/3bpnr1/8/2ppP3/1PpP1RPP/2BR3B/3K4/1N6 b ...  d7e8          0\n",
       "2906275  3qbk2/4pnr1/8/2ppP3/1PpP1RPP/2BR3B/3K4/1N6 w -...  f4e4          0\n",
       "2906276  3qbk2/4pnr1/8/2ppP3/1PpPR1PP/2BR3B/3K4/1N6 b -...  c5d4          0\n",
       "\n",
       "[2906277 rows x 3 columns]"
      ]
     },
     "execution_count": 24,
     "metadata": {},
     "output_type": "execute_result"
    }
   ],
   "source": [
    "def filter_func(row):\n",
    "    board = chess.Board(row['position'])\n",
    "    return board.is_legal(chess.Move.from_uci(row['move']))\n",
    "\n",
    "\n",
    "\n",
    "# tables = [\"classified_moves\", \"chessbase_moves_with_nags\", \"moves_from_books\", \"random_moves\"]\n",
    "# classified_moves = [load_sql_to_df(f\"SELECT position, move, sentiment FROM {table_name}\", \"../../chess.db\") for table_name in tables]\n",
    "# classified_moves = pd.concat(classified_moves)\n",
    "# classified_moves = classified_moves[classified_moves.apply(filter_func, axis=1)]\n",
    "\n",
    "classified_moves = load_sql_to_df(f\"SELECT position, move, sentiment FROM classified_moves\", \"../../chess.db\")\n",
    "classified_moves"
   ]
  },
  {
   "cell_type": "code",
   "execution_count": 27,
   "metadata": {},
   "outputs": [
    {
     "data": {
      "text/html": [
       "<div>\n",
       "<style scoped>\n",
       "    .dataframe tbody tr th:only-of-type {\n",
       "        vertical-align: middle;\n",
       "    }\n",
       "\n",
       "    .dataframe tbody tr th {\n",
       "        vertical-align: top;\n",
       "    }\n",
       "\n",
       "    .dataframe thead th {\n",
       "        text-align: right;\n",
       "    }\n",
       "</style>\n",
       "<table border=\"1\" class=\"dataframe\">\n",
       "  <thead>\n",
       "    <tr style=\"text-align: right;\">\n",
       "      <th></th>\n",
       "      <th>position</th>\n",
       "      <th>move</th>\n",
       "      <th>sentiment</th>\n",
       "    </tr>\n",
       "  </thead>\n",
       "  <tbody>\n",
       "    <tr>\n",
       "      <th>1483295</th>\n",
       "      <td>4rq2/pp5p/2p3k1/4B3/3p4/bP1P1NPB/2P5/3K1R2 b -...</td>\n",
       "      <td>h7h5</td>\n",
       "      <td>1</td>\n",
       "    </tr>\n",
       "    <tr>\n",
       "      <th>2691851</th>\n",
       "      <td>2b5/2pp1kr1/r1n2qpp/1p2p3/1PPbPpNP/R2B1P2/3K2P...</td>\n",
       "      <td>f6d6</td>\n",
       "      <td>0</td>\n",
       "    </tr>\n",
       "    <tr>\n",
       "      <th>641645</th>\n",
       "      <td>2b2k2/4nppp/pr6/2Q5/8/P7/1q3PPP/2R2RK1 w - - 1 22</td>\n",
       "      <td>c5c7</td>\n",
       "      <td>1</td>\n",
       "    </tr>\n",
       "    <tr>\n",
       "      <th>462046</th>\n",
       "      <td>2b1r3/p4kb1/4ppN1/2pq2nP/4pPQ1/1P2P1R1/PBP3P1/...</td>\n",
       "      <td>f4g5</td>\n",
       "      <td>0</td>\n",
       "    </tr>\n",
       "    <tr>\n",
       "      <th>2248513</th>\n",
       "      <td>1nbqkb2/2ppp1pr/r6n/pp3p1p/3PPP1P/1PP5/P5PR/RN...</td>\n",
       "      <td>a6b6</td>\n",
       "      <td>0</td>\n",
       "    </tr>\n",
       "    <tr>\n",
       "      <th>...</th>\n",
       "      <td>...</td>\n",
       "      <td>...</td>\n",
       "      <td>...</td>\n",
       "    </tr>\n",
       "    <tr>\n",
       "      <th>2249467</th>\n",
       "      <td>2brk2r/3pb1p1/1p2pq1n/P4P1p/1pQ1P1Pp/BP5B/R6R/...</td>\n",
       "      <td>h5g4</td>\n",
       "      <td>0</td>\n",
       "    </tr>\n",
       "    <tr>\n",
       "      <th>963395</th>\n",
       "      <td>r1b2rk1/ppp3b1/5n2/2q2ppn/4p3/2N1P2P/PPQNBBP1/...</td>\n",
       "      <td>g2g4</td>\n",
       "      <td>1</td>\n",
       "    </tr>\n",
       "    <tr>\n",
       "      <th>2215104</th>\n",
       "      <td>rnbqkbnr/pppppppp/8/8/P7/8/1PPPPPPP/RNBQKBNR b...</td>\n",
       "      <td>e7e5</td>\n",
       "      <td>0</td>\n",
       "    </tr>\n",
       "    <tr>\n",
       "      <th>1484405</th>\n",
       "      <td>2b2rk1/2r3n1/1q2pp1p/p2p2pP/1p1P2P1/1Pp1PN2/P1...</td>\n",
       "      <td>g8f7</td>\n",
       "      <td>1</td>\n",
       "    </tr>\n",
       "    <tr>\n",
       "      <th>305711</th>\n",
       "      <td>1r3rk1/p3Rp1p/2q3B1/2pp2Q1/3n3N/8/PP3PPP/R5K1 ...</td>\n",
       "      <td>f7g6</td>\n",
       "      <td>0</td>\n",
       "    </tr>\n",
       "  </tbody>\n",
       "</table>\n",
       "<p>2877214 rows × 3 columns</p>\n",
       "</div>"
      ],
      "text/plain": [
       "                                                  position  move  sentiment\n",
       "1483295  4rq2/pp5p/2p3k1/4B3/3p4/bP1P1NPB/2P5/3K1R2 b -...  h7h5          1\n",
       "2691851  2b5/2pp1kr1/r1n2qpp/1p2p3/1PPbPpNP/R2B1P2/3K2P...  f6d6          0\n",
       "641645   2b2k2/4nppp/pr6/2Q5/8/P7/1q3PPP/2R2RK1 w - - 1 22  c5c7          1\n",
       "462046   2b1r3/p4kb1/4ppN1/2pq2nP/4pPQ1/1P2P1R1/PBP3P1/...  f4g5          0\n",
       "2248513  1nbqkb2/2ppp1pr/r6n/pp3p1p/3PPP1P/1PP5/P5PR/RN...  a6b6          0\n",
       "...                                                    ...   ...        ...\n",
       "2249467  2brk2r/3pb1p1/1p2pq1n/P4P1p/1pQ1P1Pp/BP5B/R6R/...  h5g4          0\n",
       "963395   r1b2rk1/ppp3b1/5n2/2q2ppn/4p3/2N1P2P/PPQNBBP1/...  g2g4          1\n",
       "2215104  rnbqkbnr/pppppppp/8/8/P7/8/1PPPPPPP/RNBQKBNR b...  e7e5          0\n",
       "1484405  2b2rk1/2r3n1/1q2pp1p/p2p2pP/1p1P2P1/1Pp1PN2/P1...  g8f7          1\n",
       "305711   1r3rk1/p3Rp1p/2q3B1/2pp2Q1/3n3N/8/PP3PPP/R5K1 ...  f7g6          0\n",
       "\n",
       "[2877214 rows x 3 columns]"
      ]
     },
     "metadata": {},
     "output_type": "display_data"
    },
    {
     "data": {
      "text/html": [
       "<div>\n",
       "<style scoped>\n",
       "    .dataframe tbody tr th:only-of-type {\n",
       "        vertical-align: middle;\n",
       "    }\n",
       "\n",
       "    .dataframe tbody tr th {\n",
       "        vertical-align: top;\n",
       "    }\n",
       "\n",
       "    .dataframe thead th {\n",
       "        text-align: right;\n",
       "    }\n",
       "</style>\n",
       "<table border=\"1\" class=\"dataframe\">\n",
       "  <thead>\n",
       "    <tr style=\"text-align: right;\">\n",
       "      <th></th>\n",
       "      <th>position</th>\n",
       "      <th>move</th>\n",
       "      <th>sentiment</th>\n",
       "    </tr>\n",
       "  </thead>\n",
       "  <tbody>\n",
       "    <tr>\n",
       "      <th>2018817</th>\n",
       "      <td>r1b1k1nr/p1pp1pbp/1Qn5/4P1B1/1PP3P1/8/P2KPP1P/...</td>\n",
       "      <td>c6a5</td>\n",
       "      <td>0</td>\n",
       "    </tr>\n",
       "    <tr>\n",
       "      <th>463168</th>\n",
       "      <td>r4rk1/pp3ppp/1q6/3pP3/1P1n1P2/P2B1P2/5Q1P/2R2R...</td>\n",
       "      <td>f7f6</td>\n",
       "      <td>1</td>\n",
       "    </tr>\n",
       "    <tr>\n",
       "      <th>2774605</th>\n",
       "      <td>2r1kbr1/p3p1p1/b2Q1N2/1ppp2Pp/1q1P3N/2P2P2/4PK...</td>\n",
       "      <td>e7f6</td>\n",
       "      <td>0</td>\n",
       "    </tr>\n",
       "    <tr>\n",
       "      <th>2381725</th>\n",
       "      <td>rnb4r/1pppkppp/8/pN2pP2/1n1b3P/1P1P2q1/P1PKP1P...</td>\n",
       "      <td>c1b2</td>\n",
       "      <td>0</td>\n",
       "    </tr>\n",
       "    <tr>\n",
       "      <th>1706342</th>\n",
       "      <td>8/7p/1p2r1k1/2p5/6p1/P5Pq/1PP2P1P/4R1K1 w - - ...</td>\n",
       "      <td>e1e6</td>\n",
       "      <td>1</td>\n",
       "    </tr>\n",
       "    <tr>\n",
       "      <th>...</th>\n",
       "      <td>...</td>\n",
       "      <td>...</td>\n",
       "      <td>...</td>\n",
       "    </tr>\n",
       "    <tr>\n",
       "      <th>2239805</th>\n",
       "      <td>r1bq1b2/2p2krn/1p2p3/p2p1ppP/QPPnP3/3P1P1N/PB5...</td>\n",
       "      <td>g5g4</td>\n",
       "      <td>0</td>\n",
       "    </tr>\n",
       "    <tr>\n",
       "      <th>933141</th>\n",
       "      <td>5b1r/k3qp1p/b1nnpNp1/p2pP3/2pP4/B1P3Q1/P1B2PPP...</td>\n",
       "      <td>a3c5</td>\n",
       "      <td>1</td>\n",
       "    </tr>\n",
       "    <tr>\n",
       "      <th>68801</th>\n",
       "      <td>8/8/3k4/PP1p1p1b/3P1Pq1/2p1P3/2Q2KP1/8 w - - 1 43</td>\n",
       "      <td>a5a6</td>\n",
       "      <td>1</td>\n",
       "    </tr>\n",
       "    <tr>\n",
       "      <th>1100759</th>\n",
       "      <td>4r3/3k4/1ppB4/p2pPp2/P4N2/8/1P3K2/8 b - - 8 45</td>\n",
       "      <td>d5d4</td>\n",
       "      <td>1</td>\n",
       "    </tr>\n",
       "    <tr>\n",
       "      <th>1441824</th>\n",
       "      <td>3rk3/P3p2p/2p1N1p1/8/8/1P2P3/5PP1/6K1 b - - 3 3</td>\n",
       "      <td>d8d1</td>\n",
       "      <td>1</td>\n",
       "    </tr>\n",
       "  </tbody>\n",
       "</table>\n",
       "<p>29063 rows × 3 columns</p>\n",
       "</div>"
      ],
      "text/plain": [
       "                                                  position  move  sentiment\n",
       "2018817  r1b1k1nr/p1pp1pbp/1Qn5/4P1B1/1PP3P1/8/P2KPP1P/...  c6a5          0\n",
       "463168   r4rk1/pp3ppp/1q6/3pP3/1P1n1P2/P2B1P2/5Q1P/2R2R...  f7f6          1\n",
       "2774605  2r1kbr1/p3p1p1/b2Q1N2/1ppp2Pp/1q1P3N/2P2P2/4PK...  e7f6          0\n",
       "2381725  rnb4r/1pppkppp/8/pN2pP2/1n1b3P/1P1P2q1/P1PKP1P...  c1b2          0\n",
       "1706342  8/7p/1p2r1k1/2p5/6p1/P5Pq/1PP2P1P/4R1K1 w - - ...  e1e6          1\n",
       "...                                                    ...   ...        ...\n",
       "2239805  r1bq1b2/2p2krn/1p2p3/p2p1ppP/QPPnP3/3P1P1N/PB5...  g5g4          0\n",
       "933141   5b1r/k3qp1p/b1nnpNp1/p2pP3/2pP4/B1P3Q1/P1B2PPP...  a3c5          1\n",
       "68801    8/8/3k4/PP1p1p1b/3P1Pq1/2p1P3/2Q2KP1/8 w - - 1 43  a5a6          1\n",
       "1100759     4r3/3k4/1ppB4/p2pPp2/P4N2/8/1P3K2/8 b - - 8 45  d5d4          1\n",
       "1441824    3rk3/P3p2p/2p1N1p1/8/8/1P2P3/5PP1/6K1 b - - 3 3  d8d1          1\n",
       "\n",
       "[29063 rows x 3 columns]"
      ]
     },
     "metadata": {},
     "output_type": "display_data"
    }
   ],
   "source": [
    "train_df, test_df = train_test_split(classified_moves, test_size=0.01, random_state=0)\n",
    "display(train_df)\n",
    "display(test_df)"
   ]
  },
  {
   "cell_type": "code",
   "execution_count": 28,
   "metadata": {},
   "outputs": [],
   "source": [
    "train_dataset = MoveAsTensorDataset(train_df)\n",
    "test_dataset = MoveAsTensorDataset(test_df)"
   ]
  },
  {
   "cell_type": "code",
   "execution_count": 29,
   "metadata": {},
   "outputs": [],
   "source": [
    "class SentimateNet(nn.Module):\n",
    "    def __init__(self) -> None:\n",
    "        super().__init__()\n",
    "\n",
    "        self.conv_layers = nn.Sequential(\n",
    "            nn.Conv2d(26, 26, 5, padding='same'),\n",
    "            nn.Dropout(0.25),\n",
    "            nn.Conv2d(26, 26, 3, padding='same'),\n",
    "            nn.Flatten()\n",
    "        )\n",
    "\n",
    "        self.fc_layers = nn.Sequential(\n",
    "            nn.Dropout(0.25),\n",
    "            nn.Linear(8*8*26, 200),\n",
    "            nn.ELU(),\n",
    "            nn.Dropout(0.25),\n",
    "            nn.Linear(200, 100),\n",
    "            nn.ELU(),\n",
    "            nn.Dropout(0.25),\n",
    "            nn.Linear(100, 1)\n",
    "        )\n",
    "\n",
    "    def forward(self, x):\n",
    "        x = self.conv_layers(x)\n",
    "        x = self.fc_layers(x)\n",
    "        return x"
   ]
  },
  {
   "cell_type": "code",
   "execution_count": 65,
   "metadata": {},
   "outputs": [
    {
     "data": {
      "text/plain": [
       "SentimateNet(\n",
       "  (conv_layers): Sequential(\n",
       "    (0): Conv2d(26, 26, kernel_size=(5, 5), stride=(1, 1), padding=same)\n",
       "    (1): Dropout(p=0.25, inplace=False)\n",
       "    (2): Conv2d(26, 26, kernel_size=(3, 3), stride=(1, 1), padding=same)\n",
       "    (3): Flatten(start_dim=1, end_dim=-1)\n",
       "  )\n",
       "  (fc_layers): Sequential(\n",
       "    (0): Dropout(p=0.25, inplace=False)\n",
       "    (1): Linear(in_features=1664, out_features=200, bias=True)\n",
       "    (2): ELU(alpha=1.0)\n",
       "    (3): Dropout(p=0.25, inplace=False)\n",
       "    (4): Linear(in_features=200, out_features=100, bias=True)\n",
       "    (5): ELU(alpha=1.0)\n",
       "    (6): Dropout(p=0.25, inplace=False)\n",
       "    (7): Linear(in_features=100, out_features=1, bias=True)\n",
       "  )\n",
       ")"
      ]
     },
     "execution_count": 65,
     "metadata": {},
     "output_type": "execute_result"
    }
   ],
   "source": [
    "model = SentimateNet()\n",
    "model = model.to(device)\n",
    "# model = m)\n",
    "model"
   ]
  },
  {
   "cell_type": "code",
   "execution_count": 66,
   "metadata": {},
   "outputs": [],
   "source": [
    "optimizer = torch.optim.Adam(model.parameters(), lr=0.0001)"
   ]
  },
  {
   "cell_type": "code",
   "execution_count": 67,
   "metadata": {},
   "outputs": [],
   "source": [
    "train_loader = DataLoader(train_dataset, batch_size=4096)\n",
    "test_loader = DataLoader(test_dataset, batch_size=4096)"
   ]
  },
  {
   "cell_type": "code",
   "execution_count": 70,
   "metadata": {},
   "outputs": [
    {
     "name": "stdout",
     "output_type": "stream",
     "text": [
      "Test Error: Accuracy: 54.57%, Avg loss: 0.692054\n"
     ]
    }
   ],
   "source": [
    "# test_model(train_loader, model)\n",
    "test_model(test_loader, model)"
   ]
  },
  {
   "cell_type": "code",
   "execution_count": 71,
   "metadata": {},
   "outputs": [
    {
     "data": {
      "text/plain": [
       "703"
      ]
     },
     "execution_count": 71,
     "metadata": {},
     "output_type": "execute_result"
    }
   ],
   "source": [
    "len(train_loader)"
   ]
  },
  {
   "cell_type": "code",
   "execution_count": 72,
   "metadata": {},
   "outputs": [],
   "source": [
    "def join_lists(dict1, dict2):\n",
    "    result_dict = {}\n",
    "    for key in dict1.keys():\n",
    "        result_dict[key] = dict1[key] + dict2[key]\n",
    "    return result_dict"
   ]
  },
  {
   "cell_type": "code",
   "execution_count": 74,
   "metadata": {},
   "outputs": [
    {
     "name": "stdout",
     "output_type": "stream",
     "text": [
      "Epoch 1/40\n",
      "Train loss: 0.423889, accuracy: 81.73%\n",
      "Val loss:  0.408925, accuracy: 82.27%\n",
      "-----------------------------\n",
      "Epoch 2/40\n",
      "Train loss: 0.413652, accuracy: 82.12%\n",
      "Val loss:  0.406221, accuracy: 82.38%\n",
      "-----------------------------\n",
      "Epoch 3/40\n",
      "Train loss: 0.411244, accuracy: 82.19%\n",
      "Val loss:  0.404837, accuracy: 82.41%\n",
      "-----------------------------\n",
      "Epoch 4/40\n",
      "Train loss: 0.409779, accuracy: 82.25%\n",
      "Val loss:  0.403808, accuracy: 82.42%\n",
      "-----------------------------\n",
      "Epoch 5/40\n",
      "Train loss: 0.408356, accuracy: 82.31%\n",
      "Val loss:  0.402151, accuracy: 82.49%\n",
      "-----------------------------\n",
      "Epoch 6/40\n",
      "Train loss: 0.406519, accuracy: 82.40%\n",
      "Val loss:  0.399673, accuracy: 82.60%\n",
      "-----------------------------\n",
      "Epoch 7/40\n",
      "Train loss: 0.404006, accuracy: 82.53%\n",
      "Val loss:  0.396356, accuracy: 82.78%\n",
      "-----------------------------\n",
      "Epoch 8/40\n",
      "Train loss: 0.400729, accuracy: 82.70%\n",
      "Val loss:  0.391662, accuracy: 82.94%\n",
      "-----------------------------\n",
      "Epoch 9/40\n",
      "Train loss: 0.396951, accuracy: 82.89%\n",
      "Val loss:  0.387286, accuracy: 83.17%\n",
      "-----------------------------\n",
      "Epoch 10/40\n",
      "Train loss: 0.393336, accuracy: 83.06%\n",
      "Val loss:  0.383519, accuracy: 83.39%\n",
      "-----------------------------\n",
      "Epoch 11/40\n",
      "Train loss: 0.390039, accuracy: 83.23%\n",
      "Val loss:  0.380018, accuracy: 83.61%\n",
      "-----------------------------\n",
      "Epoch 12/40\n",
      "Train loss: 0.387043, accuracy: 83.38%\n",
      "Val loss:  0.377050, accuracy: 83.76%\n",
      "-----------------------------\n",
      "Epoch 13/40\n",
      "Train loss: 0.384298, accuracy: 83.49%\n",
      "Val loss:  0.374391, accuracy: 83.91%\n",
      "-----------------------------\n",
      "Epoch 14/40\n",
      "Train loss: 0.381930, accuracy: 83.62%\n",
      "Val loss:  0.372091, accuracy: 83.98%\n",
      "-----------------------------\n",
      "Epoch 15/40\n",
      "Train loss: 0.379906, accuracy: 83.71%\n",
      "Val loss:  0.370064, accuracy: 84.13%\n",
      "-----------------------------\n",
      "Epoch 16/40\n",
      "Train loss: 0.378143, accuracy: 83.78%\n",
      "Val loss:  0.368308, accuracy: 84.13%\n",
      "-----------------------------\n",
      "Epoch 17/40\n",
      "Train loss: 0.376757, accuracy: 83.84%\n",
      "Val loss:  0.366949, accuracy: 84.21%\n",
      "-----------------------------\n",
      "Epoch 18/40\n",
      "Train loss: 0.375452, accuracy: 83.90%\n",
      "Val loss:  0.365692, accuracy: 84.30%\n",
      "-----------------------------\n",
      "Epoch 19/40\n",
      "Train loss: 0.373916, accuracy: 83.96%\n",
      "Val loss:  0.364453, accuracy: 84.30%\n",
      "-----------------------------\n",
      "Epoch 20/40\n",
      "Train loss: 0.372899, accuracy: 84.01%\n",
      "Val loss:  0.363499, accuracy: 84.36%\n",
      "-----------------------------\n",
      "Epoch 21/40\n",
      "Train loss: 0.371718, accuracy: 84.05%\n",
      "Val loss:  0.362445, accuracy: 84.39%\n",
      "-----------------------------\n",
      "Epoch 22/40\n",
      "Train loss: 0.370739, accuracy: 84.09%\n",
      "Val loss:  0.361625, accuracy: 84.40%\n",
      "-----------------------------\n",
      "Epoch 23/40\n",
      "Train loss: 0.369953, accuracy: 84.12%\n",
      "Val loss:  0.360536, accuracy: 84.46%\n",
      "-----------------------------\n",
      "Epoch 24/40\n",
      "Train loss: 0.368934, accuracy: 84.16%\n",
      "Val loss:  0.359746, accuracy: 84.46%\n",
      "-----------------------------\n",
      "Epoch 25/40\n",
      "Train loss: 0.368257, accuracy: 84.19%\n",
      "Val loss:  0.359165, accuracy: 84.47%\n",
      "-----------------------------\n",
      "Epoch 26/40\n",
      "Train loss: 0.367387, accuracy: 84.21%\n",
      "Val loss:  0.358144, accuracy: 84.53%\n",
      "-----------------------------\n",
      "Epoch 27/40\n",
      "Train loss: 0.366764, accuracy: 84.25%\n",
      "Val loss:  0.357710, accuracy: 84.51%\n",
      "-----------------------------\n",
      "Epoch 28/40\n",
      "Train loss: 0.366027, accuracy: 84.27%\n",
      "Val loss:  0.356719, accuracy: 84.57%\n",
      "-----------------------------\n",
      "Epoch 29/40\n",
      "Train loss: 0.365523, accuracy: 84.29%\n",
      "Val loss:  0.356113, accuracy: 84.56%\n",
      "-----------------------------\n",
      "Epoch 30/40\n",
      "Train loss: 0.364859, accuracy: 84.33%\n",
      "Val loss:  0.355918, accuracy: 84.58%\n",
      "-----------------------------\n",
      "Epoch 31/40\n",
      "Train loss: 0.364294, accuracy: 84.34%\n",
      "Val loss:  0.355318, accuracy: 84.61%\n",
      "-----------------------------\n",
      "Epoch 32/40\n",
      "Train loss: 0.363828, accuracy: 84.36%\n",
      "Val loss:  0.354571, accuracy: 84.61%\n",
      "-----------------------------\n",
      "Epoch 33/40\n",
      "Train loss: 0.363319, accuracy: 84.37%\n",
      "Val loss:  0.354172, accuracy: 84.63%\n",
      "-----------------------------\n",
      "Epoch 34/40\n",
      "Train loss: 0.362990, accuracy: 84.40%\n",
      "Val loss:  0.354114, accuracy: 84.61%\n",
      "-----------------------------\n",
      "Epoch 35/40\n",
      "Train loss: 0.362477, accuracy: 84.40%\n",
      "Val loss:  0.353518, accuracy: 84.65%\n",
      "-----------------------------\n",
      "Epoch 36/40\n",
      "Train loss: 0.361884, accuracy: 84.42%\n",
      "Val loss:  0.353233, accuracy: 84.67%\n",
      "-----------------------------\n",
      "Epoch 37/40\n",
      "Train loss: 0.361569, accuracy: 84.43%\n",
      "Val loss:  0.352549, accuracy: 84.66%\n",
      "-----------------------------\n",
      "Epoch 38/40\n",
      "Train loss: 0.361233, accuracy: 84.44%\n",
      "Val loss:  0.352265, accuracy: 84.68%\n",
      "-----------------------------\n",
      "Epoch 39/40\n",
      "Train loss: 0.360851, accuracy: 84.45%\n",
      "Val loss:  0.352094, accuracy: 84.67%\n",
      "-----------------------------\n",
      "Epoch 40/40\n",
      "Train loss: 0.360448, accuracy: 84.47%\n",
      "Val loss:  0.351713, accuracy: 84.68%\n",
      "-----------------------------\n",
      "\n",
      "Loading best params on validation set (epoch 38, accuracy: 84.68%)\n",
      "\n"
     ]
    }
   ],
   "source": [
    "history = train_loop(train_loader, model, val_dataloader=test_loader, num_epochs=40, optimizer=optimizer, verbose=True)"
   ]
  },
  {
   "cell_type": "code",
   "execution_count": 75,
   "metadata": {},
   "outputs": [
    {
     "name": "stdout",
     "output_type": "stream",
     "text": [
      "Test Error: Accuracy: 84.68%, Avg loss: 0.352265\n"
     ]
    },
    {
     "data": {
      "image/png": "[encoded data removed]",
      "text/plain": [
       "<Figure size 1200x300 with 2 Axes>"
      ]
     },
     "metadata": {},
     "output_type": "display_data"
    }
   ],
   "source": [
    "test_model(test_loader, model)\n",
    "plot_history(history)"
   ]
  },
  {
   "cell_type": "code",
   "execution_count": 76,
   "metadata": {},
   "outputs": [
    {
     "data": {
      "text/plain": [
       "SentimateNet(\n",
       "  (conv_layers): Sequential(\n",
       "    (0): Conv2d(26, 26, kernel_size=(5, 5), stride=(1, 1), padding=same)\n",
       "    (1): Dropout(p=0.25, inplace=False)\n",
       "    (2): Conv2d(26, 26, kernel_size=(3, 3), stride=(1, 1), padding=same)\n",
       "    (3): Flatten(start_dim=1, end_dim=-1)\n",
       "  )\n",
       "  (fc_layers): Sequential(\n",
       "    (0): Dropout(p=0.25, inplace=False)\n",
       "    (1): Linear(in_features=1664, out_features=200, bias=True)\n",
       "    (2): ELU(alpha=1.0)\n",
       "    (3): Dropout(p=0.25, inplace=False)\n",
       "    (4): Linear(in_features=200, out_features=100, bias=True)\n",
       "    (5): ELU(alpha=1.0)\n",
       "    (6): Dropout(p=0.25, inplace=False)\n",
       "    (7): Linear(in_features=100, out_features=1, bias=True)\n",
       "  )\n",
       ")"
      ]
     },
     "execution_count": 76,
     "metadata": {},
     "output_type": "execute_result"
    }
   ],
   "source": [
    "model"
   ]
  },
  {
   "cell_type": "code",
   "execution_count": 77,
   "metadata": {},
   "outputs": [],
   "source": [
    "torch.save(model, \"../../models/Sentimate_good.model\")\n",
    "# model.load_state_dict(torch.load(\"../../models/Sentimate_bad.model\"))"
   ]
  },
  {
   "cell_type": "code",
   "execution_count": 22,
   "metadata": {},
   "outputs": [
    {
     "data": {
      "text/plain": [
       "SentimateNet(\n",
       "  (conv_layers): Sequential(\n",
       "    (0): Conv2d(26, 13, kernel_size=(5, 5), stride=(1, 1), padding=same)\n",
       "    (1): Dropout(p=0.25, inplace=False)\n",
       "    (2): Conv2d(13, 26, kernel_size=(3, 3), stride=(1, 1), padding=same)\n",
       "    (3): Flatten(start_dim=1, end_dim=-1)\n",
       "  )\n",
       "  (fc_layers): Sequential(\n",
       "    (0): Dropout(p=0.25, inplace=False)\n",
       "    (1): Linear(in_features=1664, out_features=200, bias=True)\n",
       "    (2): ELU(alpha=1.0)\n",
       "    (3): Dropout(p=0.25, inplace=False)\n",
       "    (4): Linear(in_features=200, out_features=100, bias=True)\n",
       "    (5): ELU(alpha=1.0)\n",
       "    (6): Dropout(p=0.25, inplace=False)\n",
       "    (7): Linear(in_features=100, out_features=1, bias=True)\n",
       "  )\n",
       ")"
      ]
     },
     "execution_count": 22,
     "metadata": {},
     "output_type": "execute_result"
    }
   ],
   "source": [
    "model = torch.load(\"../../models/Sentimate_bad.model\")\n",
    "model"
   ]
  },
  {
   "cell_type": "code",
   "execution_count": 23,
   "metadata": {},
   "outputs": [
    {
     "name": "stdout",
     "output_type": "stream",
     "text": [
      "Test Error: Accuracy: 69.13%, Avg loss: 0.594383\n",
      "Test Error: Accuracy: 58.04%, Avg loss: 0.684526\n"
     ]
    }
   ],
   "source": [
    "test_model(train_loader, model)\n",
    "test_model(test_loader, model)"
   ]
  },
  {
   "cell_type": "code",
   "execution_count": null,
   "metadata": {},
   "outputs": [],
   "source": [
    "class Agent:\n",
    "    def __init__(self) -> None:\n",
    "        pass\n",
    "\n",
    "    def play(self, board: chess.Board):\n",
    "        pass\n",
    "\n",
    "class ModelAgent(Agent):\n",
    "    def __init__(self, model) -> None:\n",
    "        super().__init__()\n",
    "        self.model = model\n",
    "        self.model_device = next(iter(model.parameters())).device\n",
    "        self.model_dtype = next(iter(model.parameters())).dtype\n",
    "\n",
    "    def batch_legal_moves(self, board: chess.Board):\n",
    "        move_tensors = [br.move_to_tensor(board.fen(), move) for move in board.legal_moves]\n",
    "        return torch.stack(move_tensors)\n",
    "\n",
    "    def play(self, board: chess.Board):\n",
    "        legal_moves = list(board.legal_moves)\n",
    "\n",
    "        if len(legal_moves) == 0:\n",
    "            return None\n",
    "        \n",
    "        batch_moves = self.batch_legal_moves(board).to(self.model_device, dtype=self.model_dtype)\n",
    "\n",
    "        model.eval()\n",
    "        with torch.inference_mode():\n",
    "            out = model(batch_moves)\n",
    "            best_move_ind = out.argmax().item()\n",
    "            best_move = list(board.legal_moves)[best_move_ind]\n",
    "\n",
    "            return best_move\n",
    "        \n",
    "class RandomAgent(Agent):\n",
    "    def __init__(self) -> None:\n",
    "        super().__init__()\n",
    "\n",
    "    def play(self, board: chess.Board):\n",
    "        legal_moves = list(board.legal_moves)\n",
    "\n",
    "        if len(legal_moves) == 0:\n",
    "            return None\n",
    "\n",
    "        random_move = random.choice(legal_moves)\n",
    "\n",
    "        return random_move"
   ]
  },
  {
   "cell_type": "code",
   "execution_count": 99,
   "metadata": {},
   "outputs": [],
   "source": [
    "from collections import Counter\n",
    "\n",
    "engine = chess.engine.SimpleEngine.popen_uci(\"stockfish\")\n",
    "\n",
    "def batch_legal_moves(board: chess.Board):\n",
    "    move_tensors = [br.move_to_tensor(board.fen(), move) for move in board.legal_moves]\n",
    "    return torch.stack(move_tensors)\n",
    "\n",
    "def model_best_move(board: chess.Board, model: nn.Module):\n",
    "    agent = ModelAgent(model)\n",
    "    return agent.play(board)\n",
    "    \n",
    "\n",
    "def compare_moves(board, move1, move2):\n",
    "    result1 = engine.analyse(board, chess.engine.Limit(time=0.2), root_moves=[move1])\n",
    "    result2 = engine.analyse(board, chess.engine.Limit(time=0.2), root_moves=[move2])\n",
    "    \n",
    "    if result1[\"score\"].relative > result2[\"score\"].relative:\n",
    "        return -1\n",
    "    elif result1[\"score\"].relative < result2[\"score\"].relative:\n",
    "        return 1\n",
    "    else:\n",
    "        return 0\n",
    "    \n",
    "def compare_model_to_random_agent(model: nn.Module, fens, random_moves_from_position = 1):\n",
    "    results = []\n",
    "    for fen in fens:\n",
    "        board = chess.Board(fen)\n",
    "\n",
    "        legal_moves = list(board.legal_moves)\n",
    "\n",
    "        model_move = model_best_move(board, model)\n",
    "\n",
    "        for _ in range(random_moves_from_position):\n",
    "            random_move = random.choice(legal_moves)\n",
    "            comparison = compare_moves(board, model_move, random_move)\n",
    "            results.append(comparison)\n",
    "\n",
    "    stats = Counter(results)\n",
    "\n",
    "    return {\"model_better\": stats[-1], \"random_better\": stats[1], \"draw\": stats[0]}"
   ]
  },
  {
   "cell_type": "code",
   "execution_count": 25,
   "metadata": {},
   "outputs": [
    {
     "data": {
      "text/plain": [
       "{'model_better': 276, 'random_better': 217, 'draw': 7}"
      ]
     },
     "execution_count": 25,
     "metadata": {},
     "output_type": "execute_result"
    }
   ],
   "source": [
    "#Old model (only gameknot, angelfire data)\n",
    "\n",
    "pos_to_test = list(test_df.position.sample(n = 500, random_state=0))\n",
    "compare_model_to_random_agent(model, pos_to_test)"
   ]
  },
  {
   "cell_type": "code",
   "execution_count": 100,
   "metadata": {},
   "outputs": [
    {
     "data": {
      "text/plain": [
       "{'model_better': 280, 'random_better': 194, 'draw': 26}"
      ]
     },
     "execution_count": 100,
     "metadata": {},
     "output_type": "execute_result"
    }
   ],
   "source": [
    "#Better model (chessbase, books, gameknot, angelfire, random moves)\n",
    "\n",
    "pos_to_test = list(test_df.position.sample(n = 500, random_state=0))\n",
    "compare_model_to_random_agent(model, pos_to_test)"
   ]
  },
  {
   "cell_type": "code",
   "execution_count": 35,
   "metadata": {},
   "outputs": [],
   "source": [
    "random_agent = RandomAgent()\n",
    "model_agent = ModelAgent(model)"
   ]
  },
  {
   "cell_type": "code",
   "execution_count": 92,
   "metadata": {},
   "outputs": [],
   "source": [
    "def play_game(white: Agent, black: Agent, n_moves = 40, verbose = False):\n",
    "    board = chess.Board()\n",
    "\n",
    "    if verbose:\n",
    "        display(board)\n",
    "\n",
    "    for i in range(n_moves):\n",
    "        for agent in [white, black]:\n",
    "            move = agent.play(board)\n",
    "\n",
    "            if move == None:\n",
    "                break\n",
    "\n",
    "            board.push(move)\n",
    "\n",
    "            if verbose:\n",
    "                display(board)\n",
    "\n",
    "    return board\n",
    "\n",
    "def simple_result(board, time = 1):\n",
    "    score = engine.analyse(board, chess.engine.Limit(time=time))['score'].white()\n",
    "\n",
    "    if score <= chess.engine.Cp(-10):\n",
    "        return -1\n",
    "    elif score < chess.engine.Cp(10):\n",
    "        return 0\n",
    "    return 1"
   ]
  },
  {
   "cell_type": "code",
   "execution_count": 80,
   "metadata": {},
   "outputs": [],
   "source": [
    "def test_agent(model_agent, n_games = 50, n_moves = 40, time = 1):\n",
    "    random_agent = RandomAgent()\n",
    "    results = []    \n",
    "\n",
    "    for game in range(n_games//2):\n",
    "        final_board = play_game(model_agent, random_agent, n_moves=40)\n",
    "        score = simple_result(final_board, time=time)\n",
    "        results.append(score)\n",
    "\n",
    "    for game in range(n_games//2):\n",
    "        final_board = play_game(random_agent, model_agent, n_moves=40)\n",
    "        score = -simple_result(final_board, time=time)\n",
    "        results.append(score)\n",
    "\n",
    "    stats = Counter(results)\n",
    "\n",
    "    return {\"model_better\": stats[1], \"random_better\": stats[-1], \"draw\": stats[0]}\n"
   ]
  },
  {
   "cell_type": "code",
   "execution_count": 63,
   "metadata": {},
   "outputs": [
    {
     "data": {
      "text/plain": [
       "{'model_better': 68, 'random_better': 30, 'draw': 2}"
      ]
     },
     "execution_count": 63,
     "metadata": {},
     "output_type": "execute_result"
    }
   ],
   "source": [
    "test_agent(model_agent, n_games=100)    "
   ]
  },
  {
   "cell_type": "code",
   "execution_count": 90,
   "metadata": {},
   "outputs": [],
   "source": [
    "random_agent = RandomAgent()\n",
    "model_agent = ModelAgent(model)"
   ]
  },
  {
   "cell_type": "code",
   "execution_count": 91,
   "metadata": {},
   "outputs": [
    {
     "data": {
      "text/plain": [
       "{'model_better': 78, 'random_better': 22, 'draw': 0}"
      ]
     },
     "execution_count": 91,
     "metadata": {},
     "output_type": "execute_result"
    }
   ],
   "source": [
    "test_agent(model_agent, n_games=100)"
   ]
  }
 ],
 "metadata": {
  "kernelspec": {
   "display_name": "Python 3",
   "language": "python",
   "name": "python3"
  },
  "language_info": {
   "codemirror_mode": {
    "name": "ipython",
    "version": 3
   },
   "file_extension": ".py",
   "mimetype": "text/x-python",
   "name": "python",
   "nbconvert_exporter": "python",
   "pygments_lexer": "ipython3",
   "version": "3.10.6"
  },
  "orig_nbformat": 4,
  "vscode": {
   "interpreter": {
    "hash": "916dbcbb3f70747c44a77c7bcd40155683ae19c65e1c03b4aa3499c5328201f1"
   }
  }
 },
 "nbformat": 4,
 "nbformat_minor": 2
}
