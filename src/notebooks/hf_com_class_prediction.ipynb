{
 "cells": [
  {
   "cell_type": "code",
   "execution_count": 1,
   "metadata": {},
   "outputs": [],
   "source": [
    "%reload_ext autoreload\n",
    "%autoreload 2"
   ]
  },
  {
   "cell_type": "code",
   "execution_count": 2,
   "metadata": {},
   "outputs": [],
   "source": [
    "import sys\n",
    "sys.path.append(\"..\")\n",
    "\n",
    "from torch.utils.data import DataLoader\n",
    "from datasets import Dataset, load_from_disk\n",
    "from transformers import AutoTokenizer, DataCollatorWithPadding\n",
    "from utils.utils import load_sql_to_df, save_to_sql\n",
    "import pytorch_lightning as pl\n",
    "from models.lightning import LitHuggingfaceClassifier\n",
    "import torch.nn as nn"
   ]
  },
  {
   "cell_type": "code",
   "execution_count": 3,
   "metadata": {},
   "outputs": [],
   "source": [
    "# checkpoint = \"google/flan-t5-small\"\n",
    "checkpoint = \"distilbert-base-multilingual-cased\"\n",
    "# checkpoint = \"bert-base-multilingual-uncased\"\n",
    "\n",
    "tokenizer = AutoTokenizer.from_pretrained(checkpoint)"
   ]
  },
  {
   "cell_type": "code",
   "execution_count": 15,
   "metadata": {},
   "outputs": [],
   "source": [
    "# model = AutoModelForSequenceClassification.from_pretrained(\"../../models/distillbert-12-18/distilbert-base-multilingual-cased/\")\n",
    "pl_model = LitHuggingfaceClassifier(\"../../models/distillbert-12-31/v1/epoch_2\")"
   ]
  },
  {
   "cell_type": "code",
   "execution_count": 5,
   "metadata": {},
   "outputs": [],
   "source": [
    "chess_database_file = \"../../data/chess_moves_comments_nags.db\"\n",
    "\n",
    "important_columns = [\"fen\", \"move\", \"comment\", \"color_comment\", \"sentiment\"]\n",
    "unlabeled_moves = load_sql_to_df(\"SELECT * FROM unlabeled_moves_with_comments\", chess_database_file)[important_columns]"
   ]
  },
  {
   "cell_type": "code",
   "execution_count": 6,
   "metadata": {},
   "outputs": [
    {
     "data": {
      "text/plain": [
       "Dataset({\n",
       "    features: ['fen', 'move', 'comment', 'color_comment', 'sentiment'],\n",
       "    num_rows: 2667624\n",
       "})"
      ]
     },
     "execution_count": 6,
     "metadata": {},
     "output_type": "execute_result"
    }
   ],
   "source": [
    "unlabeled_dataset = Dataset.from_pandas(unlabeled_moves)\n",
    "unlabeled_dataset"
   ]
  },
  {
   "cell_type": "code",
   "execution_count": 7,
   "metadata": {},
   "outputs": [],
   "source": [
    "tokenizer = AutoTokenizer.from_pretrained(checkpoint)\n",
    "\n",
    "def tokenize_function(example):\n",
    "    return tokenizer(example[\"color_comment\"], truncation=True)\n",
    "\n",
    "def sample_length_function(example):\n",
    "    example[\"length\"] = example[\"input_ids\"].shape[-1]\n",
    "    return example\n",
    "\n",
    "data_collator = DataCollatorWithPadding(tokenizer=tokenizer)\n"
   ]
  },
  {
   "cell_type": "code",
   "execution_count": 8,
   "metadata": {},
   "outputs": [
    {
     "data": {
      "application/vnd.jupyter.widget-view+json": {
       "model_id": "687dbeea53b944328489e1749cf5a0cb",
       "version_major": 2,
       "version_minor": 0
      },
      "text/plain": [
       "Map:   0%|          | 0/2667624 [00:00<?, ? examples/s]"
      ]
     },
     "metadata": {},
     "output_type": "display_data"
    }
   ],
   "source": [
    "\n",
    "unlabeled_tokenized_dataset = unlabeled_dataset.map(tokenize_function, batched=True)\n",
    "# unlabeled_tokenized_dataset.remove_columns([\"comment\", \"sentiment\"])\n",
    "unlabeled_tokenized_dataset.set_format(\"torch\")"
   ]
  },
  {
   "cell_type": "code",
   "execution_count": 9,
   "metadata": {},
   "outputs": [
    {
     "data": {
      "application/vnd.jupyter.widget-view+json": {
       "model_id": "703d9e751e0d4d73ae41566d6343ba36",
       "version_major": 2,
       "version_minor": 0
      },
      "text/plain": [
       "Map:   0%|          | 0/2667624 [00:00<?, ? examples/s]"
      ]
     },
     "metadata": {},
     "output_type": "display_data"
    }
   ],
   "source": [
    "unlabeled_tokenized_dataset = unlabeled_tokenized_dataset.map(sample_length_function, batched=False)\n",
    "unlabeled_tokenized_dataset = unlabeled_tokenized_dataset.sort(\"length\")"
   ]
  },
  {
   "cell_type": "code",
   "execution_count": 10,
   "metadata": {},
   "outputs": [
    {
     "data": {
      "application/vnd.jupyter.widget-view+json": {
       "model_id": "ec8bcd6ae04948f3a0656d258b824d9b",
       "version_major": 2,
       "version_minor": 0
      },
      "text/plain": [
       "Saving the dataset (0/3 shards):   0%|          | 0/2667624 [00:00<?, ? examples/s]"
      ]
     },
     "metadata": {},
     "output_type": "display_data"
    }
   ],
   "source": [
    "unlabeled_tokenized_dataset.save_to_disk(\"../../data/datasets/unlabeled_tokenized_dataset\")"
   ]
  },
  {
   "cell_type": "code",
   "execution_count": 11,
   "metadata": {},
   "outputs": [],
   "source": [
    "unlabeled_tokenized_dataset = Dataset.load_from_disk(\"../../data/datasets/unlabeled_tokenized_dataset\")"
   ]
  },
  {
   "cell_type": "code",
   "execution_count": 12,
   "metadata": {},
   "outputs": [
    {
     "data": {
      "text/plain": [
       "Dataset({\n",
       "    features: ['fen', 'move', 'comment', 'color_comment', 'sentiment', 'input_ids', 'attention_mask', 'length'],\n",
       "    num_rows: 2667624\n",
       "})"
      ]
     },
     "execution_count": 12,
     "metadata": {},
     "output_type": "execute_result"
    }
   ],
   "source": [
    "unlabeled_tokenized_dataset"
   ]
  },
  {
   "cell_type": "code",
   "execution_count": 13,
   "metadata": {},
   "outputs": [],
   "source": [
    "predict_dataset = unlabeled_tokenized_dataset.remove_columns([\"fen\", \"move\", \"comment\", \"color_comment\", \"length\", \"sentiment\"])"
   ]
  },
  {
   "cell_type": "code",
   "execution_count": 14,
   "metadata": {},
   "outputs": [
    {
     "ename": "ValueError",
     "evalue": "Column name labels not in the dataset. Current columns in the dataset: ['input_ids', 'attention_mask']",
     "output_type": "error",
     "traceback": [
      "\u001b[0;31m---------------------------------------------------------------------------\u001b[0m",
      "\u001b[0;31mValueError\u001b[0m                                Traceback (most recent call last)",
      "Cell \u001b[0;32mIn[14], line 1\u001b[0m\n\u001b[0;32m----> 1\u001b[0m predict_dataset \u001b[38;5;241m=\u001b[39m \u001b[43mpredict_dataset\u001b[49m\u001b[38;5;241;43m.\u001b[39;49m\u001b[43mremove_columns\u001b[49m\u001b[43m(\u001b[49m\u001b[43m[\u001b[49m\u001b[38;5;124;43m\"\u001b[39;49m\u001b[38;5;124;43mlabels\u001b[39;49m\u001b[38;5;124;43m\"\u001b[39;49m\u001b[43m]\u001b[49m\u001b[43m)\u001b[49m\n",
      "File \u001b[0;32m~/miniconda3/envs/thesis/lib/python3.11/site-packages/datasets/arrow_dataset.py:591\u001b[0m, in \u001b[0;36mtransmit_tasks.<locals>.wrapper\u001b[0;34m(*args, **kwargs)\u001b[0m\n\u001b[1;32m    589\u001b[0m     \u001b[38;5;28mself\u001b[39m: \u001b[38;5;124m\"\u001b[39m\u001b[38;5;124mDataset\u001b[39m\u001b[38;5;124m\"\u001b[39m \u001b[38;5;241m=\u001b[39m kwargs\u001b[38;5;241m.\u001b[39mpop(\u001b[38;5;124m\"\u001b[39m\u001b[38;5;124mself\u001b[39m\u001b[38;5;124m\"\u001b[39m)\n\u001b[1;32m    590\u001b[0m \u001b[38;5;66;03m# apply actual function\u001b[39;00m\n\u001b[0;32m--> 591\u001b[0m out: Union[\u001b[38;5;124m\"\u001b[39m\u001b[38;5;124mDataset\u001b[39m\u001b[38;5;124m\"\u001b[39m, \u001b[38;5;124m\"\u001b[39m\u001b[38;5;124mDatasetDict\u001b[39m\u001b[38;5;124m\"\u001b[39m] \u001b[38;5;241m=\u001b[39m \u001b[43mfunc\u001b[49m\u001b[43m(\u001b[49m\u001b[38;5;28;43mself\u001b[39;49m\u001b[43m,\u001b[49m\u001b[43m \u001b[49m\u001b[38;5;241;43m*\u001b[39;49m\u001b[43margs\u001b[49m\u001b[43m,\u001b[49m\u001b[43m \u001b[49m\u001b[38;5;241;43m*\u001b[39;49m\u001b[38;5;241;43m*\u001b[39;49m\u001b[43mkwargs\u001b[49m\u001b[43m)\u001b[49m\n\u001b[1;32m    592\u001b[0m datasets: List[\u001b[38;5;124m\"\u001b[39m\u001b[38;5;124mDataset\u001b[39m\u001b[38;5;124m\"\u001b[39m] \u001b[38;5;241m=\u001b[39m \u001b[38;5;28mlist\u001b[39m(out\u001b[38;5;241m.\u001b[39mvalues()) \u001b[38;5;28;01mif\u001b[39;00m \u001b[38;5;28misinstance\u001b[39m(out, \u001b[38;5;28mdict\u001b[39m) \u001b[38;5;28;01melse\u001b[39;00m [out]\n\u001b[1;32m    593\u001b[0m \u001b[38;5;28;01mfor\u001b[39;00m dataset \u001b[38;5;129;01min\u001b[39;00m datasets:\n\u001b[1;32m    594\u001b[0m     \u001b[38;5;66;03m# Remove task templates if a column mapping of the template is no longer valid\u001b[39;00m\n",
      "File \u001b[0;32m~/miniconda3/envs/thesis/lib/python3.11/site-packages/datasets/arrow_dataset.py:556\u001b[0m, in \u001b[0;36mtransmit_format.<locals>.wrapper\u001b[0;34m(*args, **kwargs)\u001b[0m\n\u001b[1;32m    549\u001b[0m self_format \u001b[38;5;241m=\u001b[39m {\n\u001b[1;32m    550\u001b[0m     \u001b[38;5;124m\"\u001b[39m\u001b[38;5;124mtype\u001b[39m\u001b[38;5;124m\"\u001b[39m: \u001b[38;5;28mself\u001b[39m\u001b[38;5;241m.\u001b[39m_format_type,\n\u001b[1;32m    551\u001b[0m     \u001b[38;5;124m\"\u001b[39m\u001b[38;5;124mformat_kwargs\u001b[39m\u001b[38;5;124m\"\u001b[39m: \u001b[38;5;28mself\u001b[39m\u001b[38;5;241m.\u001b[39m_format_kwargs,\n\u001b[1;32m    552\u001b[0m     \u001b[38;5;124m\"\u001b[39m\u001b[38;5;124mcolumns\u001b[39m\u001b[38;5;124m\"\u001b[39m: \u001b[38;5;28mself\u001b[39m\u001b[38;5;241m.\u001b[39m_format_columns,\n\u001b[1;32m    553\u001b[0m     \u001b[38;5;124m\"\u001b[39m\u001b[38;5;124moutput_all_columns\u001b[39m\u001b[38;5;124m\"\u001b[39m: \u001b[38;5;28mself\u001b[39m\u001b[38;5;241m.\u001b[39m_output_all_columns,\n\u001b[1;32m    554\u001b[0m }\n\u001b[1;32m    555\u001b[0m \u001b[38;5;66;03m# apply actual function\u001b[39;00m\n\u001b[0;32m--> 556\u001b[0m out: Union[\u001b[38;5;124m\"\u001b[39m\u001b[38;5;124mDataset\u001b[39m\u001b[38;5;124m\"\u001b[39m, \u001b[38;5;124m\"\u001b[39m\u001b[38;5;124mDatasetDict\u001b[39m\u001b[38;5;124m\"\u001b[39m] \u001b[38;5;241m=\u001b[39m \u001b[43mfunc\u001b[49m\u001b[43m(\u001b[49m\u001b[38;5;28;43mself\u001b[39;49m\u001b[43m,\u001b[49m\u001b[43m \u001b[49m\u001b[38;5;241;43m*\u001b[39;49m\u001b[43margs\u001b[49m\u001b[43m,\u001b[49m\u001b[43m \u001b[49m\u001b[38;5;241;43m*\u001b[39;49m\u001b[38;5;241;43m*\u001b[39;49m\u001b[43mkwargs\u001b[49m\u001b[43m)\u001b[49m\n\u001b[1;32m    557\u001b[0m datasets: List[\u001b[38;5;124m\"\u001b[39m\u001b[38;5;124mDataset\u001b[39m\u001b[38;5;124m\"\u001b[39m] \u001b[38;5;241m=\u001b[39m \u001b[38;5;28mlist\u001b[39m(out\u001b[38;5;241m.\u001b[39mvalues()) \u001b[38;5;28;01mif\u001b[39;00m \u001b[38;5;28misinstance\u001b[39m(out, \u001b[38;5;28mdict\u001b[39m) \u001b[38;5;28;01melse\u001b[39;00m [out]\n\u001b[1;32m    558\u001b[0m \u001b[38;5;66;03m# re-apply format to the output\u001b[39;00m\n",
      "File \u001b[0;32m~/miniconda3/envs/thesis/lib/python3.11/site-packages/datasets/fingerprint.py:511\u001b[0m, in \u001b[0;36mfingerprint_transform.<locals>._fingerprint.<locals>.wrapper\u001b[0;34m(*args, **kwargs)\u001b[0m\n\u001b[1;32m    507\u001b[0m             validate_fingerprint(kwargs[fingerprint_name])\n\u001b[1;32m    509\u001b[0m \u001b[38;5;66;03m# Call actual function\u001b[39;00m\n\u001b[0;32m--> 511\u001b[0m out \u001b[38;5;241m=\u001b[39m \u001b[43mfunc\u001b[49m\u001b[43m(\u001b[49m\u001b[43mdataset\u001b[49m\u001b[43m,\u001b[49m\u001b[43m \u001b[49m\u001b[38;5;241;43m*\u001b[39;49m\u001b[43margs\u001b[49m\u001b[43m,\u001b[49m\u001b[43m \u001b[49m\u001b[38;5;241;43m*\u001b[39;49m\u001b[38;5;241;43m*\u001b[39;49m\u001b[43mkwargs\u001b[49m\u001b[43m)\u001b[49m\n\u001b[1;32m    513\u001b[0m \u001b[38;5;66;03m# Update fingerprint of in-place transforms + update in-place history of transforms\u001b[39;00m\n\u001b[1;32m    515\u001b[0m \u001b[38;5;28;01mif\u001b[39;00m inplace:  \u001b[38;5;66;03m# update after calling func so that the fingerprint doesn't change if the function fails\u001b[39;00m\n",
      "File \u001b[0;32m~/miniconda3/envs/thesis/lib/python3.11/site-packages/datasets/arrow_dataset.py:2147\u001b[0m, in \u001b[0;36mDataset.remove_columns\u001b[0;34m(self, column_names, new_fingerprint)\u001b[0m\n\u001b[1;32m   2145\u001b[0m \u001b[38;5;28;01mfor\u001b[39;00m column_name \u001b[38;5;129;01min\u001b[39;00m column_names:\n\u001b[1;32m   2146\u001b[0m     \u001b[38;5;28;01mif\u001b[39;00m column_name \u001b[38;5;129;01mnot\u001b[39;00m \u001b[38;5;129;01min\u001b[39;00m dataset\u001b[38;5;241m.\u001b[39m_data\u001b[38;5;241m.\u001b[39mcolumn_names:\n\u001b[0;32m-> 2147\u001b[0m         \u001b[38;5;28;01mraise\u001b[39;00m \u001b[38;5;167;01mValueError\u001b[39;00m(\n\u001b[1;32m   2148\u001b[0m             \u001b[38;5;124mf\u001b[39m\u001b[38;5;124m\"\u001b[39m\u001b[38;5;124mColumn name \u001b[39m\u001b[38;5;132;01m{\u001b[39;00mcolumn_name\u001b[38;5;132;01m}\u001b[39;00m\u001b[38;5;124m not in the dataset. \u001b[39m\u001b[38;5;124m\"\u001b[39m\n\u001b[1;32m   2149\u001b[0m             \u001b[38;5;124mf\u001b[39m\u001b[38;5;124m\"\u001b[39m\u001b[38;5;124mCurrent columns in the dataset: \u001b[39m\u001b[38;5;132;01m{\u001b[39;00mdataset\u001b[38;5;241m.\u001b[39m_data\u001b[38;5;241m.\u001b[39mcolumn_names\u001b[38;5;132;01m}\u001b[39;00m\u001b[38;5;124m\"\u001b[39m\n\u001b[1;32m   2150\u001b[0m         )\n\u001b[1;32m   2152\u001b[0m \u001b[38;5;28;01mfor\u001b[39;00m column_name \u001b[38;5;129;01min\u001b[39;00m column_names:\n\u001b[1;32m   2153\u001b[0m     \u001b[38;5;28;01mdel\u001b[39;00m dataset\u001b[38;5;241m.\u001b[39m_info\u001b[38;5;241m.\u001b[39mfeatures[column_name]\n",
      "\u001b[0;31mValueError\u001b[0m: Column name labels not in the dataset. Current columns in the dataset: ['input_ids', 'attention_mask']"
     ]
    }
   ],
   "source": [
    "predict_dataset = predict_dataset.remove_columns([\"labels\"])"
   ]
  },
  {
   "cell_type": "code",
   "execution_count": 16,
   "metadata": {},
   "outputs": [
    {
     "name": "stderr",
     "output_type": "stream",
     "text": [
      "You're using a DistilBertTokenizerFast tokenizer. Please note that with a fast tokenizer, using the `__call__` method is faster than using a method to encode the text followed by a call to the `pad` method to get a padded encoding.\n"
     ]
    },
    {
     "name": "stdout",
     "output_type": "stream",
     "text": [
      "{'input_ids': tensor([[  101, 15263,   102,   102],\n",
      "        [  101, 15045,   102,   102],\n",
      "        [  101, 15045,   102,   102],\n",
      "        [  101, 15263,   102,   102],\n",
      "        [  101, 15045,   102,   102],\n",
      "        [  101, 15045,   102,   102],\n",
      "        [  101, 15045,   102,   102],\n",
      "        [  101, 15045,   102,   102],\n",
      "        [  101, 15263,   102,   102],\n",
      "        [  101, 15045,   102,   102],\n",
      "        [  101, 15263,   102,   102],\n",
      "        [  101, 15263,   102,   102],\n",
      "        [  101, 15045,   102,   102],\n",
      "        [  101, 15045,   102,   102],\n",
      "        [  101, 15045,   102,   102],\n",
      "        [  101, 15263,   102,   102]]), 'attention_mask': tensor([[1, 1, 1, 1],\n",
      "        [1, 1, 1, 1],\n",
      "        [1, 1, 1, 1],\n",
      "        [1, 1, 1, 1],\n",
      "        [1, 1, 1, 1],\n",
      "        [1, 1, 1, 1],\n",
      "        [1, 1, 1, 1],\n",
      "        [1, 1, 1, 1],\n",
      "        [1, 1, 1, 1],\n",
      "        [1, 1, 1, 1],\n",
      "        [1, 1, 1, 1],\n",
      "        [1, 1, 1, 1],\n",
      "        [1, 1, 1, 1],\n",
      "        [1, 1, 1, 1],\n",
      "        [1, 1, 1, 1],\n",
      "        [1, 1, 1, 1]])}\n"
     ]
    }
   ],
   "source": [
    "predict_dataloader = DataLoader(predict_dataset, collate_fn=data_collator, batch_size=16, shuffle=False)\n",
    "\n",
    "for batch in predict_dataloader:\n",
    "    print(batch)\n",
    "    break"
   ]
  },
  {
   "cell_type": "code",
   "execution_count": 18,
   "metadata": {},
   "outputs": [
    {
     "name": "stderr",
     "output_type": "stream",
     "text": [
      "GPU available: True (cuda), used: True\n",
      "TPU available: False, using: 0 TPU cores\n",
      "IPU available: False, using: 0 IPUs\n",
      "HPU available: False, using: 0 HPUs\n",
      "Missing logger folder: /home/kamil/Projects/Master-Thesis/src/notebooks/lightning_logs\n",
      "LOCAL_RANK: 0 - CUDA_VISIBLE_DEVICES: [0]\n",
      "/home/kamil/miniconda3/envs/thesis/lib/python3.11/site-packages/pytorch_lightning/trainer/connectors/data_connector.py:441: The 'predict_dataloader' does not have many workers which may be a bottleneck. Consider increasing the value of the `num_workers` argument` to `num_workers=15` in the `DataLoader` to improve performance.\n"
     ]
    },
    {
     "data": {
      "application/vnd.jupyter.widget-view+json": {
       "model_id": "161d1f3d91d040b5989129bd04575059",
       "version_major": 2,
       "version_minor": 0
      },
      "text/plain": [
       "Predicting: |          | 0/? [00:00<?, ?it/s]"
      ]
     },
     "metadata": {},
     "output_type": "display_data"
    }
   ],
   "source": [
    "trainer = pl.Trainer(\n",
    "    accelerator=\"gpu\",\n",
    ")\n",
    "\n",
    "prediction = trainer.predict(pl_model, dataloaders=predict_dataloader)"
   ]
  },
  {
   "cell_type": "code",
   "execution_count": 19,
   "metadata": {},
   "outputs": [],
   "source": [
    "flatten_predictions = [value.item() for batch in prediction for value in batch]"
   ]
  },
  {
   "cell_type": "code",
   "execution_count": 20,
   "metadata": {},
   "outputs": [],
   "source": [
    "predictions_dataset = unlabeled_tokenized_dataset.add_column(\"prediction\", flatten_predictions)"
   ]
  },
  {
   "cell_type": "code",
   "execution_count": 21,
   "metadata": {},
   "outputs": [
    {
     "data": {
      "application/vnd.jupyter.widget-view+json": {
       "model_id": "3c7665ff848048e19b13e3eddb927dac",
       "version_major": 2,
       "version_minor": 0
      },
      "text/plain": [
       "Saving the dataset (0/3 shards):   0%|          | 0/2667624 [00:00<?, ? examples/s]"
      ]
     },
     "metadata": {},
     "output_type": "display_data"
    }
   ],
   "source": [
    "predictions_dataset.save_to_disk(\"../../data/datasets/predictions_dataset\")"
   ]
  },
  {
   "cell_type": "code",
   "execution_count": 22,
   "metadata": {},
   "outputs": [
    {
     "data": {
      "text/plain": [
       "Dataset({\n",
       "    features: ['fen', 'move', 'comment', 'color_comment', 'sentiment', 'input_ids', 'attention_mask', 'length', 'prediction'],\n",
       "    num_rows: 2667624\n",
       "})"
      ]
     },
     "execution_count": 22,
     "metadata": {},
     "output_type": "execute_result"
    }
   ],
   "source": [
    "predictions_dataset"
   ]
  },
  {
   "cell_type": "code",
   "execution_count": 23,
   "metadata": {},
   "outputs": [],
   "source": [
    "predictions_df = predictions_dataset.to_pandas()\n",
    "predictions_df = predictions_df[predictions_df.length > 2]"
   ]
  },
  {
   "cell_type": "code",
   "execution_count": 25,
   "metadata": {},
   "outputs": [
    {
     "data": {
      "text/html": [
       "<div>\n",
       "<style scoped>\n",
       "    .dataframe tbody tr th:only-of-type {\n",
       "        vertical-align: middle;\n",
       "    }\n",
       "\n",
       "    .dataframe tbody tr th {\n",
       "        vertical-align: top;\n",
       "    }\n",
       "\n",
       "    .dataframe thead th {\n",
       "        text-align: right;\n",
       "    }\n",
       "</style>\n",
       "<table border=\"1\" class=\"dataframe\">\n",
       "  <thead>\n",
       "    <tr style=\"text-align: right;\">\n",
       "      <th></th>\n",
       "      <th>fen</th>\n",
       "      <th>move</th>\n",
       "      <th>comment</th>\n",
       "      <th>color_comment</th>\n",
       "      <th>sentiment</th>\n",
       "      <th>input_ids</th>\n",
       "      <th>attention_mask</th>\n",
       "      <th>length</th>\n",
       "      <th>prediction</th>\n",
       "    </tr>\n",
       "  </thead>\n",
       "  <tbody>\n",
       "    <tr>\n",
       "      <th>0</th>\n",
       "      <td>r1b1rb1k/pppp1ppB/2n2q1p/4p3/2P5/P3PN2/1PQP1PP...</td>\n",
       "      <td>h7e4</td>\n",
       "      <td></td>\n",
       "      <td>white [SEP] </td>\n",
       "      <td>-1</td>\n",
       "      <td>[101, 15263, 102, 102]</td>\n",
       "      <td>[1, 1, 1, 1]</td>\n",
       "      <td>4</td>\n",
       "      <td>1</td>\n",
       "    </tr>\n",
       "    <tr>\n",
       "      <th>1</th>\n",
       "      <td>1Nkr4/p3b1pp/1p3p2/2p5/4PB2/2P4N/PP2K1PP/8 b -...</td>\n",
       "      <td>c8b7</td>\n",
       "      <td></td>\n",
       "      <td>black [SEP] </td>\n",
       "      <td>-1</td>\n",
       "      <td>[101, 15045, 102, 102]</td>\n",
       "      <td>[1, 1, 1, 1]</td>\n",
       "      <td>4</td>\n",
       "      <td>1</td>\n",
       "    </tr>\n",
       "    <tr>\n",
       "      <th>2</th>\n",
       "      <td>3r1rk1/1pp3pp/p7/3n2q1/1P2P1P1/P2P1pP1/1BQ2P2/...</td>\n",
       "      <td>d5f6</td>\n",
       "      <td></td>\n",
       "      <td>black [SEP] </td>\n",
       "      <td>-1</td>\n",
       "      <td>[101, 15045, 102, 102]</td>\n",
       "      <td>[1, 1, 1, 1]</td>\n",
       "      <td>4</td>\n",
       "      <td>1</td>\n",
       "    </tr>\n",
       "    <tr>\n",
       "      <th>3</th>\n",
       "      <td>1r1q1rk1/4nppp/3pb3/p3p3/R1B1P3/1PP1N3/5PPP/3Q...</td>\n",
       "      <td>e1g1</td>\n",
       "      <td></td>\n",
       "      <td>white [SEP] </td>\n",
       "      <td>-1</td>\n",
       "      <td>[101, 15263, 102, 102]</td>\n",
       "      <td>[1, 1, 1, 1]</td>\n",
       "      <td>4</td>\n",
       "      <td>1</td>\n",
       "    </tr>\n",
       "    <tr>\n",
       "      <th>4</th>\n",
       "      <td>3r1rk1/1pp1qppp/p1n5/3np2b/1P6/P2PPN1P/1BQ1BPP...</td>\n",
       "      <td>f7f6</td>\n",
       "      <td></td>\n",
       "      <td>black [SEP] </td>\n",
       "      <td>-1</td>\n",
       "      <td>[101, 15045, 102, 102]</td>\n",
       "      <td>[1, 1, 1, 1]</td>\n",
       "      <td>4</td>\n",
       "      <td>1</td>\n",
       "    </tr>\n",
       "    <tr>\n",
       "      <th>...</th>\n",
       "      <td>...</td>\n",
       "      <td>...</td>\n",
       "      <td>...</td>\n",
       "      <td>...</td>\n",
       "      <td>...</td>\n",
       "      <td>...</td>\n",
       "      <td>...</td>\n",
       "      <td>...</td>\n",
       "      <td>...</td>\n",
       "    </tr>\n",
       "    <tr>\n",
       "      <th>2667619</th>\n",
       "      <td>r1bqkbnr/pp1ppp1p/2n3p1/8/3NP3/8/PPP2PPP/RNBQK...</td>\n",
       "      <td>c2c4</td>\n",
       "      <td>Este es la Estructura Lazo de Marï¿½czy -o ten...</td>\n",
       "      <td>white [SEP] Este es la Estructura Lazo de Marï...</td>\n",
       "      <td>-1</td>\n",
       "      <td>[101, 15263, 102, 12515, 10196, 10109, 15596, ...</td>\n",
       "      <td>[1, 1, 1, 1, 1, 1, 1, 1, 1, 1, 1, 1, 1, 1, 1, ...</td>\n",
       "      <td>512</td>\n",
       "      <td>1</td>\n",
       "    </tr>\n",
       "    <tr>\n",
       "      <th>2667620</th>\n",
       "      <td>r1bqkbnr/pp1ppp1p/2n3p1/8/3NP3/8/PPP2PPP/RNBQK...</td>\n",
       "      <td>c2c4</td>\n",
       "      <td>Este es la Estructura Lazo de Marï¿½czy -o ten...</td>\n",
       "      <td>white [SEP] Este es la Estructura Lazo de Marï...</td>\n",
       "      <td>-1</td>\n",
       "      <td>[101, 15263, 102, 12515, 10196, 10109, 15596, ...</td>\n",
       "      <td>[1, 1, 1, 1, 1, 1, 1, 1, 1, 1, 1, 1, 1, 1, 1, ...</td>\n",
       "      <td>512</td>\n",
       "      <td>1</td>\n",
       "    </tr>\n",
       "    <tr>\n",
       "      <th>2667621</th>\n",
       "      <td>r1bqkbnr/pp1ppp1p/2n3p1/8/3NP3/8/PPP2PPP/RNBQK...</td>\n",
       "      <td>c2c4</td>\n",
       "      <td>Este es la Estructura Lazo de Marï¿½czy -o ten...</td>\n",
       "      <td>white [SEP] Este es la Estructura Lazo de Marï...</td>\n",
       "      <td>-1</td>\n",
       "      <td>[101, 15263, 102, 12515, 10196, 10109, 15596, ...</td>\n",
       "      <td>[1, 1, 1, 1, 1, 1, 1, 1, 1, 1, 1, 1, 1, 1, 1, ...</td>\n",
       "      <td>512</td>\n",
       "      <td>1</td>\n",
       "    </tr>\n",
       "    <tr>\n",
       "      <th>2667622</th>\n",
       "      <td>r1bqkbnr/pp1ppp1p/2n3p1/8/3NP3/8/PPP2PPP/RNBQK...</td>\n",
       "      <td>c2c4</td>\n",
       "      <td>Este es la Estructura Lazo de Marï¿½czy -o ten...</td>\n",
       "      <td>white [SEP] Este es la Estructura Lazo de Marï...</td>\n",
       "      <td>-1</td>\n",
       "      <td>[101, 15263, 102, 12515, 10196, 10109, 15596, ...</td>\n",
       "      <td>[1, 1, 1, 1, 1, 1, 1, 1, 1, 1, 1, 1, 1, 1, 1, ...</td>\n",
       "      <td>512</td>\n",
       "      <td>1</td>\n",
       "    </tr>\n",
       "    <tr>\n",
       "      <th>2667623</th>\n",
       "      <td>r1bqkbnr/pp1ppp1p/2n3p1/8/3NP3/8/PPP2PPP/RNBQK...</td>\n",
       "      <td>c2c4</td>\n",
       "      <td>Este es la Estructura Lazo de Marï¿½czy -o ten...</td>\n",
       "      <td>white [SEP] Este es la Estructura Lazo de Marï...</td>\n",
       "      <td>-1</td>\n",
       "      <td>[101, 15263, 102, 12515, 10196, 10109, 15596, ...</td>\n",
       "      <td>[1, 1, 1, 1, 1, 1, 1, 1, 1, 1, 1, 1, 1, 1, 1, ...</td>\n",
       "      <td>512</td>\n",
       "      <td>1</td>\n",
       "    </tr>\n",
       "  </tbody>\n",
       "</table>\n",
       "<p>2667624 rows × 9 columns</p>\n",
       "</div>"
      ],
      "text/plain": [
       "                                                       fen  move  \\\n",
       "0        r1b1rb1k/pppp1ppB/2n2q1p/4p3/2P5/P3PN2/1PQP1PP...  h7e4   \n",
       "1        1Nkr4/p3b1pp/1p3p2/2p5/4PB2/2P4N/PP2K1PP/8 b -...  c8b7   \n",
       "2        3r1rk1/1pp3pp/p7/3n2q1/1P2P1P1/P2P1pP1/1BQ2P2/...  d5f6   \n",
       "3        1r1q1rk1/4nppp/3pb3/p3p3/R1B1P3/1PP1N3/5PPP/3Q...  e1g1   \n",
       "4        3r1rk1/1pp1qppp/p1n5/3np2b/1P6/P2PPN1P/1BQ1BPP...  f7f6   \n",
       "...                                                    ...   ...   \n",
       "2667619  r1bqkbnr/pp1ppp1p/2n3p1/8/3NP3/8/PPP2PPP/RNBQK...  c2c4   \n",
       "2667620  r1bqkbnr/pp1ppp1p/2n3p1/8/3NP3/8/PPP2PPP/RNBQK...  c2c4   \n",
       "2667621  r1bqkbnr/pp1ppp1p/2n3p1/8/3NP3/8/PPP2PPP/RNBQK...  c2c4   \n",
       "2667622  r1bqkbnr/pp1ppp1p/2n3p1/8/3NP3/8/PPP2PPP/RNBQK...  c2c4   \n",
       "2667623  r1bqkbnr/pp1ppp1p/2n3p1/8/3NP3/8/PPP2PPP/RNBQK...  c2c4   \n",
       "\n",
       "                                                   comment  \\\n",
       "0                                                           \n",
       "1                                                           \n",
       "2                                                           \n",
       "3                                                           \n",
       "4                                                           \n",
       "...                                                    ...   \n",
       "2667619  Este es la Estructura Lazo de Marï¿½czy -o ten...   \n",
       "2667620  Este es la Estructura Lazo de Marï¿½czy -o ten...   \n",
       "2667621  Este es la Estructura Lazo de Marï¿½czy -o ten...   \n",
       "2667622  Este es la Estructura Lazo de Marï¿½czy -o ten...   \n",
       "2667623  Este es la Estructura Lazo de Marï¿½czy -o ten...   \n",
       "\n",
       "                                             color_comment  sentiment  \\\n",
       "0                                            white [SEP]          -1   \n",
       "1                                            black [SEP]          -1   \n",
       "2                                            black [SEP]          -1   \n",
       "3                                            white [SEP]          -1   \n",
       "4                                            black [SEP]          -1   \n",
       "...                                                    ...        ...   \n",
       "2667619  white [SEP] Este es la Estructura Lazo de Marï...         -1   \n",
       "2667620  white [SEP] Este es la Estructura Lazo de Marï...         -1   \n",
       "2667621  white [SEP] Este es la Estructura Lazo de Marï...         -1   \n",
       "2667622  white [SEP] Este es la Estructura Lazo de Marï...         -1   \n",
       "2667623  white [SEP] Este es la Estructura Lazo de Marï...         -1   \n",
       "\n",
       "                                                 input_ids  \\\n",
       "0                                   [101, 15263, 102, 102]   \n",
       "1                                   [101, 15045, 102, 102]   \n",
       "2                                   [101, 15045, 102, 102]   \n",
       "3                                   [101, 15263, 102, 102]   \n",
       "4                                   [101, 15045, 102, 102]   \n",
       "...                                                    ...   \n",
       "2667619  [101, 15263, 102, 12515, 10196, 10109, 15596, ...   \n",
       "2667620  [101, 15263, 102, 12515, 10196, 10109, 15596, ...   \n",
       "2667621  [101, 15263, 102, 12515, 10196, 10109, 15596, ...   \n",
       "2667622  [101, 15263, 102, 12515, 10196, 10109, 15596, ...   \n",
       "2667623  [101, 15263, 102, 12515, 10196, 10109, 15596, ...   \n",
       "\n",
       "                                            attention_mask  length  prediction  \n",
       "0                                             [1, 1, 1, 1]       4           1  \n",
       "1                                             [1, 1, 1, 1]       4           1  \n",
       "2                                             [1, 1, 1, 1]       4           1  \n",
       "3                                             [1, 1, 1, 1]       4           1  \n",
       "4                                             [1, 1, 1, 1]       4           1  \n",
       "...                                                    ...     ...         ...  \n",
       "2667619  [1, 1, 1, 1, 1, 1, 1, 1, 1, 1, 1, 1, 1, 1, 1, ...     512           1  \n",
       "2667620  [1, 1, 1, 1, 1, 1, 1, 1, 1, 1, 1, 1, 1, 1, 1, ...     512           1  \n",
       "2667621  [1, 1, 1, 1, 1, 1, 1, 1, 1, 1, 1, 1, 1, 1, 1, ...     512           1  \n",
       "2667622  [1, 1, 1, 1, 1, 1, 1, 1, 1, 1, 1, 1, 1, 1, 1, ...     512           1  \n",
       "2667623  [1, 1, 1, 1, 1, 1, 1, 1, 1, 1, 1, 1, 1, 1, 1, ...     512           1  \n",
       "\n",
       "[2667624 rows x 9 columns]"
      ]
     },
     "execution_count": 25,
     "metadata": {},
     "output_type": "execute_result"
    }
   ],
   "source": [
    "predictions_df"
   ]
  },
  {
   "cell_type": "code",
   "execution_count": 27,
   "metadata": {},
   "outputs": [],
   "source": [
    "predictions_df_to_save = predictions_df[predictions_df.length > 4][[\"fen\", \"move\", \"comment\", \"color_comment\", \"prediction\"]]\n",
    "predictions_df_to_save = predictions_df_to_save.rename(columns={\"prediction\": \"sentiment\"})"
   ]
  },
  {
   "cell_type": "code",
   "execution_count": 28,
   "metadata": {},
   "outputs": [
    {
     "data": {
      "text/html": [
       "<div>\n",
       "<style scoped>\n",
       "    .dataframe tbody tr th:only-of-type {\n",
       "        vertical-align: middle;\n",
       "    }\n",
       "\n",
       "    .dataframe tbody tr th {\n",
       "        vertical-align: top;\n",
       "    }\n",
       "\n",
       "    .dataframe thead th {\n",
       "        text-align: right;\n",
       "    }\n",
       "</style>\n",
       "<table border=\"1\" class=\"dataframe\">\n",
       "  <thead>\n",
       "    <tr style=\"text-align: right;\">\n",
       "      <th></th>\n",
       "      <th>fen</th>\n",
       "      <th>move</th>\n",
       "      <th>comment</th>\n",
       "      <th>color_comment</th>\n",
       "      <th>sentiment</th>\n",
       "    </tr>\n",
       "  </thead>\n",
       "  <tbody>\n",
       "    <tr>\n",
       "      <th>96</th>\n",
       "      <td>r2qkb1r/1p1b1ppp/p1nppn2/6B1/B3P3/2PQ1N2/PP3PP...</td>\n",
       "      <td>f8e7</td>\n",
       "      <td>N</td>\n",
       "      <td>black [SEP] N</td>\n",
       "      <td>1</td>\n",
       "    </tr>\n",
       "    <tr>\n",
       "      <th>97</th>\n",
       "      <td>r1b1k2r/ppp1nppp/5q2/2bpn3/3NP3/2P1B3/PP2BPPP/...</td>\n",
       "      <td>e8g8</td>\n",
       "      <td>N</td>\n",
       "      <td>black [SEP] N</td>\n",
       "      <td>1</td>\n",
       "    </tr>\n",
       "    <tr>\n",
       "      <th>98</th>\n",
       "      <td>3qr1k1/1br1bpp1/p4n1p/1p1pNR2/3P3B/P1N1P3/1P2Q...</td>\n",
       "      <td>b7c8</td>\n",
       "      <td>#</td>\n",
       "      <td>black [SEP] #</td>\n",
       "      <td>1</td>\n",
       "    </tr>\n",
       "    <tr>\n",
       "      <th>99</th>\n",
       "      <td>rnb4r/pp1pk1bp/1qpN1pp1/8/3P4/5N2/PPP2PPP/1R1Q...</td>\n",
       "      <td>d6c4</td>\n",
       "      <td>@</td>\n",
       "      <td>white [SEP] @</td>\n",
       "      <td>1</td>\n",
       "    </tr>\n",
       "    <tr>\n",
       "      <th>100</th>\n",
       "      <td>r4rk1/ppp1npb1/6pp/q2Pp3/2P5/1P2B2P/P3NPP1/R2Q...</td>\n",
       "      <td>d1d2</td>\n",
       "      <td>M</td>\n",
       "      <td>white [SEP] M</td>\n",
       "      <td>1</td>\n",
       "    </tr>\n",
       "    <tr>\n",
       "      <th>...</th>\n",
       "      <td>...</td>\n",
       "      <td>...</td>\n",
       "      <td>...</td>\n",
       "      <td>...</td>\n",
       "      <td>...</td>\n",
       "    </tr>\n",
       "    <tr>\n",
       "      <th>2667619</th>\n",
       "      <td>r1bqkbnr/pp1ppp1p/2n3p1/8/3NP3/8/PPP2PPP/RNBQK...</td>\n",
       "      <td>c2c4</td>\n",
       "      <td>Este es la Estructura Lazo de Marï¿½czy -o ten...</td>\n",
       "      <td>white [SEP] Este es la Estructura Lazo de Marï...</td>\n",
       "      <td>1</td>\n",
       "    </tr>\n",
       "    <tr>\n",
       "      <th>2667620</th>\n",
       "      <td>r1bqkbnr/pp1ppp1p/2n3p1/8/3NP3/8/PPP2PPP/RNBQK...</td>\n",
       "      <td>c2c4</td>\n",
       "      <td>Este es la Estructura Lazo de Marï¿½czy -o ten...</td>\n",
       "      <td>white [SEP] Este es la Estructura Lazo de Marï...</td>\n",
       "      <td>1</td>\n",
       "    </tr>\n",
       "    <tr>\n",
       "      <th>2667621</th>\n",
       "      <td>r1bqkbnr/pp1ppp1p/2n3p1/8/3NP3/8/PPP2PPP/RNBQK...</td>\n",
       "      <td>c2c4</td>\n",
       "      <td>Este es la Estructura Lazo de Marï¿½czy -o ten...</td>\n",
       "      <td>white [SEP] Este es la Estructura Lazo de Marï...</td>\n",
       "      <td>1</td>\n",
       "    </tr>\n",
       "    <tr>\n",
       "      <th>2667622</th>\n",
       "      <td>r1bqkbnr/pp1ppp1p/2n3p1/8/3NP3/8/PPP2PPP/RNBQK...</td>\n",
       "      <td>c2c4</td>\n",
       "      <td>Este es la Estructura Lazo de Marï¿½czy -o ten...</td>\n",
       "      <td>white [SEP] Este es la Estructura Lazo de Marï...</td>\n",
       "      <td>1</td>\n",
       "    </tr>\n",
       "    <tr>\n",
       "      <th>2667623</th>\n",
       "      <td>r1bqkbnr/pp1ppp1p/2n3p1/8/3NP3/8/PPP2PPP/RNBQK...</td>\n",
       "      <td>c2c4</td>\n",
       "      <td>Este es la Estructura Lazo de Marï¿½czy -o ten...</td>\n",
       "      <td>white [SEP] Este es la Estructura Lazo de Marï...</td>\n",
       "      <td>1</td>\n",
       "    </tr>\n",
       "  </tbody>\n",
       "</table>\n",
       "<p>2667528 rows × 5 columns</p>\n",
       "</div>"
      ],
      "text/plain": [
       "                                                       fen  move  \\\n",
       "96       r2qkb1r/1p1b1ppp/p1nppn2/6B1/B3P3/2PQ1N2/PP3PP...  f8e7   \n",
       "97       r1b1k2r/ppp1nppp/5q2/2bpn3/3NP3/2P1B3/PP2BPPP/...  e8g8   \n",
       "98       3qr1k1/1br1bpp1/p4n1p/1p1pNR2/3P3B/P1N1P3/1P2Q...  b7c8   \n",
       "99       rnb4r/pp1pk1bp/1qpN1pp1/8/3P4/5N2/PPP2PPP/1R1Q...  d6c4   \n",
       "100      r4rk1/ppp1npb1/6pp/q2Pp3/2P5/1P2B2P/P3NPP1/R2Q...  d1d2   \n",
       "...                                                    ...   ...   \n",
       "2667619  r1bqkbnr/pp1ppp1p/2n3p1/8/3NP3/8/PPP2PPP/RNBQK...  c2c4   \n",
       "2667620  r1bqkbnr/pp1ppp1p/2n3p1/8/3NP3/8/PPP2PPP/RNBQK...  c2c4   \n",
       "2667621  r1bqkbnr/pp1ppp1p/2n3p1/8/3NP3/8/PPP2PPP/RNBQK...  c2c4   \n",
       "2667622  r1bqkbnr/pp1ppp1p/2n3p1/8/3NP3/8/PPP2PPP/RNBQK...  c2c4   \n",
       "2667623  r1bqkbnr/pp1ppp1p/2n3p1/8/3NP3/8/PPP2PPP/RNBQK...  c2c4   \n",
       "\n",
       "                                                   comment  \\\n",
       "96                                                       N   \n",
       "97                                                       N   \n",
       "98                                                       #   \n",
       "99                                                       @   \n",
       "100                                                      M   \n",
       "...                                                    ...   \n",
       "2667619  Este es la Estructura Lazo de Marï¿½czy -o ten...   \n",
       "2667620  Este es la Estructura Lazo de Marï¿½czy -o ten...   \n",
       "2667621  Este es la Estructura Lazo de Marï¿½czy -o ten...   \n",
       "2667622  Este es la Estructura Lazo de Marï¿½czy -o ten...   \n",
       "2667623  Este es la Estructura Lazo de Marï¿½czy -o ten...   \n",
       "\n",
       "                                             color_comment  sentiment  \n",
       "96                                           black [SEP] N          1  \n",
       "97                                           black [SEP] N          1  \n",
       "98                                           black [SEP] #          1  \n",
       "99                                           white [SEP] @          1  \n",
       "100                                          white [SEP] M          1  \n",
       "...                                                    ...        ...  \n",
       "2667619  white [SEP] Este es la Estructura Lazo de Marï...          1  \n",
       "2667620  white [SEP] Este es la Estructura Lazo de Marï...          1  \n",
       "2667621  white [SEP] Este es la Estructura Lazo de Marï...          1  \n",
       "2667622  white [SEP] Este es la Estructura Lazo de Marï...          1  \n",
       "2667623  white [SEP] Este es la Estructura Lazo de Marï...          1  \n",
       "\n",
       "[2667528 rows x 5 columns]"
      ]
     },
     "execution_count": 28,
     "metadata": {},
     "output_type": "execute_result"
    }
   ],
   "source": [
    "predictions_df_to_save"
   ]
  },
  {
   "cell_type": "code",
   "execution_count": null,
   "metadata": {},
   "outputs": [],
   "source": [
    "save_to_sql(predictions_df_to_save, \"../../data/chess_moves_comments_nags.db\", \"predicted_moves_with_comments\", if_exists=\"replace\")"
   ]
  },
  {
   "cell_type": "code",
   "execution_count": null,
   "metadata": {},
   "outputs": [],
   "source": []
  }
 ],
 "metadata": {
  "kernelspec": {
   "display_name": "thesis",
   "language": "python",
   "name": "python3"
  },
  "language_info": {
   "codemirror_mode": {
    "name": "ipython",
    "version": 3
   },
   "file_extension": ".py",
   "mimetype": "text/x-python",
   "name": "python",
   "nbconvert_exporter": "python",
   "pygments_lexer": "ipython3",
   "version": "3.11.5"
  }
 },
 "nbformat": 4,
 "nbformat_minor": 2
}
