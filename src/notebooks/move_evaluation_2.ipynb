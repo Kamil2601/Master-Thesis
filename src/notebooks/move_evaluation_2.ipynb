{
 "cells": [
  {
   "cell_type": "code",
   "execution_count": 15,
   "metadata": {},
   "outputs": [],
   "source": [
    "%reload_ext autoreload\n",
    "%autoreload 2\n",
    "\n",
    "\n",
    "import sys\n",
    "sys.path.append(\"..\")\n",
    "\n",
    "from utils.utils import load_sql_to_df, plot_history, save_to_sql\n",
    "from custom_datasets.move_as_tensor import MoveAsTensorDataset, MoveAsTensorDatasetOnlineTransform\n",
    "import board_representation.board_representation as br\n",
    "import board_representation.sentimate as br_sentimate\n",
    "\n",
    "import torch\n",
    "import torch.nn as nn\n",
    "from sklearn.model_selection import train_test_split\n",
    "from torch.utils.data import DataLoader\n",
    "\n",
    "from training.training import train_loop, test_model, Trainer\n",
    "from models.move_evaluation import SentimateNet, SentimateNetSmaller, SentimateNetSkipLayer, SentimateNetWithBatchNorm\n",
    "from playing.agents import *\n",
    "\n",
    "import random\n",
    "\n",
    "import chess\n",
    "import chess.engine\n",
    "from stockfish import Stockfish\n",
    "import pandas as pd\n",
    "from tqdm import tqdm\n",
    "\n",
    "import pytorch_lightning as pl"
   ]
  },
  {
   "cell_type": "code",
   "execution_count": 2,
   "metadata": {},
   "outputs": [
    {
     "data": {
      "text/plain": [
       "'cuda:0'"
      ]
     },
     "execution_count": 2,
     "metadata": {},
     "output_type": "execute_result"
    }
   ],
   "source": [
    "device = 'cuda:0' if torch.cuda.is_available() else 'cpu'\n",
    "device"
   ]
  },
  {
   "cell_type": "code",
   "execution_count": 3,
   "metadata": {},
   "outputs": [],
   "source": [
    "# def filter_func(row):\n",
    "#     board = chess.Board(row['position'])\n",
    "#     return board.is_legal(chess.Move.from_uci(row['move']))\n",
    "\n",
    "# tables = [\"classified_moves_with_comments\", \"chessbase_moves_with_nags\", \"moves_from_books\", \"random_moves\"]\n",
    "# classified_moves = [load_sql_to_df(f\"SELECT position, move, sentiment FROM {table_name}\", \"../../chess.db\") for table_name in tables]\n",
    "# classified_moves = pd.concat(classified_moves)\n",
    "# classified_moves = classified_moves[classified_moves.apply(filter_func, axis=1)]\n",
    "# classified_moves"
   ]
  },
  {
   "cell_type": "code",
   "execution_count": 4,
   "metadata": {},
   "outputs": [],
   "source": [
    "classified_moves = load_sql_to_df(f\"SELECT fen, move, sentiment FROM sentimate_v1\", \"../../data/chess_moves_quality.db\")\n",
    "classified_moves.rename(columns={\"fen\": \"position\"}, inplace=True)"
   ]
  },
  {
   "cell_type": "code",
   "execution_count": 5,
   "metadata": {},
   "outputs": [],
   "source": [
    "# save_to_sql(classified_moves, db_filename=\"../../chess.db\", table_name=\"sentimate_training_set\", if_exists='replace')"
   ]
  },
  {
   "cell_type": "code",
   "execution_count": 6,
   "metadata": {},
   "outputs": [
    {
     "data": {
      "text/html": [
       "<div>\n",
       "<style scoped>\n",
       "    .dataframe tbody tr th:only-of-type {\n",
       "        vertical-align: middle;\n",
       "    }\n",
       "\n",
       "    .dataframe tbody tr th {\n",
       "        vertical-align: top;\n",
       "    }\n",
       "\n",
       "    .dataframe thead th {\n",
       "        text-align: right;\n",
       "    }\n",
       "</style>\n",
       "<table border=\"1\" class=\"dataframe\">\n",
       "  <thead>\n",
       "    <tr style=\"text-align: right;\">\n",
       "      <th></th>\n",
       "      <th>position</th>\n",
       "      <th>move</th>\n",
       "      <th>sentiment</th>\n",
       "    </tr>\n",
       "  </thead>\n",
       "  <tbody>\n",
       "    <tr>\n",
       "      <th>8648461</th>\n",
       "      <td>rn1k3Q/pp1qb3/3p3B/2p5/8/2NP3b/PPP2r2/2KRR3 b ...</td>\n",
       "      <td>e7f8</td>\n",
       "      <td>0</td>\n",
       "    </tr>\n",
       "    <tr>\n",
       "      <th>9304380</th>\n",
       "      <td>R7/P5k1/8/6p1/5P2/5P2/7K/r7 b - - 0 3</td>\n",
       "      <td>g5g4</td>\n",
       "      <td>0</td>\n",
       "    </tr>\n",
       "    <tr>\n",
       "      <th>7509264</th>\n",
       "      <td>7R/1p6/6kp/p3B3/7b/3b3P/PP6/2K5 w - - 2 41</td>\n",
       "      <td>h8h7</td>\n",
       "      <td>0</td>\n",
       "    </tr>\n",
       "    <tr>\n",
       "      <th>10339421</th>\n",
       "      <td>r1bq1rk1/1pp3bp/3p4/p2Pp2B/1nP5/2N1P1PP/PP1N4/...</td>\n",
       "      <td>b4c2</td>\n",
       "      <td>0</td>\n",
       "    </tr>\n",
       "    <tr>\n",
       "      <th>10517121</th>\n",
       "      <td>r2q1rk1/pb2ppbp/1p3np1/1PnP4/2Q5/2N3P1/P2PNPBP...</td>\n",
       "      <td>h2h4</td>\n",
       "      <td>0</td>\n",
       "    </tr>\n",
       "    <tr>\n",
       "      <th>...</th>\n",
       "      <td>...</td>\n",
       "      <td>...</td>\n",
       "      <td>...</td>\n",
       "    </tr>\n",
       "    <tr>\n",
       "      <th>10638075</th>\n",
       "      <td>r3k2r/p1pp1ppp/b1p5/2bnP3/2P4q/PP6/4QPPP/RNB1K...</td>\n",
       "      <td>e2f3</td>\n",
       "      <td>0</td>\n",
       "    </tr>\n",
       "    <tr>\n",
       "      <th>5157699</th>\n",
       "      <td>r2Nk2r/ppp5/3p1n2/2b1p3/2B1P1b1/2NP1Pp1/PPPQ1P...</td>\n",
       "      <td>g4f3</td>\n",
       "      <td>1</td>\n",
       "    </tr>\n",
       "    <tr>\n",
       "      <th>2215104</th>\n",
       "      <td>8/2R5/7k/4B1b1/1P2b1B1/1r4P1/5P2/4K3 b - - 0 54</td>\n",
       "      <td>b3b1</td>\n",
       "      <td>0</td>\n",
       "    </tr>\n",
       "    <tr>\n",
       "      <th>1484405</th>\n",
       "      <td>8/5B2/6pk/1bp1p1R1/p1P1P2P/3P2K1/1r6/8 b - - 0 50</td>\n",
       "      <td>h6g7</td>\n",
       "      <td>1</td>\n",
       "    </tr>\n",
       "    <tr>\n",
       "      <th>8325804</th>\n",
       "      <td>8/1p1k4/4r3/1PPp4/3P1p2/7P/4KP2/7R w - - 1 33</td>\n",
       "      <td>e2d2</td>\n",
       "      <td>0</td>\n",
       "    </tr>\n",
       "  </tbody>\n",
       "</table>\n",
       "<p>11033740 rows × 3 columns</p>\n",
       "</div>"
      ],
      "text/plain": [
       "                                                   position  move  sentiment\n",
       "8648461   rn1k3Q/pp1qb3/3p3B/2p5/8/2NP3b/PPP2r2/2KRR3 b ...  e7f8          0\n",
       "9304380               R7/P5k1/8/6p1/5P2/5P2/7K/r7 b - - 0 3  g5g4          0\n",
       "7509264          7R/1p6/6kp/p3B3/7b/3b3P/PP6/2K5 w - - 2 41  h8h7          0\n",
       "10339421  r1bq1rk1/1pp3bp/3p4/p2Pp2B/1nP5/2N1P1PP/PP1N4/...  b4c2          0\n",
       "10517121  r2q1rk1/pb2ppbp/1p3np1/1PnP4/2Q5/2N3P1/P2PNPBP...  h2h4          0\n",
       "...                                                     ...   ...        ...\n",
       "10638075  r3k2r/p1pp1ppp/b1p5/2bnP3/2P4q/PP6/4QPPP/RNB1K...  e2f3          0\n",
       "5157699   r2Nk2r/ppp5/3p1n2/2b1p3/2B1P1b1/2NP1Pp1/PPPQ1P...  g4f3          1\n",
       "2215104     8/2R5/7k/4B1b1/1P2b1B1/1r4P1/5P2/4K3 b - - 0 54  b3b1          0\n",
       "1484405   8/5B2/6pk/1bp1p1R1/p1P1P2P/3P2K1/1r6/8 b - - 0 50  h6g7          1\n",
       "8325804       8/1p1k4/4r3/1PPp4/3P1p2/7P/4KP2/7R w - - 1 33  e2d2          0\n",
       "\n",
       "[11033740 rows x 3 columns]"
      ]
     },
     "metadata": {},
     "output_type": "display_data"
    },
    {
     "data": {
      "text/html": [
       "<div>\n",
       "<style scoped>\n",
       "    .dataframe tbody tr th:only-of-type {\n",
       "        vertical-align: middle;\n",
       "    }\n",
       "\n",
       "    .dataframe tbody tr th {\n",
       "        vertical-align: top;\n",
       "    }\n",
       "\n",
       "    .dataframe thead th {\n",
       "        text-align: right;\n",
       "    }\n",
       "</style>\n",
       "<table border=\"1\" class=\"dataframe\">\n",
       "  <thead>\n",
       "    <tr style=\"text-align: right;\">\n",
       "      <th></th>\n",
       "      <th>position</th>\n",
       "      <th>move</th>\n",
       "      <th>sentiment</th>\n",
       "    </tr>\n",
       "  </thead>\n",
       "  <tbody>\n",
       "    <tr>\n",
       "      <th>277564</th>\n",
       "      <td>r4rk1/pbqp2pp/4p1nn/2p1Pp2/2P5/P1BBQN2/2P2PPP/...</td>\n",
       "      <td>f3g5</td>\n",
       "      <td>1</td>\n",
       "    </tr>\n",
       "    <tr>\n",
       "      <th>8495515</th>\n",
       "      <td>2rr2k1/pp3pp1/3bb3/n2p3p/3P1B1P/1B3PP1/PP3KN1/...</td>\n",
       "      <td>d6c5</td>\n",
       "      <td>0</td>\n",
       "    </tr>\n",
       "    <tr>\n",
       "      <th>8223789</th>\n",
       "      <td>r5k1/ppp2pp1/8/2b5/3N2q1/8/P1P2PB1/R1B1R1K1 w ...</td>\n",
       "      <td>f2f3</td>\n",
       "      <td>0</td>\n",
       "    </tr>\n",
       "    <tr>\n",
       "      <th>10333628</th>\n",
       "      <td>r1b1k2r/pp1n1p1p/1qn1p3/3pP1P1/1b1P4/5NP1/PP3K...</td>\n",
       "      <td>b6d4</td>\n",
       "      <td>0</td>\n",
       "    </tr>\n",
       "    <tr>\n",
       "      <th>2314197</th>\n",
       "      <td>8/3k1p1p/r2p1np1/8/PpN2P2/6P1/1PP4P/1K2R3 b - ...</td>\n",
       "      <td>d6d5</td>\n",
       "      <td>0</td>\n",
       "    </tr>\n",
       "    <tr>\n",
       "      <th>...</th>\n",
       "      <td>...</td>\n",
       "      <td>...</td>\n",
       "      <td>...</td>\n",
       "    </tr>\n",
       "    <tr>\n",
       "      <th>4273334</th>\n",
       "      <td>3rrnk1/5p1p/p1q3p1/4p1P1/Pbp1P1Q1/6P1/1PB2PK1/...</td>\n",
       "      <td>a4a5</td>\n",
       "      <td>1</td>\n",
       "    </tr>\n",
       "    <tr>\n",
       "      <th>1986941</th>\n",
       "      <td>r2qr1k1/1pb2pp1/5n1p/pN2n3/P1p5/2P3Nb/BPQB1PP1...</td>\n",
       "      <td>b5c7</td>\n",
       "      <td>0</td>\n",
       "    </tr>\n",
       "    <tr>\n",
       "      <th>8987736</th>\n",
       "      <td>r1b2rk1/pp1p1ppp/1q6/4P3/2Bb4/1Q6/PP2RPPP/RN4K...</td>\n",
       "      <td>b6c5</td>\n",
       "      <td>0</td>\n",
       "    </tr>\n",
       "    <tr>\n",
       "      <th>1251003</th>\n",
       "      <td>1r4k1/1p6/2p3p1/p1Pp2p1/P2Pr3/2R1P3/6PP/1R4K1 ...</td>\n",
       "      <td>c3b3</td>\n",
       "      <td>1</td>\n",
       "    </tr>\n",
       "    <tr>\n",
       "      <th>7599763</th>\n",
       "      <td>rnbq1rk1/pp2bppp/4pn2/2pp4/3P1B2/2PBPN2/PP1N1P...</td>\n",
       "      <td>a7a6</td>\n",
       "      <td>0</td>\n",
       "    </tr>\n",
       "  </tbody>\n",
       "</table>\n",
       "<p>55446 rows × 3 columns</p>\n",
       "</div>"
      ],
      "text/plain": [
       "                                                   position  move  sentiment\n",
       "277564    r4rk1/pbqp2pp/4p1nn/2p1Pp2/2P5/P1BBQN2/2P2PPP/...  f3g5          1\n",
       "8495515   2rr2k1/pp3pp1/3bb3/n2p3p/3P1B1P/1B3PP1/PP3KN1/...  d6c5          0\n",
       "8223789   r5k1/ppp2pp1/8/2b5/3N2q1/8/P1P2PB1/R1B1R1K1 w ...  f2f3          0\n",
       "10333628  r1b1k2r/pp1n1p1p/1qn1p3/3pP1P1/1b1P4/5NP1/PP3K...  b6d4          0\n",
       "2314197   8/3k1p1p/r2p1np1/8/PpN2P2/6P1/1PP4P/1K2R3 b - ...  d6d5          0\n",
       "...                                                     ...   ...        ...\n",
       "4273334   3rrnk1/5p1p/p1q3p1/4p1P1/Pbp1P1Q1/6P1/1PB2PK1/...  a4a5          1\n",
       "1986941   r2qr1k1/1pb2pp1/5n1p/pN2n3/P1p5/2P3Nb/BPQB1PP1...  b5c7          0\n",
       "8987736   r1b2rk1/pp1p1ppp/1q6/4P3/2Bb4/1Q6/PP2RPPP/RN4K...  b6c5          0\n",
       "1251003   1r4k1/1p6/2p3p1/p1Pp2p1/P2Pr3/2R1P3/6PP/1R4K1 ...  c3b3          1\n",
       "7599763   rnbq1rk1/pp2bppp/4pn2/2pp4/3P1B2/2PBPN2/PP1N1P...  a7a6          0\n",
       "\n",
       "[55446 rows x 3 columns]"
      ]
     },
     "metadata": {},
     "output_type": "display_data"
    }
   ],
   "source": [
    "train_df, test_df = train_test_split(classified_moves, test_size=0.005, random_state=0)\n",
    "display(train_df)\n",
    "display(test_df)"
   ]
  },
  {
   "cell_type": "code",
   "execution_count": 7,
   "metadata": {},
   "outputs": [],
   "source": [
    "train_dataset = MoveAsTensorDatasetOnlineTransform(train_df)\n",
    "test_dataset = MoveAsTensorDatasetOnlineTransform(test_df)"
   ]
  },
  {
   "cell_type": "code",
   "execution_count": 8,
   "metadata": {},
   "outputs": [
    {
     "data": {
      "text/plain": [
       "SentimateNet(\n",
       "  (conv_layers): Sequential(\n",
       "    (0): Conv2d(26, 26, kernel_size=(5, 5), stride=(1, 1), padding=same)\n",
       "    (1): Dropout(p=0.25, inplace=False)\n",
       "    (2): Conv2d(26, 26, kernel_size=(3, 3), stride=(1, 1), padding=same)\n",
       "    (3): Flatten(start_dim=1, end_dim=-1)\n",
       "  )\n",
       "  (fc_layers): Sequential(\n",
       "    (0): Dropout(p=0.25, inplace=False)\n",
       "    (1): Linear(in_features=1664, out_features=500, bias=True)\n",
       "    (2): ELU(alpha=1.0)\n",
       "    (3): Dropout(p=0.25, inplace=False)\n",
       "    (4): Linear(in_features=500, out_features=200, bias=True)\n",
       "    (5): ELU(alpha=1.0)\n",
       "    (6): Dropout(p=0.25, inplace=False)\n",
       "    (7): Linear(in_features=200, out_features=1, bias=True)\n",
       "  )\n",
       ")"
      ]
     },
     "execution_count": 8,
     "metadata": {},
     "output_type": "execute_result"
    }
   ],
   "source": [
    "model = SentimateNet()\n",
    "model.to(device)\n",
    "model"
   ]
  },
  {
   "cell_type": "code",
   "execution_count": 9,
   "metadata": {},
   "outputs": [],
   "source": [
    "optimizer = torch.optim.Adam(model.parameters(), lr=0.001)\n",
    "# scheduler = torch.optim.lr_scheduler.StepLR(optimizer, step_size = 10, gamma = 0.95)\n",
    "scheduler = None"
   ]
  },
  {
   "cell_type": "code",
   "execution_count": 23,
   "metadata": {},
   "outputs": [],
   "source": [
    "train_loader = DataLoader(train_dataset, batch_size=4, shuffle=True, num_workers=3)\n",
    "test_loader = DataLoader(test_dataset, batch_size=512, num_workers=1)"
   ]
  },
  {
   "cell_type": "code",
   "execution_count": 11,
   "metadata": {},
   "outputs": [
    {
     "name": "stdout",
     "output_type": "stream",
     "text": [
      "Test Error: Accuracy: 58.32%, Avg loss: 0.688639\n"
     ]
    }
   ],
   "source": [
    "test_model(test_loader, model)"
   ]
  },
  {
   "cell_type": "code",
   "execution_count": 12,
   "metadata": {},
   "outputs": [],
   "source": [
    "trainer = Trainer(model=model, train_dataLoader=train_loader, val_dataLoader=test_loader, optimizer=optimizer, scheduler=scheduler, x_dtype=torch.float32, y_dtype=torch.float32)"
   ]
  },
  {
   "cell_type": "code",
   "execution_count": 14,
   "metadata": {},
   "outputs": [],
   "source": [
    "trainer.train(1, verbose=True)"
   ]
  },
  {
   "cell_type": "code",
   "execution_count": 23,
   "metadata": {},
   "outputs": [
    {
     "data": {
      "image/png": "[encoded data removed]",
      "text/plain": [
       "<Figure size 1200x300 with 2 Axes>"
      ]
     },
     "metadata": {},
     "output_type": "display_data"
    }
   ],
   "source": [
    "trainer.plot_history()"
   ]
  },
  {
   "cell_type": "code",
   "execution_count": 15,
   "metadata": {},
   "outputs": [
    {
     "name": "stdout",
     "output_type": "stream",
     "text": [
      "Test Error: Accuracy: 86.65%, Avg loss: 0.357439\n"
     ]
    }
   ],
   "source": [
    "# test_model(train_loader, model)\n",
    "test_model(test_loader, model)"
   ]
  },
  {
   "cell_type": "code",
   "execution_count": 16,
   "metadata": {},
   "outputs": [
    {
     "name": "stdout",
     "output_type": "stream",
     "text": [
      "\n",
      "Loading best params on validation set (epoch 24, accuracy: 86.75%)\n",
      "\n"
     ]
    },
    {
     "data": {
      "text/plain": [
       "SentimateNet(\n",
       "  (conv_layers): Sequential(\n",
       "    (0): Conv2d(26, 26, kernel_size=(5, 5), stride=(1, 1), padding=same)\n",
       "    (1): Dropout(p=0.25, inplace=False)\n",
       "    (2): Conv2d(26, 26, kernel_size=(3, 3), stride=(1, 1), padding=same)\n",
       "    (3): Flatten(start_dim=1, end_dim=-1)\n",
       "  )\n",
       "  (fc_layers): Sequential(\n",
       "    (0): Dropout(p=0.25, inplace=False)\n",
       "    (1): Linear(in_features=1664, out_features=500, bias=True)\n",
       "    (2): ELU(alpha=1.0)\n",
       "    (3): Dropout(p=0.25, inplace=False)\n",
       "    (4): Linear(in_features=500, out_features=200, bias=True)\n",
       "    (5): ELU(alpha=1.0)\n",
       "    (6): Dropout(p=0.25, inplace=False)\n",
       "    (7): Linear(in_features=200, out_features=1, bias=True)\n",
       "  )\n",
       ")"
      ]
     },
     "execution_count": 16,
     "metadata": {},
     "output_type": "execute_result"
    }
   ],
   "source": [
    "trainer.best_model()"
   ]
  },
  {
   "cell_type": "code",
   "execution_count": 19,
   "metadata": {},
   "outputs": [
    {
     "name": "stdout",
     "output_type": "stream",
     "text": [
      "\n",
      "Loading best params on validation set (epoch 24, accuracy: 86.75%)\n",
      "\n"
     ]
    }
   ],
   "source": [
    "best_model = trainer.best_model()"
   ]
  },
  {
   "cell_type": "code",
   "execution_count": 20,
   "metadata": {},
   "outputs": [],
   "source": [
    "random_agent = RandomAgent()\n",
    "model_agent = ModelAgent(model)"
   ]
  },
  {
   "cell_type": "code",
   "execution_count": 24,
   "metadata": {},
   "outputs": [
    {
     "name": "stderr",
     "output_type": "stream",
     "text": [
      "100%|██████████| 1000/1000 [16:41<00:00,  1.00s/it]\n"
     ]
    },
    {
     "data": {
      "text/plain": [
       "{'agent_win': 881, 'opponent_win': 98, 'draw': 21}"
      ]
     },
     "execution_count": 24,
     "metadata": {},
     "output_type": "execute_result"
    }
   ],
   "source": [
    "from playing.testing import test_agent, play_game\n",
    "\n",
    "best_model.to(device)\n",
    "model_agent = ModelAgent(best_model, convert_fn=br_sentimate.move_to_tensor)\n",
    "test_agent(model_agent, n_games=1000)\n",
    "\n",
    "# Test result: {'agent_win': 881, 'opponent_win': 98, 'draw': 21}"
   ]
  },
  {
   "cell_type": "code",
   "execution_count": 26,
   "metadata": {},
   "outputs": [],
   "source": [
    "torch.save(best_model.state_dict(), \"../../models/sentimate-original-board-representation/23-12-2/sentimate-23-12-2-best-acc.pth\")"
   ]
  },
  {
   "cell_type": "code",
   "execution_count": null,
   "metadata": {},
   "outputs": [],
   "source": [
    "play_game(random_agent, model_agent, verbose=True)"
   ]
  }
 ],
 "metadata": {
  "kernelspec": {
   "display_name": "Python 3",
   "language": "python",
   "name": "python3"
  },
  "language_info": {
   "codemirror_mode": {
    "name": "ipython",
    "version": 3
   },
   "file_extension": ".py",
   "mimetype": "text/x-python",
   "name": "python",
   "nbconvert_exporter": "python",
   "pygments_lexer": "ipython3",
   "version": "3.11.5"
  },
  "orig_nbformat": 4,
  "vscode": {
   "interpreter": {
    "hash": "916dbcbb3f70747c44a77c7bcd40155683ae19c65e1c03b4aa3499c5328201f1"
   }
  }
 },
 "nbformat": 4,
 "nbformat_minor": 2
}
