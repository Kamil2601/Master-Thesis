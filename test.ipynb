{
 "cells": [
  {
   "cell_type": "code",
   "execution_count": 3,
   "metadata": {},
   "outputs": [],
   "source": [
    "import pandas as pd\n",
    "import sqlite3 as db\n",
    "from langdetect import detect\n",
    "import chess"
   ]
  },
  {
   "cell_type": "code",
   "execution_count": 4,
   "metadata": {},
   "outputs": [
    {
     "data": {
      "text/html": [
       "<div>\n",
       "<style scoped>\n",
       "    .dataframe tbody tr th:only-of-type {\n",
       "        vertical-align: middle;\n",
       "    }\n",
       "\n",
       "    .dataframe tbody tr th {\n",
       "        vertical-align: top;\n",
       "    }\n",
       "\n",
       "    .dataframe thead th {\n",
       "        text-align: right;\n",
       "    }\n",
       "</style>\n",
       "<table border=\"1\" class=\"dataframe\">\n",
       "  <thead>\n",
       "    <tr style=\"text-align: right;\">\n",
       "      <th></th>\n",
       "      <th>id</th>\n",
       "      <th>pgn</th>\n",
       "      <th>language</th>\n",
       "    </tr>\n",
       "  </thead>\n",
       "  <tbody>\n",
       "    <tr>\n",
       "      <th>0</th>\n",
       "      <td>44</td>\n",
       "      <td>[Event \"alygally&amp;#039;s mini-tournament\"]\\n[Da...</td>\n",
       "      <td>en</td>\n",
       "    </tr>\n",
       "    <tr>\n",
       "      <th>1</th>\n",
       "      <td>62</td>\n",
       "      <td>[Event \"League division D2\"]\\n[Date \"08-Jun-06...</td>\n",
       "      <td>en</td>\n",
       "    </tr>\n",
       "    <tr>\n",
       "      <th>2</th>\n",
       "      <td>64</td>\n",
       "      <td>[Event \"Let&amp;#039;s play chess\"]\\n[Date \"25-May...</td>\n",
       "      <td>en</td>\n",
       "    </tr>\n",
       "    <tr>\n",
       "      <th>3</th>\n",
       "      <td>66</td>\n",
       "      <td>[Event \"easy street\"]\\n[Date \"26-Jun-06\"]\\n[Wh...</td>\n",
       "      <td>en</td>\n",
       "    </tr>\n",
       "    <tr>\n",
       "      <th>4</th>\n",
       "      <td>70</td>\n",
       "      <td>[Event \"001 mini-tournament\"]\\n[Date \"31-May-0...</td>\n",
       "      <td>en</td>\n",
       "    </tr>\n",
       "    <tr>\n",
       "      <th>...</th>\n",
       "      <td>...</td>\n",
       "      <td>...</td>\n",
       "      <td>...</td>\n",
       "    </tr>\n",
       "    <tr>\n",
       "      <th>12736</th>\n",
       "      <td>70354</td>\n",
       "      <td>[Event \"A question of queens...\"]\\n[Date \"14 S...</td>\n",
       "      <td>en</td>\n",
       "    </tr>\n",
       "    <tr>\n",
       "      <th>12737</th>\n",
       "      <td>70355</td>\n",
       "      <td>[Event \"50th World Open U1800 Round 9 '22\"]\\n[...</td>\n",
       "      <td>en</td>\n",
       "    </tr>\n",
       "    <tr>\n",
       "      <th>12738</th>\n",
       "      <td>70359</td>\n",
       "      <td>[Event \"Team match\"]\\n[Date \"2022.06.26\"]\\n[Wh...</td>\n",
       "      <td>en</td>\n",
       "    </tr>\n",
       "    <tr>\n",
       "      <th>12739</th>\n",
       "      <td>70364</td>\n",
       "      <td>[Event \"Team match\"]\\n[Date \"2022.06.30\"]\\n[Wh...</td>\n",
       "      <td>en</td>\n",
       "    </tr>\n",
       "    <tr>\n",
       "      <th>12740</th>\n",
       "      <td>70387</td>\n",
       "      <td>[Event \"Long road to a win\"]\\n[Date \"2022.07.1...</td>\n",
       "      <td>en</td>\n",
       "    </tr>\n",
       "  </tbody>\n",
       "</table>\n",
       "<p>12741 rows × 3 columns</p>\n",
       "</div>"
      ],
      "text/plain": [
       "          id                                                pgn language\n",
       "0         44  [Event \"alygally&#039;s mini-tournament\"]\\n[Da...       en\n",
       "1         62  [Event \"League division D2\"]\\n[Date \"08-Jun-06...       en\n",
       "2         64  [Event \"Let&#039;s play chess\"]\\n[Date \"25-May...       en\n",
       "3         66  [Event \"easy street\"]\\n[Date \"26-Jun-06\"]\\n[Wh...       en\n",
       "4         70  [Event \"001 mini-tournament\"]\\n[Date \"31-May-0...       en\n",
       "...      ...                                                ...      ...\n",
       "12736  70354  [Event \"A question of queens...\"]\\n[Date \"14 S...       en\n",
       "12737  70355  [Event \"50th World Open U1800 Round 9 '22\"]\\n[...       en\n",
       "12738  70359  [Event \"Team match\"]\\n[Date \"2022.06.26\"]\\n[Wh...       en\n",
       "12739  70364  [Event \"Team match\"]\\n[Date \"2022.06.30\"]\\n[Wh...       en\n",
       "12740  70387  [Event \"Long road to a win\"]\\n[Date \"2022.07.1...       en\n",
       "\n",
       "[12741 rows x 3 columns]"
      ]
     },
     "execution_count": 4,
     "metadata": {},
     "output_type": "execute_result"
    }
   ],
   "source": [
    "con = db.connect(\"./chess.db\")\n",
    "games = pd.read_sql_query(\"SELECT * FROM gameknot_games\", con)\n",
    "games"
   ]
  },
  {
   "cell_type": "code",
   "execution_count": 3,
   "metadata": {},
   "outputs": [
    {
     "data": {
      "text/plain": [
       "12741"
      ]
     },
     "execution_count": 3,
     "metadata": {},
     "output_type": "execute_result"
    }
   ],
   "source": [
    "langs = [detect(pgn) for pgn in games.pgn]\n",
    "games[\"language\"] = langs\n",
    "games.to_sql(\"gameknot_games\", con, index=False, index_label=\"id\")"
   ]
  },
  {
   "cell_type": "code",
   "execution_count": null,
   "metadata": {},
   "outputs": [],
   "source": []
  }
 ],
 "metadata": {
  "kernelspec": {
   "display_name": "Python 3.10.7 64-bit",
   "language": "python",
   "name": "python3"
  },
  "language_info": {
   "codemirror_mode": {
    "name": "ipython",
    "version": 3
   },
   "file_extension": ".py",
   "mimetype": "text/x-python",
   "name": "python",
   "nbconvert_exporter": "python",
   "pygments_lexer": "ipython3",
   "version": "3.10.7"
  },
  "orig_nbformat": 4,
  "vscode": {
   "interpreter": {
    "hash": "767d51c1340bd893661ea55ea3124f6de3c7a262a8b4abca0554b478b1e2ff90"
   }
  }
 },
 "nbformat": 4,
 "nbformat_minor": 2
}
