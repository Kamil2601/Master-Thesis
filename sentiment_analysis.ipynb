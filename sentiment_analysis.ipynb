{
 "cells": [
  {
   "cell_type": "code",
   "execution_count": 2,
   "metadata": {},
   "outputs": [
    {
     "name": "stderr",
     "output_type": "stream",
     "text": [
      "2023-02-14 22:22:27.972104: I tensorflow/core/platform/cpu_feature_guard.cc:193] This TensorFlow binary is optimized with oneAPI Deep Neural Network Library (oneDNN) to use the following CPU instructions in performance-critical operations:  AVX2 FMA\n",
      "To enable them in other operations, rebuild TensorFlow with the appropriate compiler flags.\n",
      "2023-02-14 22:22:29.109414: W tensorflow/compiler/xla/stream_executor/platform/default/dso_loader.cc:64] Could not load dynamic library 'libnvinfer.so.7'; dlerror: libnvinfer.so.7: cannot open shared object file: No such file or directory\n",
      "2023-02-14 22:22:29.109562: W tensorflow/compiler/xla/stream_executor/platform/default/dso_loader.cc:64] Could not load dynamic library 'libnvinfer_plugin.so.7'; dlerror: libnvinfer_plugin.so.7: cannot open shared object file: No such file or directory\n",
      "2023-02-14 22:22:29.109570: W tensorflow/compiler/tf2tensorrt/utils/py_utils.cc:38] TF-TRT Warning: Cannot dlopen some TensorRT libraries. If you would like to use Nvidia GPU with TensorRT, please make sure the missing libraries mentioned above are installed properly.\n"
     ]
    }
   ],
   "source": [
    "import datasets\n",
    "import torch.nn as nn\n",
    "import data_process as dp\n",
    "import torchtext\n",
    "import torch\n",
    "import pandas as pd\n",
    "from sklearn.model_selection import train_test_split"
   ]
  },
  {
   "cell_type": "code",
   "execution_count": 3,
   "metadata": {},
   "outputs": [
    {
     "data": {
      "text/html": [
       "<div>\n",
       "<style scoped>\n",
       "    .dataframe tbody tr th:only-of-type {\n",
       "        vertical-align: middle;\n",
       "    }\n",
       "\n",
       "    .dataframe tbody tr th {\n",
       "        vertical-align: top;\n",
       "    }\n",
       "\n",
       "    .dataframe thead th {\n",
       "        text-align: right;\n",
       "    }\n",
       "</style>\n",
       "<table border=\"1\" class=\"dataframe\">\n",
       "  <thead>\n",
       "    <tr style=\"text-align: right;\">\n",
       "      <th></th>\n",
       "      <th>index</th>\n",
       "      <th>position</th>\n",
       "      <th>move</th>\n",
       "      <th>comment</th>\n",
       "      <th>halfmove_number</th>\n",
       "      <th>game_id</th>\n",
       "      <th>sentiment</th>\n",
       "      <th>auto_sentiment</th>\n",
       "    </tr>\n",
       "  </thead>\n",
       "  <tbody>\n",
       "    <tr>\n",
       "      <th>0</th>\n",
       "      <td>0</td>\n",
       "      <td>rnbqkbnr/pppppppp/8/8/8/8/PPPPPPPP/RNBQKBNR w ...</td>\n",
       "      <td>e2e4</td>\n",
       "      <td>This is my first gameknot game against someone...</td>\n",
       "      <td>1</td>\n",
       "      <td>44</td>\n",
       "      <td>2</td>\n",
       "      <td>0</td>\n",
       "    </tr>\n",
       "    <tr>\n",
       "      <th>1</th>\n",
       "      <td>1</td>\n",
       "      <td>rnbqkbnr/pppp1ppp/8/4p3/4P3/8/PPPP1PPP/RNBQKBN...</td>\n",
       "      <td>b1c3</td>\n",
       "      <td>I've been playing the Vienna Gambit as white, ...</td>\n",
       "      <td>3</td>\n",
       "      <td>44</td>\n",
       "      <td>-1</td>\n",
       "      <td>0</td>\n",
       "    </tr>\n",
       "    <tr>\n",
       "      <th>2</th>\n",
       "      <td>2</td>\n",
       "      <td>rnbqkbnr/pppp1ppp/8/4p3/4P3/2N5/PPPP1PPP/R1BQK...</td>\n",
       "      <td>f8c5</td>\n",
       "      <td>Minor disappointment.</td>\n",
       "      <td>4</td>\n",
       "      <td>44</td>\n",
       "      <td>-1</td>\n",
       "      <td>0</td>\n",
       "    </tr>\n",
       "    <tr>\n",
       "      <th>3</th>\n",
       "      <td>3</td>\n",
       "      <td>r1bqk2r/pppp1ppp/2n2n2/2b1p3/2B1P3/2NP4/PPP2PP...</td>\n",
       "      <td>f2f4</td>\n",
       "      <td>My idea here is to expand on the kingside, dri...</td>\n",
       "      <td>9</td>\n",
       "      <td>44</td>\n",
       "      <td>-1</td>\n",
       "      <td>0</td>\n",
       "    </tr>\n",
       "    <tr>\n",
       "      <th>4</th>\n",
       "      <td>4</td>\n",
       "      <td>r1bqk2r/ppp2ppp/3p1n2/n1b1pP2/2B1P3/2NP4/PPP3P...</td>\n",
       "      <td>d1f3</td>\n",
       "      <td>Maybe this isn't the greatest plan, since with...</td>\n",
       "      <td>13</td>\n",
       "      <td>44</td>\n",
       "      <td>0</td>\n",
       "      <td>0</td>\n",
       "    </tr>\n",
       "  </tbody>\n",
       "</table>\n",
       "</div>"
      ],
      "text/plain": [
       "   index                                           position  move  \\\n",
       "0      0  rnbqkbnr/pppppppp/8/8/8/8/PPPPPPPP/RNBQKBNR w ...  e2e4   \n",
       "1      1  rnbqkbnr/pppp1ppp/8/4p3/4P3/8/PPPP1PPP/RNBQKBN...  b1c3   \n",
       "2      2  rnbqkbnr/pppp1ppp/8/4p3/4P3/2N5/PPPP1PPP/R1BQK...  f8c5   \n",
       "3      3  r1bqk2r/pppp1ppp/2n2n2/2b1p3/2B1P3/2NP4/PPP2PP...  f2f4   \n",
       "4      4  r1bqk2r/ppp2ppp/3p1n2/n1b1pP2/2B1P3/2NP4/PPP3P...  d1f3   \n",
       "\n",
       "                                             comment  halfmove_number  \\\n",
       "0  This is my first gameknot game against someone...                1   \n",
       "1  I've been playing the Vienna Gambit as white, ...                3   \n",
       "2                              Minor disappointment.                4   \n",
       "3  My idea here is to expand on the kingside, dri...                9   \n",
       "4  Maybe this isn't the greatest plan, since with...               13   \n",
       "\n",
       "   game_id  sentiment  auto_sentiment  \n",
       "0       44          2               0  \n",
       "1       44         -1               0  \n",
       "2       44         -1               0  \n",
       "3       44         -1               0  \n",
       "4       44          0               0  "
      ]
     },
     "execution_count": 3,
     "metadata": {},
     "output_type": "execute_result"
    }
   ],
   "source": [
    "moves_df = datasets.load_sql_to_df(\"SELECT * FROM english_annotated_moves\", \"./chess.db\")\n",
    "moves_df.head(5)"
   ]
  },
  {
   "cell_type": "code",
   "execution_count": 4,
   "metadata": {},
   "outputs": [],
   "source": [
    "glove_embbedings = torchtext.vocab.GloVe(name=\"6B\", dim=50)"
   ]
  },
  {
   "cell_type": "code",
   "execution_count": 5,
   "metadata": {},
   "outputs": [
    {
     "data": {
      "text/html": [
       "<div>\n",
       "<style scoped>\n",
       "    .dataframe tbody tr th:only-of-type {\n",
       "        vertical-align: middle;\n",
       "    }\n",
       "\n",
       "    .dataframe tbody tr th {\n",
       "        vertical-align: top;\n",
       "    }\n",
       "\n",
       "    .dataframe thead th {\n",
       "        text-align: right;\n",
       "    }\n",
       "</style>\n",
       "<table border=\"1\" class=\"dataframe\">\n",
       "  <thead>\n",
       "    <tr style=\"text-align: right;\">\n",
       "      <th></th>\n",
       "      <th>comment</th>\n",
       "      <th>sentiment</th>\n",
       "    </tr>\n",
       "  </thead>\n",
       "  <tbody>\n",
       "    <tr>\n",
       "      <th>0</th>\n",
       "      <td>[maybe, this, be, not, the, great, plan, since...</td>\n",
       "      <td>0</td>\n",
       "    </tr>\n",
       "    <tr>\n",
       "      <th>1</th>\n",
       "      <td>[?, too, slow, maybe, .]</td>\n",
       "      <td>0</td>\n",
       "    </tr>\n",
       "    <tr>\n",
       "      <th>2</th>\n",
       "      <td>[?, this, allow, a, combination, by, white, .,...</td>\n",
       "      <td>0</td>\n",
       "    </tr>\n",
       "    <tr>\n",
       "      <th>3</th>\n",
       "      <td>[!, !, brilliant, move, it, give, black, the, ...</td>\n",
       "      <td>1</td>\n",
       "    </tr>\n",
       "    <tr>\n",
       "      <th>4</th>\n",
       "      <td>[!, !, this, move, be, really, fantastic, ., m...</td>\n",
       "      <td>1</td>\n",
       "    </tr>\n",
       "    <tr>\n",
       "      <th>...</th>\n",
       "      <td>...</td>\n",
       "      <td>...</td>\n",
       "    </tr>\n",
       "    <tr>\n",
       "      <th>19864</th>\n",
       "      <td>[in, hindsight, be, need, to, get, my, king, t...</td>\n",
       "      <td>0</td>\n",
       "    </tr>\n",
       "    <tr>\n",
       "      <th>19865</th>\n",
       "      <td>[keep, black, alive]</td>\n",
       "      <td>0</td>\n",
       "    </tr>\n",
       "    <tr>\n",
       "      <th>19866</th>\n",
       "      <td>[time, remain, minute, .]</td>\n",
       "      <td>0</td>\n",
       "    </tr>\n",
       "    <tr>\n",
       "      <th>19867</th>\n",
       "      <td>[black, be, win, .]</td>\n",
       "      <td>1</td>\n",
       "    </tr>\n",
       "    <tr>\n",
       "      <th>19868</th>\n",
       "      <td>[lose, move, ?]</td>\n",
       "      <td>0</td>\n",
       "    </tr>\n",
       "  </tbody>\n",
       "</table>\n",
       "<p>18857 rows × 2 columns</p>\n",
       "</div>"
      ],
      "text/plain": [
       "                                                 comment  sentiment\n",
       "0      [maybe, this, be, not, the, great, plan, since...          0\n",
       "1                               [?, too, slow, maybe, .]          0\n",
       "2      [?, this, allow, a, combination, by, white, .,...          0\n",
       "3      [!, !, brilliant, move, it, give, black, the, ...          1\n",
       "4      [!, !, this, move, be, really, fantastic, ., m...          1\n",
       "...                                                  ...        ...\n",
       "19864  [in, hindsight, be, need, to, get, my, king, t...          0\n",
       "19865                               [keep, black, alive]          0\n",
       "19866                          [time, remain, minute, .]          0\n",
       "19867                                [black, be, win, .]          1\n",
       "19868                                    [lose, move, ?]          0\n",
       "\n",
       "[18857 rows x 2 columns]"
      ]
     },
     "execution_count": 5,
     "metadata": {},
     "output_type": "execute_result"
    }
   ],
   "source": [
    "moves_df = dp.prepare_data_for_sentiment_analysis_training(moves_df, glove_embbedings.stoi)\n",
    "moves_df"
   ]
  },
  {
   "cell_type": "code",
   "execution_count": 6,
   "metadata": {},
   "outputs": [],
   "source": [
    "data = list(zip(moves_df.comment, moves_df.sentiment))\n",
    "datasets.add_padding_vector_to_embeddings(glove_embbedings)\n",
    "dataset = datasets.PretrainedEmbeddingsIndicesDataset(data, glove_embbedings)"
   ]
  },
  {
   "cell_type": "code",
   "execution_count": 7,
   "metadata": {},
   "outputs": [],
   "source": [
    "x,y = dataset[5000]"
   ]
  },
  {
   "cell_type": "code",
   "execution_count": 8,
   "metadata": {},
   "outputs": [
    {
     "name": "stdout",
     "output_type": "stream",
     "text": [
      "['this', 'be', 'a', 'excellent', 'move', '!', 'instead', 'of', 'black', 'can', 'go']\n",
      "tensor([  38,   31,    8, 4346,  484,  806,  774,    4,  522,   87,  243])\n",
      "tensor(1)\n"
     ]
    }
   ],
   "source": [
    "print([glove_embbedings.itos[t.item()] for t in x])\n",
    "print(x)\n",
    "print(y)"
   ]
  },
  {
   "cell_type": "code",
   "execution_count": 9,
   "metadata": {},
   "outputs": [],
   "source": [
    "def create_embedding_layer(weights_matrix, non_trainable=False):\n",
    "    num_embeddings, embedding_dim = weights_matrix.size()\n",
    "    emb_layer = nn.Embedding(num_embeddings, embedding_dim)\n",
    "    emb_layer.load_state_dict({'weight': weights_matrix})\n",
    "    if non_trainable:\n",
    "        emb_layer.weight.requires_grad = False\n",
    "\n",
    "    return emb_layer\n"
   ]
  },
  {
   "cell_type": "code",
   "execution_count": 15,
   "metadata": {},
   "outputs": [
    {
     "data": {
      "text/plain": [
       "SentimentAnalysisLSTM(\n",
       "  (embedding): Embedding(400001, 50)\n",
       "  (lstm): LSTM(50, 128, num_layers=2, batch_first=True, dropout=0.1)\n",
       "  (fc): Linear(in_features=128, out_features=1, bias=True)\n",
       ")"
      ]
     },
     "execution_count": 15,
     "metadata": {},
     "output_type": "execute_result"
    }
   ],
   "source": [
    "class SentimentAnalysisLSTM(nn.Module):\n",
    "    def __init__(self, embeddings: torchtext.vocab.Vectors, hidden_dim, num_layers = 2, dropout = 0.1):\n",
    "        super().__init__()\n",
    "        \n",
    "        self.embedding = create_embedding_layer(embeddings.vectors, non_trainable=True)\n",
    "\n",
    "        self.lstm = nn.LSTM(embeddings.dim, hidden_dim, num_layers=num_layers, dropout=dropout, batch_first=True)\n",
    "\n",
    "        self.fc = nn.Linear(hidden_dim, 1)\n",
    "        \n",
    "        \n",
    "    def forward(self, x):\n",
    "        print(f\"x.shape: {x.shape}\")\n",
    "\n",
    "        embedded = self.embedding(x)\n",
    "\n",
    "        print(f\"embedded.shape: {embedded.shape}\")\n",
    "\n",
    "        lstm_output, _ = self.lstm(embedded)\n",
    "\n",
    "        print(f\"lstm_output.shape: {lstm_output.shape}\")\n",
    "        \n",
    "        last_lstm_output = lstm_output[:, -1, :]\n",
    "\n",
    "        print(f\"last_lstm_output.shape: {last_lstm_output.shape}\")\n",
    "\n",
    "        output = self.fc(last_lstm_output)\n",
    "\n",
    "        print(f\"output.shape: {output.shape}\")\n",
    "\n",
    "        return output\n",
    "\n",
    "model = SentimentAnalysisLSTM(glove_embbedings, 128)\n",
    "model\n"
   ]
  },
  {
   "cell_type": "code",
   "execution_count": 16,
   "metadata": {},
   "outputs": [
    {
     "name": "stdout",
     "output_type": "stream",
     "text": [
      "x.shape: torch.Size([2, 5])\n",
      "embedded.shape: torch.Size([2, 5, 50])\n",
      "lstm_output.shape: torch.Size([2, 5, 128])\n",
      "last_lstm_output.shape: torch.Size([2, 128])\n",
      "output.shape: torch.Size([2, 1])\n"
     ]
    },
    {
     "data": {
      "text/plain": [
       "tensor([[-0.0353],\n",
       "        [-0.0417]], grad_fn=<AddmmBackward0>)"
      ]
     },
     "execution_count": 16,
     "metadata": {},
     "output_type": "execute_result"
    }
   ],
   "source": [
    "batch = torch.tensor([[1,2,3,0,0],[1,2,3,4,5]], dtype=torch.int)\n",
    "model(batch)"
   ]
  },
  {
   "cell_type": "code",
   "execution_count": 36,
   "metadata": {},
   "outputs": [],
   "source": [
    "train_df, val_df = train_test_split(test_df, test_size=0.2, random_state=42)"
   ]
  },
  {
   "cell_type": "code",
   "execution_count": 46,
   "metadata": {},
   "outputs": [
    {
     "data": {
      "text/plain": [
       "Embedding(1, 2)"
      ]
     },
     "execution_count": 46,
     "metadata": {},
     "output_type": "execute_result"
    }
   ],
   "source": [
    "emb = nn.Embedding(1,2)\n",
    "emb.requires_grad_()"
   ]
  }
 ],
 "metadata": {
  "kernelspec": {
   "display_name": "Python 3",
   "language": "python",
   "name": "python3"
  },
  "language_info": {
   "codemirror_mode": {
    "name": "ipython",
    "version": 3
   },
   "file_extension": ".py",
   "mimetype": "text/x-python",
   "name": "python",
   "nbconvert_exporter": "python",
   "pygments_lexer": "ipython3",
   "version": "3.10.6"
  },
  "orig_nbformat": 4,
  "vscode": {
   "interpreter": {
    "hash": "916dbcbb3f70747c44a77c7bcd40155683ae19c65e1c03b4aa3499c5328201f1"
   }
  }
 },
 "nbformat": 4,
 "nbformat_minor": 2
}
