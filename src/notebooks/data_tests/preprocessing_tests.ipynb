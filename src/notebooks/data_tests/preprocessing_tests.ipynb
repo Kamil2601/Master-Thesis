{
 "cells": [
  {
   "cell_type": "code",
   "execution_count": null,
   "metadata": {},
   "outputs": [],
   "source": [
    "%load_ext autoreload\n",
    "%autoreload 2"
   ]
  },
  {
   "cell_type": "code",
   "execution_count": null,
   "metadata": {},
   "outputs": [],
   "source": [
    "import sys\n",
    "sys.path.append('..')"
   ]
  },
  {
   "cell_type": "code",
   "execution_count": 6,
   "metadata": {},
   "outputs": [
    {
     "name": "stdout",
     "output_type": "stream",
     "text": [
      "The autoreload extension is already loaded. To reload it, use:\n",
      "  %reload_ext autoreload\n"
     ]
    },
    {
     "ename": "ModuleNotFoundError",
     "evalue": "No module named 'utils'",
     "output_type": "error",
     "traceback": [
      "\u001b[0;31m---------------------------------------------------------------------------\u001b[0m",
      "\u001b[0;31mModuleNotFoundError\u001b[0m                       Traceback (most recent call last)",
      "\u001b[1;32m/home/kamil/Projects/Master-Thesis/src/notebooks/data_tests/preprocessing_tests.ipynb Cell 1\u001b[0m line \u001b[0;36m5\n\u001b[1;32m      <a href='vscode-notebook-cell:/home/kamil/Projects/Master-Thesis/src/notebooks/data_tests/preprocessing_tests.ipynb#W0sZmlsZQ%3D%3D?line=1'>2</a>\u001b[0m get_ipython()\u001b[39m.\u001b[39mrun_line_magic(\u001b[39m'\u001b[39m\u001b[39mautoreload\u001b[39m\u001b[39m'\u001b[39m, \u001b[39m'\u001b[39m\u001b[39m2\u001b[39m\u001b[39m'\u001b[39m)\n\u001b[1;32m      <a href='vscode-notebook-cell:/home/kamil/Projects/Master-Thesis/src/notebooks/data_tests/preprocessing_tests.ipynb#W0sZmlsZQ%3D%3D?line=3'>4</a>\u001b[0m \u001b[39mimport\u001b[39;00m \u001b[39mspacy\u001b[39;00m\n\u001b[0;32m----> <a href='vscode-notebook-cell:/home/kamil/Projects/Master-Thesis/src/notebooks/data_tests/preprocessing_tests.ipynb#W0sZmlsZQ%3D%3D?line=4'>5</a>\u001b[0m \u001b[39mimport\u001b[39;00m \u001b[39mutils\u001b[39;00m\u001b[39m.\u001b[39;00m\u001b[39mdata_process\u001b[39;00m \u001b[39mas\u001b[39;00m \u001b[39mdp\u001b[39;00m\n\u001b[1;32m      <a href='vscode-notebook-cell:/home/kamil/Projects/Master-Thesis/src/notebooks/data_tests/preprocessing_tests.ipynb#W0sZmlsZQ%3D%3D?line=5'>6</a>\u001b[0m \u001b[39mfrom\u001b[39;00m \u001b[39mspacy\u001b[39;00m\u001b[39m.\u001b[39;00m\u001b[39msymbols\u001b[39;00m \u001b[39mimport\u001b[39;00m ORTH\n\u001b[1;32m      <a href='vscode-notebook-cell:/home/kamil/Projects/Master-Thesis/src/notebooks/data_tests/preprocessing_tests.ipynb#W0sZmlsZQ%3D%3D?line=6'>7</a>\u001b[0m \u001b[39mimport\u001b[39;00m \u001b[39mutils\u001b[39;00m\n",
      "\u001b[0;31mModuleNotFoundError\u001b[0m: No module named 'utils'"
     ]
    }
   ],
   "source": [
    "import spacy\n",
    "import utils.data_process as dp\n",
    "from spacy.symbols import ORTH\n",
    "import utils"
   ]
  },
  {
   "cell_type": "code",
   "execution_count": 3,
   "metadata": {},
   "outputs": [],
   "source": [
    "nlp = spacy.load(\"en_core_web_sm\")"
   ]
  },
  {
   "cell_type": "code",
   "execution_count": 4,
   "metadata": {},
   "outputs": [],
   "source": [
    "glove_50_dict = utils.dict_from_file(\"./glove.6B/glove.6B.50d.txt\")"
   ]
  },
  {
   "cell_type": "code",
   "execution_count": 34,
   "metadata": {},
   "outputs": [],
   "source": [
    "def lemmas(comment):\n",
    "    # for token in nlp(comment):\n",
    "    #     return []\n",
    "    return [token.lemma_.lower() for token in nlp(comment) if token.lemma_.lower() in glove_50_dict]"
   ]
  },
  {
   "cell_type": "code",
   "execution_count": 40,
   "metadata": {},
   "outputs": [],
   "source": [
    "def lowers(comment):\n",
    "    return [token.text.lower() for token in nlp(comment) if token.text.lower() in glove_50_dict]"
   ]
  },
  {
   "cell_type": "code",
   "execution_count": 41,
   "metadata": {},
   "outputs": [
    {
     "name": "stdout",
     "output_type": "stream",
     "text": [
      "!! brilliant move it gives Black the d4 pawn but this is trap.\n",
      "-\n",
      "!! brilliant move it gives Black the pawn but this is trap.\n",
      "['!', '!', 'brilliant', 'move', 'it', 'give', 'black', 'the', 'pawn', 'but', 'this', 'be', 'trap', '.']\n",
      "['!', '!', 'brilliant', 'move', 'it', 'gives', 'black', 'the', 'pawn', 'but', 'this', 'is', 'trap', '.']\n",
      "--------------------------------------------------\n",
      "?The strategic line is Nb4 -> Qf7 -> Nxd5 -> Qxd5, giving back some material and establishing three free pawns. 23.f4 Nxd3 24.Qxd3 Qf6 25.Bg5 Bf5 26.Bxf6 Bxd3 27.fe de 28.Bxe5/Rxe5 - ...but, alas, as we will see g6 needed protection!\n",
      "-\n",
      "?The strategic line is giving back some material and establishing three free pawns but alas as we will see needed protection!\n",
      "['?', 'the', 'strategic', 'line', 'be', 'give', 'back', 'some', 'material', 'and', 'establish', 'three', 'free', 'pawn', 'but', 'alas', 'as', 'we', 'will', 'see', 'need', 'protection', '!']\n",
      "['?', 'the', 'strategic', 'line', 'is', 'giving', 'back', 'some', 'material', 'and', 'establishing', 'three', 'free', 'pawns', 'but', 'alas', 'as', 'we', 'will', 'see', 'needed', 'protection', '!']\n",
      "--------------------------------------------------\n",
      "ok, did some thinking around Nb4 ... but it's too easily defendable by Na3 ...\n",
      " looks like it leads to attacking possibilities but nothing too promising.\n",
      " Like the idea of offering John en-passant, and if he takes I'll shift e pawn -> f6\n",
      " looking also to open up the d file ... castle on the Queens side... and have queen, rook, bishop and knight bearing down on poor d4.\n",
      "-\n",
      "ok did some thinking around but it's too easily defendable by looks like it leads to attacking possibilities but nothing too promising. Like the idea of offering John en passant and if he takes I'll shift e pawn looking also to open up the d file ... castle on the Queens side... and have queen rook bishop and knight bearing down on poor \n",
      "['ok', 'do', 'some', 'thinking', 'around', 'but', 'it', 'be', 'too', 'easily', 'defendable', 'by', 'look', 'like', 'it', 'lead', 'to', 'attack', 'possibility', 'but', 'nothing', 'too', 'promising', '.', 'like', 'the', 'idea', 'of', 'offer', 'john', 'en', 'passant', 'and', 'if', 'he', 'take', 'i', 'will', 'shift', 'e', 'pawn', 'look', 'also', 'to', 'open', 'up', 'the', 'd', 'file', '...', 'castle', 'on', 'the', 'queens', 'side', '...', 'and', 'have', 'queen', 'rook', 'bishop', 'and', 'knight', 'bear', 'down', 'on', 'poor']\n",
      "['ok', 'did', 'some', 'thinking', 'around', 'but', 'it', \"'s\", 'too', 'easily', 'defendable', 'by', 'looks', 'like', 'it', 'leads', 'to', 'attacking', 'possibilities', 'but', 'nothing', 'too', 'promising', '.', 'like', 'the', 'idea', 'of', 'offering', 'john', 'en', 'passant', 'and', 'if', 'he', 'takes', 'i', \"'ll\", 'shift', 'e', 'pawn', 'looking', 'also', 'to', 'open', 'up', 'the', 'd', 'file', '...', 'castle', 'on', 'the', 'queens', 'side', '...', 'and', 'have', 'queen', 'rook', 'bishop', 'and', 'knight', 'bearing', 'down', 'on', 'poor']\n",
      "--------------------------------------------------\n",
      "now he can choose the way the game will be ended\n",
      " lets see where he can move his king:\n",
      " 1. e2 and g2 --> losses his queen instantly because of Nf4 \n",
      " 2. f1 --> Rf6 his king is limited to two squares (e2 and g2, and we already \n",
      " know what will happen there :) )\n",
      " 3. f3 --> Rg6 followed by either e2 (see 1.) or g4 followed by Qg2 which \n",
      " leads to checkmate in 4 or 5 moves\n",
      "-\n",
      "now he can choose the way the game will be ended lets see where he can move his king and losses his queen instantly because of his king is limited to two squares and and we already know what will happen there followed by either see . or followed by which leads to checkmate in or moves\n",
      "['now', 'he', 'can', 'choose', 'the', 'way', 'the', 'game', 'will', 'be', 'end', 'let', 'see', 'where', 'he', 'can', 'move', 'his', 'king', 'and', 'loss', 'his', 'queen', 'instantly', 'because', 'of', 'his', 'king', 'be', 'limit', 'to', 'two', 'square', 'and', 'and', 'we', 'already', 'know', 'what', 'will', 'happen', 'there', 'follow', 'by', 'either', 'see', '.', 'or', 'follow', 'by', 'which', 'lead', 'to', 'checkmate', 'in', 'or', 'move']\n",
      "['now', 'he', 'can', 'choose', 'the', 'way', 'the', 'game', 'will', 'be', 'ended', 'lets', 'see', 'where', 'he', 'can', 'move', 'his', 'king', 'and', 'losses', 'his', 'queen', 'instantly', 'because', 'of', 'his', 'king', 'is', 'limited', 'to', 'two', 'squares', 'and', 'and', 'we', 'already', 'know', 'what', 'will', 'happen', 'there', 'followed', 'by', 'either', 'see', '.', 'or', 'followed', 'by', 'which', 'leads', 'to', 'checkmate', 'in', 'or', 'moves']\n",
      "--------------------------------------------------\n",
      "Score : (-0.06) +0.29 Depth : 17/39 14. Nb5 Be7 15. Nxd4 Rc8 16. f5 Nxf5 17. Nxf5 exf5 18. Rxf5 Qc6 19. Raf1\n",
      "-\n",
      "Score . . Depth \n",
      "['score', '.', '.', 'depth']\n",
      "['score', '.', '.', 'depth']\n",
      "--------------------------------------------------\n",
      "48. ....... d3?! - this pawn push is injudicious as this pawn is soon gonna drop off. Gameknot called it an Inaccuracy: +1.47 » … d3 48. Bxf6+ Kxf6 49. Rd1 Re2+ 50. Kf3 Ra2 51. Rxd3 h5 52. Rc3 g5 53. Rc6+ Ke7 54. Rh6 Rb2 55. Rxh5 Rxb3+ 56. Ke4\n",
      " Best: +0.76 » … Re3 48. Rb1 Be5 49. a5 Rd3 50. Ke2 Re3+ 51. Kd2 f6 52. g3 Rf3 53. b4 Ra3 54. Rc1 h6\n",
      " \n",
      " In the best line my queenside passers are stymied by black's rook. Although there are no more further mistakes, my advantage accumulates steadily over the next 20 moves until it becomes a winning one.\n",
      "-\n",
      " this pawn push is injudicious as this pawn is soon gonna drop off. Gameknot called it an Inaccuracy . Best . In the best line my queenside passers are stymied by black's rook. Although there are no more further mistakes my advantage accumulates steadily over the next moves until it becomes a winning one.\n",
      "['this', 'pawn', 'push', 'be', 'injudicious', 'as', 'this', 'pawn', 'be', 'soon', 'go', 'to', 'drop', 'off', '.', 'call', 'it', 'an', 'inaccuracy', '.', 'well', '.', 'in', 'the', 'good', 'line', 'my', 'queenside', 'passer', 'be', 'stymie', 'by', 'black', \"'s\", 'rook', '.', 'although', 'there', 'be', 'no', 'more', 'further', 'mistake', 'my', 'advantage', 'accumulate', 'steadily', 'over', 'the', 'next', 'move', 'until', 'it', 'become', 'a', 'win', 'one', '.']\n",
      "['this', 'pawn', 'push', 'is', 'injudicious', 'as', 'this', 'pawn', 'is', 'soon', 'gon', 'na', 'drop', 'off', '.', 'called', 'it', 'an', 'inaccuracy', '.', 'best', '.', 'in', 'the', 'best', 'line', 'my', 'queenside', 'passers', 'are', 'stymied', 'by', 'black', \"'s\", 'rook', '.', 'although', 'there', 'are', 'no', 'more', 'further', 'mistakes', 'my', 'advantage', 'accumulates', 'steadily', 'over', 'the', 'next', 'moves', 'until', 'it', 'becomes', 'a', 'winning', 'one', '.']\n",
      "--------------------------------------------------\n",
      "? Unnecessary, e.g. 14... Qf6 15. Bd5?! (15. Rxb8?? Na5) Bh2+. The wasted tempo gives White a clear advantage. (Fritz: 14... Rb8 +1.25/17; 14... Re8 +0.37)\n",
      "-\n",
      "? Unnecessary e.g The wasted tempo gives White a clear advantage. Fritz \n",
      "['?', 'unnecessary', 'e.g', 'the', 'waste', 'tempo', 'give', 'white', 'a', 'clear', 'advantage', '.', 'fritz']\n",
      "['?', 'unnecessary', 'e.g', 'the', 'wasted', 'tempo', 'gives', 'white', 'a', 'clear', 'advantage', '.', 'fritz']\n",
      "--------------------------------------------------\n",
      "A strange transposition. Now White has many plans, including the status quo Nc3, the \"anti-Sicilian\" c3, and c4 in the Maroczy bind spirit. That fact that many moves have been tired (successfully) here speaks to Black's opening choice. His dark squares are in critical condition (see d6 and b6), and he has yet too develop a piece in 3 moves. No doubt many White players past and present have attempted to refute this indulgence with various systems, but in reality Black's Kan-type system will not fall apart so easily with accurate play from the second player.\n",
      "-\n",
      "A strange transposition. Now White has many plans including the status quo the anti Sicilian and in the Maroczy bind spirit. That fact that many moves have been tired successfully here speaks to Black's opening choice. His dark squares are in critical condition see and and he has yet too develop a piece in moves. No doubt many White players past and present have attempted to refute this indulgence with various systems but in reality Black's Kan type system will not fall apart so easily with accurate play from the second player.\n",
      "['a', 'strange', 'transposition', '.', 'now', 'white', 'have', 'many', 'plan', 'include', 'the', 'status', 'quo', 'the', 'anti', 'sicilian', 'and', 'in', 'the', 'bind', 'spirit', '.', 'that', 'fact', 'that', 'many', 'move', 'have', 'be', 'tired', 'successfully', 'here', 'speak', 'to', 'black', \"'s\", 'opening', 'choice', '.', 'his', 'dark', 'square', 'be', 'in', 'critical', 'condition', 'see', 'and', 'and', 'he', 'have', 'yet', 'too', 'develop', 'a', 'piece', 'in', 'move', '.', 'no', 'doubt', 'many', 'white', 'player', 'past', 'and', 'present', 'have', 'attempt', 'to', 'refute', 'this', 'indulgence', 'with', 'various', 'system', 'but', 'in', 'reality', 'black', \"'s\", 'kan', 'type', 'system', 'will', 'not', 'fall', 'apart', 'so', 'easily', 'with', 'accurate', 'play', 'from', 'the', 'second', 'player', '.']\n",
      "['a', 'strange', 'transposition', '.', 'now', 'white', 'has', 'many', 'plans', 'including', 'the', 'status', 'quo', 'the', 'anti', 'sicilian', 'and', 'in', 'the', 'bind', 'spirit', '.', 'that', 'fact', 'that', 'many', 'moves', 'have', 'been', 'tired', 'successfully', 'here', 'speaks', 'to', 'black', \"'s\", 'opening', 'choice', '.', 'his', 'dark', 'squares', 'are', 'in', 'critical', 'condition', 'see', 'and', 'and', 'he', 'has', 'yet', 'too', 'develop', 'a', 'piece', 'in', 'moves', '.', 'no', 'doubt', 'many', 'white', 'players', 'past', 'and', 'present', 'have', 'attempted', 'to', 'refute', 'this', 'indulgence', 'with', 'various', 'systems', 'but', 'in', 'reality', 'black', \"'s\", 'kan', 'type', 'system', 'will', 'not', 'fall', 'apart', 'so', 'easily', 'with', 'accurate', 'play', 'from', 'the', 'second', 'player', '.']\n",
      "--------------------------------------------------\n",
      "...B-f6...Excellent Move for Black...!!!!......If ..20.R-b1---B-d4 pinning / winning Rook on f2....White at this point might want to consider moving (20) R-f1 Bxb2...(21) Rb1 Bd4 check...(22) Kh1..from that point Black can move more aggresively with Re3..followed by R/1-e8..doubling the Rooks and a Commanding Control over center with strong attacking possibilities....OR....Black can move...(21) Rb1 Bd4 ck...(22) Kh1 and then..Be5 threatening mate...!!..either way...Black Will Decide...!!!!!!!!!!\n",
      "-\n",
      " Excellent Move for Black...!!!!......If .. pinning winning Rook on White at this point might want to consider moving check... from that point Black can move more aggresively with followed by R doubling the Rooks and a Commanding Control over center with strong attacking possibilities....OR....Black can move... ck... and then threatening mate...!!..either way...Black Will Decide...!!!!!!!!!!\n",
      "['excellent', 'move', 'for', 'black', '...', '!!!!', 'if', 'pin', 'win', 'rook', 'on', 'white', 'at', 'this', 'point', 'might', 'want', 'to', 'consider', 'move', 'check', '...', 'from', 'that', 'point', 'black', 'can', 'move', 'more', 'aggresively', 'with', 'follow', 'by', 'r', 'double', 'the', 'rooks', 'and', 'a', 'commanding', 'control', 'over', 'center', 'with', 'strong', 'attacking', 'possibility', '....', 'or', '....', 'black', 'can', 'move', '...', 'ck', '...', 'and', 'then', 'threaten', 'mate', '...', '!!', 'either', 'way', '...', 'black', 'will', 'decide', '...', '!', '!', '!', '!', '!', '!', '!', '!', '!', '!']\n",
      "['excellent', 'move', 'for', 'black', '...', '!!!!', 'if', 'pinning', 'winning', 'rook', 'on', 'white', 'at', 'this', 'point', 'might', 'want', 'to', 'consider', 'moving', 'check', '...', 'from', 'that', 'point', 'black', 'can', 'move', 'more', 'aggresively', 'with', 'followed', 'by', 'r', 'doubling', 'the', 'rooks', 'and', 'a', 'commanding', 'control', 'over', 'center', 'with', 'strong', 'attacking', 'possibilities', '....', 'or', '....', 'black', 'can', 'move', '...', 'ck', '...', 'and', 'then', 'threatening', 'mate', '...', '!!', 'either', 'way', '...', 'black', 'will', 'decide', '...', '!', '!', '!', '!', '!', '!', '!', '!', '!', '!']\n",
      "--------------------------------------------------\n"
     ]
    }
   ],
   "source": [
    "import re\n",
    "com1 = \"!! brilliant move it gives Black the d4 pawn but this is trap.\"\n",
    "com2 = \"?The strategic line is Nb4 -> Qf7 -> Nxd5 -> Qxd5, giving back some material and establishing three free pawns. 23.f4 Nxd3 24.Qxd3 Qf6 25.Bg5 Bf5 26.Bxf6 Bxd3 27.fe de 28.Bxe5/Rxe5 - ...but, alas, as we will see g6 needed protection!\"\n",
    "com3 = \"\"\"ok, did some thinking around Nb4 ... but it's too easily defendable by Na3 ...\n",
    " looks like it leads to attacking possibilities but nothing too promising.\n",
    " Like the idea of offering John en-passant, and if he takes I'll shift e pawn -> f6\n",
    " looking also to open up the d file ... castle on the Queens side... and have queen, rook, bishop and knight bearing down on poor d4.\"\"\"\n",
    "com4 = \"\"\"now he can choose the way the game will be ended\n",
    " lets see where he can move his king:\n",
    " 1. e2 and g2 --> losses his queen instantly because of Nf4 \n",
    " 2. f1 --> Rf6 his king is limited to two squares (e2 and g2, and we already \n",
    " know what will happen there :) )\n",
    " 3. f3 --> Rg6 followed by either e2 (see 1.) or g4 followed by Qg2 which \n",
    " leads to checkmate in 4 or 5 moves\"\"\"\n",
    "com5 = \"Score : (-0.06) +0.29 Depth : 17/39 14. Nb5 Be7 15. Nxd4 Rc8 16. f5 Nxf5 17. Nxf5 exf5 18. Rxf5 Qc6 19. Raf1\"\n",
    "com6 = \"\"\"48. ....... d3?! - this pawn push is injudicious as this pawn is soon gonna drop off. Gameknot called it an Inaccuracy: +1.47 » … d3 48. Bxf6+ Kxf6 49. Rd1 Re2+ 50. Kf3 Ra2 51. Rxd3 h5 52. Rc3 g5 53. Rc6+ Ke7 54. Rh6 Rb2 55. Rxh5 Rxb3+ 56. Ke4\n",
    " Best: +0.76 » … Re3 48. Rb1 Be5 49. a5 Rd3 50. Ke2 Re3+ 51. Kd2 f6 52. g3 Rf3 53. b4 Ra3 54. Rc1 h6\n",
    " \n",
    " In the best line my queenside passers are stymied by black's rook. Although there are no more further mistakes, my advantage accumulates steadily over the next 20 moves until it becomes a winning one.\"\"\"\n",
    "com7 = \"? Unnecessary, e.g. 14... Qf6 15. Bd5?! (15. Rxb8?? Na5) Bh2+. The wasted tempo gives White a clear advantage. (Fritz: 14... Rb8 +1.25/17; 14... Re8 +0.37)\"\n",
    "com8 = \"\"\"A strange transposition. Now White has many plans, including the status quo Nc3, the \"anti-Sicilian\" c3, and c4 in the Maroczy bind spirit. That fact that many moves have been tired (successfully) here speaks to Black's opening choice. His dark squares are in critical condition (see d6 and b6), and he has yet too develop a piece in 3 moves. No doubt many White players past and present have attempted to refute this indulgence with various systems, but in reality Black's Kan-type system will not fall apart so easily with accurate play from the second player.\"\"\"\n",
    "com9 = \"\"\"...B-f6...Excellent Move for Black...!!!!......If ..20.R-b1---B-d4 pinning / winning Rook on f2....White at this point might want to consider moving (20) R-f1 Bxb2...(21) Rb1 Bd4 check...(22) Kh1..from that point Black can move more aggresively with Re3..followed by R/1-e8..doubling the Rooks and a Commanding Control over center with strong attacking possibilities....OR....Black can move...(21) Rb1 Bd4 ck...(22) Kh1 and then..Be5 threatening mate...!!..either way...Black Will Decide...!!!!!!!!!!\"\"\"\n",
    "# com = dp.replace_notation(com5)\n",
    "# print(com)\n",
    "\n",
    "coms = [com1, com2, com3, com4, com5, com6, com7, com8, com9]\n",
    "\n",
    "for com in coms:\n",
    "    print(com)\n",
    "    print('-')\n",
    "    com = dp.remove_useless(com)\n",
    "    print(com)\n",
    "    print(lemmas(com))\n",
    "    print(lowers(com))\n",
    "    print('--------------------------------------------------')\n",
    "\n",
    "# doc = nlp(com)\n",
    "\n",
    "# for token in doc:\n",
    "#     print(token, \"|\", token.lemma_, \"|\", token.pos_)\n",
    "\n",
    "# regex = r\"[\\\"#\\$%&\\'\\(\\)\\*\\+,-\\./:;<=>\\@\\[\\\\\\]\\^_`{\\|}~ ]+\"\n",
    "\n",
    "# res = [token.lemma_ for token in doc if not re.match(regex, token.lemma_) or re.match(\"__notation__\", token.lemma_)]\n",
    "# res"
   ]
  },
  {
   "cell_type": "code",
   "execution_count": 36,
   "metadata": {},
   "outputs": [
    {
     "name": "stdout",
     "output_type": "stream",
     "text": [
      "!! brilliant move it gives Black the d4 pawn but this is trap.\n",
      "['!', '!', 'brilliant', 'move', 'it', 'give', 'black', 'the', 'd4', 'pawn', 'but', 'this', 'be', 'trap', '.']\n",
      "------------\n",
      "?The strategic line is Nb4 -> Qf7 -> Nxd5 -> Qxd5, giving back some material and establishing three free pawns. 23.f4 Nxd3 24.Qxd3 Qf6 25.Bg5 Bf5 26.Bxf6 Bxd3 27.fe de 28.Bxe5/Rxe5 - ...but, alas, as we will see g6 needed protection!\n",
      "['?', 'the', 'strategic', 'line', 'be', 'nb4', '-', '>', 'qf7', '-', '>', 'nxd5', '-', '>', 'qxd5', ',', 'give', 'back', 'some', 'material', 'and', 'establish', 'three', 'free', 'pawn', '.', 'qf6', 'bf5', 'de', '/', 'rxe5', '-', '...', 'but', ',', 'alas', ',', 'as', 'we', 'will', 'see', 'g6', 'need', 'protection', '!']\n",
      "------------\n",
      "ok, did some thinking around Nb4 ... but it's too easily defendable by Na3 ...\n",
      " looks like it leads to attacking possibilities but nothing too promising.\n",
      " Like the idea of offering John en-passant, and if he takes I'll shift e pawn -> f6\n",
      " looking also to open up the d file ... castle on the Queens side... and have queen, rook, bishop and knight bearing down on poor d4.\n",
      "['ok', ',', 'do', 'some', 'thinking', 'around', 'nb4', '...', 'but', 'it', 'be', 'too', 'easily', 'defendable', 'by', 'na3', '...', 'look', 'like', 'it', 'lead', 'to', 'attack', 'possibility', 'but', 'nothing', 'too', 'promising', '.', 'like', 'the', 'idea', 'of', 'offer', 'john', 'en', '-', 'passant', ',', 'and', 'if', 'he', 'take', 'i', 'will', 'shift', 'e', 'pawn', '-', '>', 'f6', 'look', 'also', 'to', 'open', 'up', 'the', 'd', 'file', '...', 'castle', 'on', 'the', 'queens', 'side', '...', 'and', 'have', 'queen', ',', 'rook', ',', 'bishop', 'and', 'knight', 'bear', 'down', 'on', 'poor', 'd4', '.']\n",
      "------------\n",
      "now he can choose the way the game will be ended\n",
      " lets see where he can move his king:\n",
      " 1. e2 and g2 --> losses his queen instantly because of Nf4 \n",
      " 2. f1 --> Rf6 his king is limited to two squares (e2 and g2, and we already \n",
      " know what will happen there :) )\n",
      " 3. f3 --> Rg6 followed by either e2 (see 1.) or g4 followed by Qg2 which \n",
      " leads to checkmate in 4 or 5 moves\n",
      "['now', 'he', 'can', 'choose', 'the', 'way', 'the', 'game', 'will', 'be', 'end', 'let', 'see', 'where', 'he', 'can', 'move', 'his', 'king', ':', '1', '.', 'e2', 'and', 'g2', '--', '>', 'loss', 'his', 'queen', 'instantly', 'because', 'of', 'nf4', '2', '.', 'f1', '--', '>', 'rf6', 'his', 'king', 'be', 'limit', 'to', 'two', 'square', '(', 'e2', 'and', 'g2', ',', 'and', 'we', 'already', 'know', 'what', 'will', 'happen', 'there', ':)', ')', '3', '.', 'f3', '--', '>', 'rg6', 'follow', 'by', 'either', 'e2', '(', 'see', '1', '.', ')', 'or', 'g4', 'follow', 'by', 'which', 'lead', 'to', 'checkmate', 'in', '4', 'or', '5', 'move']\n",
      "------------\n",
      "Score : (-0.06) +0.29 Depth : 17/39 14. Nb5 Be7 15. Nxd4 Rc8 16. f5 Nxf5 17. Nxf5 exf5 18. Rxf5 Qc6 19. Raf1\n",
      "['score', ':', '(', ')', 'depth', ':', '14', '.', 'nb5', 'be7', '15', '.', 'nxd4', 'rc8', '16', '.', 'f5', '17', '.', 'exf5', '18', '.', 'qc6', '19', '.']\n",
      "------------\n",
      "48. ....... d3?! - this pawn push is injudicious as this pawn is soon gonna drop off. Gameknot called it an Inaccuracy: +1.47 » … d3 48. Bxf6+ Kxf6 49. Rd1 Re2+ 50. Kf3 Ra2 51. Rxd3 h5 52. Rc3 g5 53. Rc6+ Ke7 54. Rh6 Rb2 55. Rxh5 Rxb3+ 56. Ke4\n",
      " Best: +0.76 » … Re3 48. Rb1 Be5 49. a5 Rd3 50. Ke2 Re3+ 51. Kd2 f6 52. g3 Rf3 53. b4 Ra3 54. Rc1 h6\n",
      " \n",
      " In the best line my queenside passers are stymied by black's rook. Although there are no more further mistakes, my advantage accumulates steadily over the next 20 moves until it becomes a winning one.\n",
      "['48', '.', 'd3', '?', '!', '-', 'this', 'pawn', 'push', 'be', 'injudicious', 'as', 'this', 'pawn', 'be', 'soon', 'go', 'to', 'drop', 'off', '.', 'call', 'it', 'an', 'inaccuracy', ':', '»', '…', 'd3', '48', '.', 'bxf6', '+', '49', '.', 'rd1', 're2', '+', '50', '.', 'kf3', 'ra2', '51', '.', 'h5', '52', '.', 'rc3', 'g5', '53', '.', 'rc6', '+', 'ke7', '54', '.', 'rh6', 'rb2', '55', '.', '+', '56', '.', 'ke4', 'good', ':', '»', '…', 're3', '48', '.', 'rb1', 'be5', '49', '.', 'a5', 'rd3', '50', '.', 'ke2', 're3', '+', '51', '.', 'kd2', 'f6', '52', '.', 'g3', 'rf3', '53', '.', 'b4', 'ra3', '54', '.', 'rc1', 'h6', 'in', 'the', 'good', 'line', 'my', 'queenside', 'passer', 'be', 'stymie', 'by', 'black', \"'s\", 'rook', '.', 'although', 'there', 'be', 'no', 'more', 'further', 'mistake', ',', 'my', 'advantage', 'accumulate', 'steadily', 'over', 'the', 'next', '20', 'move', 'until', 'it', 'become', 'a', 'win', 'one', '.']\n",
      "------------\n",
      "? Unnecessary, e.g. 14... Qf6 15. Bd5?! (15. Rxb8?? Na5) Bh2+. The wasted tempo gives White a clear advantage. (Fritz: 14... Rb8 +1.25/17; 14... Re8 +0.37)\n",
      "['?', 'unnecessary', ',', 'e.g.', '14', '...', 'qf6', '15', '.', 'bd5', '?', '!', '(', '15', '.', '?', '?', 'na5', ')', '+', '.', 'the', 'waste', 'tempo', 'give', 'white', 'a', 'clear', 'advantage', '.', '(', 'fritz', ':', '14', '...', 'rb8', ';', '14', '...', 're8', ')']\n",
      "------------\n",
      "A strange transposition. Now White has many plans, including the status quo Nc3, the \"anti-Sicilian\" c3, and c4 in the Maroczy bind spirit. That fact that many moves have been tired (successfully) here speaks to Black's opening choice. His dark squares are in critical condition (see d6 and b6), and he has yet too develop a piece in 3 moves. No doubt many White players past and present have attempted to refute this indulgence with various systems, but in reality Black's Kan-type system will not fall apart so easily with accurate play from the second player.\n",
      "['a', 'strange', 'transposition', '.', 'now', 'white', 'have', 'many', 'plan', ',', 'include', 'the', 'status', 'quo', 'nc3', ',', 'the', '\"', 'anti', '-', 'sicilian', '\"', 'c3', ',', 'and', 'c4', 'in', 'the', 'bind', 'spirit', '.', 'that', 'fact', 'that', 'many', 'move', 'have', 'be', 'tired', '(', 'successfully', ')', 'here', 'speak', 'to', 'black', \"'s\", 'opening', 'choice', '.', 'his', 'dark', 'square', 'be', 'in', 'critical', 'condition', '(', 'see', 'd6', 'and', 'b6', ')', ',', 'and', 'he', 'have', 'yet', 'too', 'develop', 'a', 'piece', 'in', '3', 'move', '.', 'no', 'doubt', 'many', 'white', 'player', 'past', 'and', 'present', 'have', 'attempt', 'to', 'refute', 'this', 'indulgence', 'with', 'various', 'system', ',', 'but', 'in', 'reality', 'black', \"'s\", 'kan', '-', 'type', 'system', 'will', 'not', 'fall', 'apart', 'so', 'easily', 'with', 'accurate', 'play', 'from', 'the', 'second', 'player', '.']\n",
      "------------\n",
      "...B-f6...Excellent Move for Black...!!!!......If ..20.R-b1---B-d4 pinning / winning Rook on f2....White at this point might want to consider moving (20) R-f1 Bxb2...(21) Rb1 Bd4 check...(22) Kh1..from that point Black can move more aggresively with Re3..followed by R/1-e8..doubling the Rooks and a Commanding Control over center with strong attacking possibilities....OR....Black can move...(21) Rb1 Bd4 ck...(22) Kh1 and then..Be5 threatening mate...!!..either way...Black Will Decide...!!!!!!!!!!\n",
      "['...', 'b', '-', 'f6', '...', 'excellent', 'move', 'for', 'black', '...', '!!!!', 'if', '-', 'b1', '-', '-', 'd4', 'pin', '/', 'win', 'rook', 'on', 'f2', '....', 'white', 'at', 'this', 'point', 'might', 'want', 'to', 'consider', 'move', '(', '20', ')', 'r', '-', 'f1', '...', ')', 'rb1', 'bd4', 'check', '...', ')', 'kh1', 'from', 'that', 'point', 'black', 'can', 'move', 'more', 'aggresively', 'with', 're3', 'follow', 'by', '-', 'e8', 'double', 'the', 'rooks', 'and', 'a', 'commanding', 'control', 'over', 'center', 'with', 'strong', 'attacking', 'possibility', '....', 'or', '....', 'black', 'can', 'move', '...', ')', 'rb1', 'bd4', 'ck', '...', ')', 'kh1', 'and', 'then', 'be5', 'threaten', 'mate', '...', '!!', 'either', 'way', '...', 'black', 'will', 'decide', '...', '!', '!', '!', '!', '!', '!', '!', '!', '!', '!']\n",
      "------------\n"
     ]
    }
   ],
   "source": [
    "for com in coms:\n",
    "    print(com)\n",
    "    print(lemmas(com))\n",
    "    print('------------')"
   ]
  },
  {
   "cell_type": "code",
   "execution_count": 4,
   "metadata": {},
   "outputs": [
    {
     "name": "stdout",
     "output_type": "stream",
     "text": [
      "?The strategic line is giving back some material and establishing three free pawns but alas as we will see needed protection!\n",
      "?\n",
      "the\n",
      "strategic\n",
      "line\n",
      "be\n",
      "give\n",
      "back\n",
      "some\n",
      "material\n",
      "and\n",
      "establish\n",
      "three\n",
      "free\n",
      "pawn\n",
      "but\n",
      "alas\n",
      "as\n",
      "we\n",
      "will\n",
      "see\n",
      "need\n",
      "protection\n",
      "!\n"
     ]
    }
   ],
   "source": [
    "c2 = dp.remove_non_letters(com2)\n",
    "print(c2)\n",
    "doc = nlp(c2)\n",
    "for token in doc:\n",
    "    print(token.lemma_)"
   ]
  },
  {
   "cell_type": "code",
   "execution_count": 5,
   "metadata": {},
   "outputs": [
    {
     "name": "stdout",
     "output_type": "stream",
     "text": [
      "? Unnecessary e.g The wasted tempo gives White a clear advantage. Fritz \n",
      "?\n",
      "unnecessary\n",
      "e.g\n",
      "the\n",
      "waste\n",
      "tempo\n",
      "give\n",
      "White\n",
      "a\n",
      "clear\n",
      "advantage\n",
      ".\n",
      "Fritz\n"
     ]
    }
   ],
   "source": [
    "c = dp.remove_non_letters(com7)\n",
    "print(c)\n",
    "doc = nlp(c)\n",
    "for token in doc:\n",
    "    print(token.lemma_)"
   ]
  },
  {
   "cell_type": "code",
   "execution_count": 6,
   "metadata": {},
   "outputs": [
    {
     "name": "stdout",
     "output_type": "stream",
     "text": [
      "I\n"
     ]
    }
   ],
   "source": [
    "doc = nlp('i')\n",
    "for token in doc:\n",
    "    print(token.lemma_)"
   ]
  },
  {
   "cell_type": "code",
   "execution_count": 10,
   "metadata": {},
   "outputs": [
    {
     "name": "stderr",
     "output_type": "stream",
     "text": [
      "[nltk_data] Downloading package wordnet to /home/kamil/nltk_data...\n",
      "[nltk_data]   Package wordnet is already up-to-date!\n"
     ]
    },
    {
     "data": {
      "text/plain": [
       "True"
      ]
     },
     "execution_count": 10,
     "metadata": {},
     "output_type": "execute_result"
    }
   ],
   "source": [
    "import nltk\n",
    "\n",
    "nltk.download('wordnet')"
   ]
  },
  {
   "cell_type": "code",
   "execution_count": 17,
   "metadata": {},
   "outputs": [],
   "source": [
    "def lemmas(comment):\n",
    "    doc = nlp(comment)\n",
    "    return [token.lemma_.lower() for token in doc]"
   ]
  },
  {
   "cell_type": "code",
   "execution_count": 18,
   "metadata": {},
   "outputs": [
    {
     "name": "stdout",
     "output_type": "stream",
     "text": [
      "e.g. | e.g.\n"
     ]
    }
   ],
   "source": [
    "doc = nlp(\"e.g.\")\n",
    "\n",
    "for token in doc:\n",
    "    print(token.text, \"|\", token.lemma_ )"
   ]
  },
  {
   "cell_type": "code",
   "execution_count": 19,
   "metadata": {},
   "outputs": [
    {
     "name": "stdout",
     "output_type": "stream",
     "text": [
      "!! brilliant move it gives Black the d4 pawn but this is trap.\n",
      "!! brilliant move it gives Black the pawn but this is trap.\n",
      "['!', '!', 'brilliant', 'move', 'it', 'give', 'black', 'the', 'pawn', 'but', 'this', 'be', 'trap', '.']\n",
      "---------------------------------------\n",
      "?The strategic line is Nb4 -> Qf7 -> Nxd5 -> Qxd5, giving back some material and establishing three free pawns. 23.f4 Nxd3 24.Qxd3 Qf6 25.Bg5 Bf5 26.Bxf6 Bxd3 27.fe de 28.Bxe5/Rxe5 - ...but, alas, as we will see g6 needed protection!\n",
      "?The strategic line is giving back some material and establishing three free pawns but alas as we will see needed protection!\n",
      "['?', 'the', 'strategic', 'line', 'be', 'give', 'back', 'some', 'material', 'and', 'establish', 'three', 'free', 'pawn', 'but', 'alas', 'as', 'we', 'will', 'see', 'need', 'protection', '!']\n",
      "---------------------------------------\n",
      "ok, did some thinking around Nb4 ... but it's too easily defendable by Na3 ...\n",
      " looks like it leads to attacking possibilities but nothing too promising.\n",
      " Like the idea of offering John en-passant, and if he takes I'll shift e pawn -> f6\n",
      " looking also to open up the d file ... castle on the Queens side... and have queen, rook, bishop and knight bearing down on poor d4.\n",
      "ok did some thinking around but it's too easily defendable by looks like it leads to attacking possibilities but nothing too promising. Like the idea of offering John en passant and if he takes I'll shift e pawn looking also to open up the d file ... castle on the Queens side... and have queen rook bishop and knight bearing down on poor \n",
      "['ok', 'do', 'some', 'thinking', 'around', 'but', 'it', 'be', 'too', 'easily', 'defendable', 'by', 'look', 'like', 'it', 'lead', 'to', 'attack', 'possibility', 'but', 'nothing', 'too', 'promising', '.', 'like', 'the', 'idea', 'of', 'offer', 'john', 'en', 'passant', 'and', 'if', 'he', 'take', 'i', 'will', 'shift', 'e', 'pawn', 'look', 'also', 'to', 'open', 'up', 'the', 'd', 'file', '...', 'castle', 'on', 'the', 'queens', 'side', '...', 'and', 'have', 'queen', 'rook', 'bishop', 'and', 'knight', 'bear', 'down', 'on', 'poor']\n",
      "---------------------------------------\n",
      "now he can choose the way the game will be ended\n",
      " lets see where he can move his king:\n",
      " 1. e2 and g2 --> losses his queen instantly because of Nf4 \n",
      " 2. f1 --> Rf6 his king is limited to two squares (e2 and g2, and we already \n",
      " know what will happen there :) )\n",
      " 3. f3 --> Rg6 followed by either e2 (see 1.) or g4 followed by Qg2 which \n",
      " leads to checkmate in 4 or 5 moves\n",
      "now he can choose the way the game will be ended lets see where he can move his king and losses his queen instantly because of his king is limited to two squares and and we already know what will happen there followed by either see . or followed by which leads to checkmate in or moves\n",
      "['now', 'he', 'can', 'choose', 'the', 'way', 'the', 'game', 'will', 'be', 'end', 'let', 'see', 'where', 'he', 'can', 'move', 'his', 'king', 'and', 'loss', 'his', 'queen', 'instantly', 'because', 'of', 'his', 'king', 'be', 'limit', 'to', 'two', 'square', 'and', 'and', 'we', 'already', 'know', 'what', 'will', 'happen', 'there', 'follow', 'by', 'either', 'see', '.', 'or', 'follow', 'by', 'which', 'lead', 'to', 'checkmate', 'in', 'or', 'move']\n",
      "---------------------------------------\n",
      "Score : (-0.06) +0.29 Depth : 17/39 14. Nb5 Be7 15. Nxd4 Rc8 16. f5 Nxf5 17. Nxf5 exf5 18. Rxf5 Qc6 19. Raf1\n",
      "Score . . Depth \n",
      "['score', '.', '.', 'depth']\n",
      "---------------------------------------\n",
      "48. ....... d3?! - this pawn push is injudicious as this pawn is soon gonna drop off. Gameknot called it an Inaccuracy: +1.47 » … d3 48. Bxf6+ Kxf6 49. Rd1 Re2+ 50. Kf3 Ra2 51. Rxd3 h5 52. Rc3 g5 53. Rc6+ Ke7 54. Rh6 Rb2 55. Rxh5 Rxb3+ 56. Ke4\n",
      " Best: +0.76 » … Re3 48. Rb1 Be5 49. a5 Rd3 50. Ke2 Re3+ 51. Kd2 f6 52. g3 Rf3 53. b4 Ra3 54. Rc1 h6\n",
      " \n",
      " In the best line my queenside passers are stymied by black's rook. Although there are no more further mistakes, my advantage accumulates steadily over the next 20 moves until it becomes a winning one.\n",
      " this pawn push is injudicious as this pawn is soon gonna drop off. Gameknot called it an Inaccuracy . Best . In the best line my queenside passers are stymied by black's rook. Although there are no more further mistakes my advantage accumulates steadily over the next moves until it becomes a winning one.\n",
      "[' ', 'this', 'pawn', 'push', 'be', 'injudicious', 'as', 'this', 'pawn', 'be', 'soon', 'go', 'to', 'drop', 'off', '.', 'gameknot', 'call', 'it', 'an', 'inaccuracy', '.', 'well', '.', 'in', 'the', 'good', 'line', 'my', 'queenside', 'passer', 'be', 'stymie', 'by', 'black', \"'s\", 'rook', '.', 'although', 'there', 'be', 'no', 'more', 'further', 'mistake', 'my', 'advantage', 'accumulate', 'steadily', 'over', 'the', 'next', 'move', 'until', 'it', 'become', 'a', 'win', 'one', '.']\n",
      "---------------------------------------\n",
      "? Unnecessary, e.g. 14... Qf6 15. Bd5?! (15. Rxb8?? Na5) Bh2+. The wasted tempo gives White a clear advantage. (Fritz: 14... Rb8 +1.25/17; 14... Re8 +0.37)\n",
      "? Unnecessary e.g The wasted tempo gives White a clear advantage. Fritz \n",
      "['?', 'unnecessary', 'e.g', 'the', 'waste', 'tempo', 'give', 'white', 'a', 'clear', 'advantage', '.', 'fritz']\n",
      "---------------------------------------\n",
      "A strange transposition. Now White has many plans, including the status quo Nc3, the \"anti-Sicilian\" c3, and c4 in the Maroczy bind spirit. That fact that many moves have been tired (successfully) here speaks to Black's opening choice. His dark squares are in critical condition (see d6 and b6), and he has yet too develop a piece in 3 moves. No doubt many White players past and present have attempted to refute this indulgence with various systems, but in reality Black's Kan-type system will not fall apart so easily with accurate play from the second player.\n",
      "A strange transposition. Now White has many plans including the status quo the anti Sicilian and in the Maroczy bind spirit. That fact that many moves have been tired successfully here speaks to Black's opening choice. His dark squares are in critical condition see and and he has yet too develop a piece in moves. No doubt many White players past and present have attempted to refute this indulgence with various systems but in reality Black's Kan type system will not fall apart so easily with accurate play from the second player.\n",
      "['a', 'strange', 'transposition', '.', 'now', 'white', 'have', 'many', 'plan', 'include', 'the', 'status', 'quo', 'the', 'anti', 'sicilian', 'and', 'in', 'the', 'maroczy', 'bind', 'spirit', '.', 'that', 'fact', 'that', 'many', 'move', 'have', 'be', 'tired', 'successfully', 'here', 'speak', 'to', 'black', \"'s\", 'opening', 'choice', '.', 'his', 'dark', 'square', 'be', 'in', 'critical', 'condition', 'see', 'and', 'and', 'he', 'have', 'yet', 'too', 'develop', 'a', 'piece', 'in', 'move', '.', 'no', 'doubt', 'many', 'white', 'player', 'past', 'and', 'present', 'have', 'attempt', 'to', 'refute', 'this', 'indulgence', 'with', 'various', 'system', 'but', 'in', 'reality', 'black', \"'s\", 'kan', 'type', 'system', 'will', 'not', 'fall', 'apart', 'so', 'easily', 'with', 'accurate', 'play', 'from', 'the', 'second', 'player', '.']\n",
      "---------------------------------------\n",
      "...B-f6...Excellent Move for Black...!!!!......If ..20.R-b1---B-d4 pinning / winning Rook on f2....White at this point might want to consider moving (20) R-f1 Bxb2...(21) Rb1 Bd4 check...(22) Kh1..from that point Black can move more aggresively with Re3..followed by R/1-e8..doubling the Rooks and a Commanding Control over center with strong attacking possibilities....OR....Black can move...(21) Rb1 Bd4 ck...(22) Kh1 and then..Be5 threatening mate...!!..either way...Black Will Decide...!!!!!!!!!!\n",
      " Excellent Move for Black...!!!!......If .. pinning winning Rook on White at this point might want to consider moving check... from that point Black can move more aggresively with followed by R doubling the Rooks and a Commanding Control over center with strong attacking possibilities....OR....Black can move... ck... and then threatening mate...!!..either way...Black Will Decide...!!!!!!!!!!\n",
      "[' ', 'excellent', 'move', 'for', 'black', '...', '!!!!', '......', 'if', '..', 'pin', 'win', 'rook', 'on', 'white', 'at', 'this', 'point', 'might', 'want', 'to', 'consider', 'move', 'check', '...', 'from', 'that', 'point', 'black', 'can', 'move', 'more', 'aggresively', 'with', 'follow', 'by', 'r', 'double', 'the', 'rooks', 'and', 'a', 'commanding', 'control', 'over', 'center', 'with', 'strong', 'attacking', 'possibility', '....', 'or', '....', 'black', 'can', 'move', '...', 'ck', '...', 'and', 'then', 'threaten', 'mate', '...', '!!', '..', 'either', 'way', '...', 'black', 'will', 'decide', '...', '!', '!', '!', '!', '!', '!', '!', '!', '!', '!']\n",
      "---------------------------------------\n"
     ]
    }
   ],
   "source": [
    "tokenizer = nltk.RegexpTokenizer(r\"\\w+|[!?]{1,4}\")\n",
    "\n",
    "for com in coms:\n",
    "    print(com)\n",
    "    c = dp.remove_non_letters(com)\n",
    "    print(c)\n",
    "    # print(tokenizer.tokenize(c))\n",
    "    print(lemmas(c))\n",
    "    print('---------------------------------------')"
   ]
  },
  {
   "cell_type": "code",
   "execution_count": null,
   "metadata": {},
   "outputs": [],
   "source": []
  }
 ],
 "metadata": {
  "kernelspec": {
   "display_name": "Python 3",
   "language": "python",
   "name": "python3"
  },
  "language_info": {
   "codemirror_mode": {
    "name": "ipython",
    "version": 3
   },
   "file_extension": ".py",
   "mimetype": "text/x-python",
   "name": "python",
   "nbconvert_exporter": "python",
   "pygments_lexer": "ipython3",
   "version": "3.11.5"
  },
  "orig_nbformat": 4,
  "vscode": {
   "interpreter": {
    "hash": "916dbcbb3f70747c44a77c7bcd40155683ae19c65e1c03b4aa3499c5328201f1"
   }
  }
 },
 "nbformat": 4,
 "nbformat_minor": 2
}
