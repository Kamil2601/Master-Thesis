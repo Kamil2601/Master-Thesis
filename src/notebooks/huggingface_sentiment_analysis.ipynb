{
 "cells": [
  {
   "cell_type": "code",
   "execution_count": 1,
   "metadata": {},
   "outputs": [],
   "source": [
    "%reload_ext autoreload\n",
    "%autoreload 2"
   ]
  },
  {
   "cell_type": "code",
   "execution_count": 2,
   "metadata": {},
   "outputs": [],
   "source": [
    "import sys\n",
    "sys.path.append(\"..\")\n",
    "\n",
    "import numpy as np\n",
    "import pandas as pd\n",
    "import utils.data_process as dp\n",
    "from random import shuffle\n",
    "from torch.utils.data.sampler import Sampler\n",
    "from torch.utils.data import DataLoader\n",
    "from datasets import load_dataset, Dataset\n",
    "from transformers import AutoTokenizer, DataCollatorWithPadding\n",
    "from custom_datasets.samplers import BySequenceLengthBatchSampler, BySequenceLengthBatchSampler2\n",
    "from utils.utils import load_sql_to_df, save_to_sql, plot_history\n",
    "from torch.optim import AdamW\n",
    "import torch\n",
    "from transformers import AutoModelForSequenceClassification, AutoConfig\n",
    "from transformers import get_scheduler\n",
    "import matplotlib.pyplot as plt\n",
    "import pytorch_lightning as pl\n",
    "from models.lightning import LitHuggingfaceClassifier"
   ]
  },
  {
   "cell_type": "code",
   "execution_count": 3,
   "metadata": {},
   "outputs": [],
   "source": [
    "chess_database_file = \"../../data/chess.db\""
   ]
  },
  {
   "cell_type": "code",
   "execution_count": 4,
   "metadata": {},
   "outputs": [
    {
     "data": {
      "text/html": [
       "<div>\n",
       "<style scoped>\n",
       "    .dataframe tbody tr th:only-of-type {\n",
       "        vertical-align: middle;\n",
       "    }\n",
       "\n",
       "    .dataframe tbody tr th {\n",
       "        vertical-align: top;\n",
       "    }\n",
       "\n",
       "    .dataframe thead th {\n",
       "        text-align: right;\n",
       "    }\n",
       "</style>\n",
       "<table border=\"1\" class=\"dataframe\">\n",
       "  <thead>\n",
       "    <tr style=\"text-align: right;\">\n",
       "      <th></th>\n",
       "      <th>position</th>\n",
       "      <th>move</th>\n",
       "      <th>comment</th>\n",
       "      <th>sentiment</th>\n",
       "    </tr>\n",
       "  </thead>\n",
       "  <tbody>\n",
       "    <tr>\n",
       "      <th>0</th>\n",
       "      <td>rnbqkbnr/pppppppp/8/8/8/8/PPPPPPPP/RNBQKBNR w ...</td>\n",
       "      <td>e2e4</td>\n",
       "      <td>This is my first gameknot game against someone...</td>\n",
       "      <td>-1</td>\n",
       "    </tr>\n",
       "    <tr>\n",
       "      <th>1</th>\n",
       "      <td>rnbqkbnr/pppp1ppp/8/4p3/4P3/8/PPPP1PPP/RNBQKBN...</td>\n",
       "      <td>b1c3</td>\n",
       "      <td>I've been playing the Vienna Gambit as white, ...</td>\n",
       "      <td>-1</td>\n",
       "    </tr>\n",
       "    <tr>\n",
       "      <th>2</th>\n",
       "      <td>rnbqkbnr/pppp1ppp/8/4p3/4P3/2N5/PPPP1PPP/R1BQK...</td>\n",
       "      <td>f8c5</td>\n",
       "      <td>Minor disappointment.</td>\n",
       "      <td>-1</td>\n",
       "    </tr>\n",
       "    <tr>\n",
       "      <th>3</th>\n",
       "      <td>r1bqk2r/pppp1ppp/2n2n2/2b1p3/2B1P3/2NP4/PPP2PP...</td>\n",
       "      <td>f2f4</td>\n",
       "      <td>My idea here is to expand on the kingside, dri...</td>\n",
       "      <td>-1</td>\n",
       "    </tr>\n",
       "    <tr>\n",
       "      <th>4</th>\n",
       "      <td>r1bqk2r/ppp2ppp/3p1n2/n1b1pP2/2B1P3/2NP4/PPP3P...</td>\n",
       "      <td>d1f3</td>\n",
       "      <td>Maybe this isn't the greatest plan, since with...</td>\n",
       "      <td>0</td>\n",
       "    </tr>\n",
       "    <tr>\n",
       "      <th>...</th>\n",
       "      <td>...</td>\n",
       "      <td>...</td>\n",
       "      <td>...</td>\n",
       "      <td>...</td>\n",
       "    </tr>\n",
       "    <tr>\n",
       "      <th>27500</th>\n",
       "      <td>2Q2b1k/1p3q2/p6p/5n2/3p1r2/5NR1/PP3K2/7R w - -...</td>\n",
       "      <td>g3h3</td>\n",
       "      <td>White defends very\\nactively, with his major p...</td>\n",
       "      <td>-1</td>\n",
       "    </tr>\n",
       "    <tr>\n",
       "      <th>27501</th>\n",
       "      <td>2Q2b1k/1p3q2/p6p/5n2/3p1r2/5N1R/PP3K2/7R b - -...</td>\n",
       "      <td>d4d3</td>\n",
       "      <td>A decoy, to tempt the White Queen\\naway from t...</td>\n",
       "      <td>-1</td>\n",
       "    </tr>\n",
       "    <tr>\n",
       "      <th>27502</th>\n",
       "      <td>5b1k/1p6/p6p/5n2/5r2/3Q1N1R/P3K3/q6R b - - 3 43</td>\n",
       "      <td>a1a2</td>\n",
       "      <td>And this brings about a very unusual middlegam...</td>\n",
       "      <td>-1</td>\n",
       "    </tr>\n",
       "    <tr>\n",
       "      <th>27503</th>\n",
       "      <td>5b1k/1p6/p6p/5n2/5r2/3Q3R/q2NK3/7R b - - 1 44</td>\n",
       "      <td>f4d4</td>\n",
       "      <td>Consistent chess. Black hammers away at the\\nw...</td>\n",
       "      <td>-1</td>\n",
       "    </tr>\n",
       "    <tr>\n",
       "      <th>27504</th>\n",
       "      <td>7k/1p1q2b1/p6p/5n2/8/1Q5R/7R/rNK5 b - - 13 50</td>\n",
       "      <td>f5d4</td>\n",
       "      <td>The cleanest kill.</td>\n",
       "      <td>-1</td>\n",
       "    </tr>\n",
       "  </tbody>\n",
       "</table>\n",
       "<p>1987727 rows × 4 columns</p>\n",
       "</div>"
      ],
      "text/plain": [
       "                                                position  move  \\\n",
       "0      rnbqkbnr/pppppppp/8/8/8/8/PPPPPPPP/RNBQKBNR w ...  e2e4   \n",
       "1      rnbqkbnr/pppp1ppp/8/4p3/4P3/8/PPPP1PPP/RNBQKBN...  b1c3   \n",
       "2      rnbqkbnr/pppp1ppp/8/4p3/4P3/2N5/PPPP1PPP/R1BQK...  f8c5   \n",
       "3      r1bqk2r/pppp1ppp/2n2n2/2b1p3/2B1P3/2NP4/PPP2PP...  f2f4   \n",
       "4      r1bqk2r/ppp2ppp/3p1n2/n1b1pP2/2B1P3/2NP4/PPP3P...  d1f3   \n",
       "...                                                  ...   ...   \n",
       "27500  2Q2b1k/1p3q2/p6p/5n2/3p1r2/5NR1/PP3K2/7R w - -...  g3h3   \n",
       "27501  2Q2b1k/1p3q2/p6p/5n2/3p1r2/5N1R/PP3K2/7R b - -...  d4d3   \n",
       "27502    5b1k/1p6/p6p/5n2/5r2/3Q1N1R/P3K3/q6R b - - 3 43  a1a2   \n",
       "27503      5b1k/1p6/p6p/5n2/5r2/3Q3R/q2NK3/7R b - - 1 44  f4d4   \n",
       "27504      7k/1p1q2b1/p6p/5n2/8/1Q5R/7R/rNK5 b - - 13 50  f5d4   \n",
       "\n",
       "                                                 comment  sentiment  \n",
       "0      This is my first gameknot game against someone...         -1  \n",
       "1      I've been playing the Vienna Gambit as white, ...         -1  \n",
       "2                                  Minor disappointment.         -1  \n",
       "3      My idea here is to expand on the kingside, dri...         -1  \n",
       "4      Maybe this isn't the greatest plan, since with...          0  \n",
       "...                                                  ...        ...  \n",
       "27500  White defends very\\nactively, with his major p...         -1  \n",
       "27501  A decoy, to tempt the White Queen\\naway from t...         -1  \n",
       "27502  And this brings about a very unusual middlegam...         -1  \n",
       "27503  Consistent chess. Black hammers away at the\\nw...         -1  \n",
       "27504                                 The cleanest kill.         -1  \n",
       "\n",
       "[1987727 rows x 4 columns]"
      ]
     },
     "execution_count": 4,
     "metadata": {},
     "output_type": "execute_result"
    }
   ],
   "source": [
    "important_columns = [\"position\", \"move\", \"comment\", \"sentiment\"]\n",
    "gameknot_moves_df = load_sql_to_df(\"SELECT * FROM english_annotated_moves\", chess_database_file)[important_columns]\n",
    "angelfire_moves = load_sql_to_df(\"SELECT * FROM angelfire_moves\", chess_database_file)[['position', 'move', 'comment']]\n",
    "angelfire_moves['sentiment'] = -1\n",
    "\n",
    "chessbase_moves = load_sql_to_df(\"SELECT * FROM chessbase_moves_with_comments_2\", chess_database_file)\n",
    "chessbase_moves = chessbase_moves[important_columns]\n",
    "\n",
    "moves_df = pd.concat((gameknot_moves_df, chessbase_moves, angelfire_moves), axis=0)\n",
    "moves_df"
   ]
  },
  {
   "cell_type": "code",
   "execution_count": 5,
   "metadata": {},
   "outputs": [],
   "source": [
    "data_df = moves_df[moves_df.sentiment.isin([0,1])]"
   ]
  },
  {
   "cell_type": "code",
   "execution_count": 6,
   "metadata": {},
   "outputs": [
    {
     "data": {
      "text/html": [
       "<div>\n",
       "<style scoped>\n",
       "    .dataframe tbody tr th:only-of-type {\n",
       "        vertical-align: middle;\n",
       "    }\n",
       "\n",
       "    .dataframe tbody tr th {\n",
       "        vertical-align: top;\n",
       "    }\n",
       "\n",
       "    .dataframe thead th {\n",
       "        text-align: right;\n",
       "    }\n",
       "</style>\n",
       "<table border=\"1\" class=\"dataframe\">\n",
       "  <thead>\n",
       "    <tr style=\"text-align: right;\">\n",
       "      <th></th>\n",
       "      <th>position</th>\n",
       "      <th>move</th>\n",
       "      <th>comment</th>\n",
       "      <th>sentiment</th>\n",
       "    </tr>\n",
       "  </thead>\n",
       "  <tbody>\n",
       "    <tr>\n",
       "      <th>4</th>\n",
       "      <td>r1bqk2r/ppp2ppp/3p1n2/n1b1pP2/2B1P3/2NP4/PPP3P...</td>\n",
       "      <td>d1f3</td>\n",
       "      <td>Maybe this isn't the greatest plan, since with...</td>\n",
       "      <td>0</td>\n",
       "    </tr>\n",
       "    <tr>\n",
       "      <th>7</th>\n",
       "      <td>r1bqk2r/pp3p1p/2pp2p1/2b1pPPn/2P1P3/2N2Q2/PPP1...</td>\n",
       "      <td>a7a6</td>\n",
       "      <td>? Too slow, maybe.</td>\n",
       "      <td>0</td>\n",
       "    </tr>\n",
       "    <tr>\n",
       "      <th>18</th>\n",
       "      <td>2kr4/1bq2p1Q/p1p3p1/3ppPP1/2PbP1P1/2N5/P1PB4/1...</td>\n",
       "      <td>g6f5</td>\n",
       "      <td>? This allows a combination by white. However,...</td>\n",
       "      <td>0</td>\n",
       "    </tr>\n",
       "    <tr>\n",
       "      <th>59</th>\n",
       "      <td>r7/pp1bkprp/2n1pN2/4P3/3P4/P7/5KPP/3R1B1R w - ...</td>\n",
       "      <td>f1d3</td>\n",
       "      <td>!! brilliant move it gives Black the d4 pawn b...</td>\n",
       "      <td>1</td>\n",
       "    </tr>\n",
       "    <tr>\n",
       "      <th>61</th>\n",
       "      <td>r7/pp1bkpr1/2n1pN1p/4P3/3P4/P2B4/5KPP/3R3R w -...</td>\n",
       "      <td>h2h4</td>\n",
       "      <td>!! this move is really fantastic. main job of ...</td>\n",
       "      <td>1</td>\n",
       "    </tr>\n",
       "    <tr>\n",
       "      <th>...</th>\n",
       "      <td>...</td>\n",
       "      <td>...</td>\n",
       "      <td>...</td>\n",
       "      <td>...</td>\n",
       "    </tr>\n",
       "    <tr>\n",
       "      <th>1633546</th>\n",
       "      <td>r5k1/5ppp/2q5/p1p1p3/2P1n3/P3P3/1Q3PPP/4NRK1 w...</td>\n",
       "      <td>b2e5</td>\n",
       "      <td>on account\\nof wegen</td>\n",
       "      <td>0</td>\n",
       "    </tr>\n",
       "    <tr>\n",
       "      <th>1633547</th>\n",
       "      <td>r1r3k1/5ppp/1Rb1qn2/p1p1p3/B1P1P3/P3P3/3Q1PPP/...</td>\n",
       "      <td>a8b8</td>\n",
       "      <td>was a very\\nimportant resource to avoid worse....</td>\n",
       "      <td>1</td>\n",
       "    </tr>\n",
       "    <tr>\n",
       "      <th>1633552</th>\n",
       "      <td>r4rk1/5ppp/2bpqnn1/p1p5/2P1pP2/P1BPP3/3Q2PP/1R...</td>\n",
       "      <td>g6e7</td>\n",
       "      <td>appears to prevent f5, but in\\nreality does no...</td>\n",
       "      <td>0</td>\n",
       "    </tr>\n",
       "    <tr>\n",
       "      <th>1633559</th>\n",
       "      <td>r1r3k1/4qppp/1Rbp1nn1/p1p5/2P1p3/P1BPPP2/3Q2PP...</td>\n",
       "      <td>f6d7</td>\n",
       "      <td>An important\\nintermediate move. Wichtiger Zwi...</td>\n",
       "      <td>1</td>\n",
       "    </tr>\n",
       "    <tr>\n",
       "      <th>1633569</th>\n",
       "      <td>3q1rk1/1bpp1ppp/np2pn2/8/1PP5/2Q1PN2/3PBPPP/B3...</td>\n",
       "      <td>d8e7</td>\n",
       "      <td>- provokes b5 - -\\nprovoziert b5 -</td>\n",
       "      <td>1</td>\n",
       "    </tr>\n",
       "  </tbody>\n",
       "</table>\n",
       "<p>216889 rows × 4 columns</p>\n",
       "</div>"
      ],
      "text/plain": [
       "                                                  position  move  \\\n",
       "4        r1bqk2r/ppp2ppp/3p1n2/n1b1pP2/2B1P3/2NP4/PPP3P...  d1f3   \n",
       "7        r1bqk2r/pp3p1p/2pp2p1/2b1pPPn/2P1P3/2N2Q2/PPP1...  a7a6   \n",
       "18       2kr4/1bq2p1Q/p1p3p1/3ppPP1/2PbP1P1/2N5/P1PB4/1...  g6f5   \n",
       "59       r7/pp1bkprp/2n1pN2/4P3/3P4/P7/5KPP/3R1B1R w - ...  f1d3   \n",
       "61       r7/pp1bkpr1/2n1pN1p/4P3/3P4/P2B4/5KPP/3R3R w -...  h2h4   \n",
       "...                                                    ...   ...   \n",
       "1633546  r5k1/5ppp/2q5/p1p1p3/2P1n3/P3P3/1Q3PPP/4NRK1 w...  b2e5   \n",
       "1633547  r1r3k1/5ppp/1Rb1qn2/p1p1p3/B1P1P3/P3P3/3Q1PPP/...  a8b8   \n",
       "1633552  r4rk1/5ppp/2bpqnn1/p1p5/2P1pP2/P1BPP3/3Q2PP/1R...  g6e7   \n",
       "1633559  r1r3k1/4qppp/1Rbp1nn1/p1p5/2P1p3/P1BPPP2/3Q2PP...  f6d7   \n",
       "1633569  3q1rk1/1bpp1ppp/np2pn2/8/1PP5/2Q1PN2/3PBPPP/B3...  d8e7   \n",
       "\n",
       "                                                   comment  sentiment  \n",
       "4        Maybe this isn't the greatest plan, since with...          0  \n",
       "7                                       ? Too slow, maybe.          0  \n",
       "18       ? This allows a combination by white. However,...          0  \n",
       "59       !! brilliant move it gives Black the d4 pawn b...          1  \n",
       "61       !! this move is really fantastic. main job of ...          1  \n",
       "...                                                    ...        ...  \n",
       "1633546                               on account\\nof wegen          0  \n",
       "1633547  was a very\\nimportant resource to avoid worse....          1  \n",
       "1633552  appears to prevent f5, but in\\nreality does no...          0  \n",
       "1633559  An important\\nintermediate move. Wichtiger Zwi...          1  \n",
       "1633569                 - provokes b5 - -\\nprovoziert b5 -          1  \n",
       "\n",
       "[216889 rows x 4 columns]"
      ]
     },
     "execution_count": 6,
     "metadata": {},
     "output_type": "execute_result"
    }
   ],
   "source": [
    "data_df"
   ]
  },
  {
   "cell_type": "code",
   "execution_count": 7,
   "metadata": {},
   "outputs": [],
   "source": [
    "data_dict = data_df[['comment', 'sentiment']].to_dict(orient='list')"
   ]
  },
  {
   "cell_type": "code",
   "execution_count": 8,
   "metadata": {},
   "outputs": [],
   "source": [
    "dataset = Dataset.from_dict(data_dict)\n",
    "raw_datasets = dataset.train_test_split(test_size=0.1, shuffle=True)"
   ]
  },
  {
   "cell_type": "code",
   "execution_count": 9,
   "metadata": {},
   "outputs": [
    {
     "data": {
      "application/vnd.jupyter.widget-view+json": {
       "model_id": "33b906290f9046a9856cfe931752ce64",
       "version_major": 2,
       "version_minor": 0
      },
      "text/plain": [
       "Map:   0%|          | 0/195200 [00:00<?, ? examples/s]"
      ]
     },
     "metadata": {},
     "output_type": "display_data"
    },
    {
     "data": {
      "application/vnd.jupyter.widget-view+json": {
       "model_id": "4da8b5623f2b4c689ffaf96be546df54",
       "version_major": 2,
       "version_minor": 0
      },
      "text/plain": [
       "Map:   0%|          | 0/21689 [00:00<?, ? examples/s]"
      ]
     },
     "metadata": {},
     "output_type": "display_data"
    }
   ],
   "source": [
    "checkpoint = \"distilbert-base-multilingual-cased\"\n",
    "tokenizer = AutoTokenizer.from_pretrained(checkpoint)\n",
    "\n",
    "\n",
    "def tokenize_function(example):\n",
    "    return tokenizer(example[\"comment\"], truncation=True)\n",
    "\n",
    "tokenized_datasets = raw_datasets.map(tokenize_function, batched=True)\n",
    "data_collator = DataCollatorWithPadding(tokenizer=tokenizer)"
   ]
  },
  {
   "cell_type": "code",
   "execution_count": 10,
   "metadata": {},
   "outputs": [
    {
     "data": {
      "text/plain": [
       "['labels', 'input_ids', 'attention_mask']"
      ]
     },
     "execution_count": 10,
     "metadata": {},
     "output_type": "execute_result"
    }
   ],
   "source": [
    "tokenized_datasets = tokenized_datasets.remove_columns([\"comment\"])\n",
    "tokenized_datasets = tokenized_datasets.rename_column(\"sentiment\", \"labels\")\n",
    "tokenized_datasets.set_format(\"torch\")\n",
    "tokenized_datasets[\"train\"].column_names"
   ]
  },
  {
   "cell_type": "code",
   "execution_count": 11,
   "metadata": {},
   "outputs": [
    {
     "data": {
      "text/plain": [
       "{'input_ids': [101, 18740, 38356, 25743, 61285, 14010, 119, 34961, 10114, 29597, 102], 'attention_mask': [1, 1, 1, 1, 1, 1, 1, 1, 1, 1, 1]}"
      ]
     },
     "execution_count": 11,
     "metadata": {},
     "output_type": "execute_result"
    }
   ],
   "source": [
    "tokenize_function(raw_datasets[\"train\"][0])"
   ]
  },
  {
   "cell_type": "code",
   "execution_count": 12,
   "metadata": {},
   "outputs": [],
   "source": [
    "sampler = BySequenceLengthBatchSampler2(tokenized_datasets[\"train\"][\"input_ids\"])"
   ]
  },
  {
   "cell_type": "code",
   "execution_count": 13,
   "metadata": {},
   "outputs": [
    {
     "data": {
      "text/plain": [
       "195200"
      ]
     },
     "execution_count": 13,
     "metadata": {},
     "output_type": "execute_result"
    }
   ],
   "source": [
    "len(tokenized_datasets[\"train\"][\"input_ids\"])"
   ]
  },
  {
   "cell_type": "code",
   "execution_count": 14,
   "metadata": {},
   "outputs": [],
   "source": [
    "batch_size = 8\n",
    "\n",
    "# sampler = BySequenceLengthBatchSampler2(tokenized_datasets[\"train\"][\"input_ids\"])\n",
    "\n",
    "train_dataloader = DataLoader(\n",
    "    tokenized_datasets[\"train\"], batch_sampler=sampler, collate_fn=data_collator\n",
    ")\n",
    "eval_dataloader = DataLoader(\n",
    "    tokenized_datasets[\"test\"], batch_size=batch_size, collate_fn=data_collator\n",
    ")"
   ]
  },
  {
   "cell_type": "code",
   "execution_count": 15,
   "metadata": {},
   "outputs": [
    {
     "name": "stderr",
     "output_type": "stream",
     "text": [
      "Some weights of DistilBertForSequenceClassification were not initialized from the model checkpoint at distilbert-base-multilingual-cased and are newly initialized: ['classifier.bias', 'pre_classifier.weight', 'pre_classifier.bias', 'classifier.weight']\n",
      "You should probably TRAIN this model on a down-stream task to be able to use it for predictions and inference.\n"
     ]
    }
   ],
   "source": [
    "model = AutoModelForSequenceClassification.from_pretrained(checkpoint, num_labels=2)\n",
    "# model = AutoModelForSequenceClassification.from_pretrained(\"../../models/distillbert-12-10/distilbert-base-multilingual-cased/\")\n",
    "config = AutoConfig.from_pretrained(checkpoint, num_labels=2)"
   ]
  },
  {
   "cell_type": "code",
   "execution_count": 16,
   "metadata": {},
   "outputs": [],
   "source": [
    "pl_model = LitHuggingfaceClassifier(model, learning_rate=1e-5)"
   ]
  },
  {
   "cell_type": "code",
   "execution_count": 17,
   "metadata": {},
   "outputs": [],
   "source": [
    "# pl_model = LitHuggingfaceClassifier.load_from_checkpoint(\"../../lightning_logs/comments_sentiment/tensorboard/DistilBertForSequenceClassification/version_5/checkpoints/epoch=4-step=31975.ckpt\", model=model)"
   ]
  },
  {
   "cell_type": "code",
   "execution_count": 18,
   "metadata": {},
   "outputs": [
    {
     "name": "stderr",
     "output_type": "stream",
     "text": [
      "GPU available: True (cuda), used: True\n",
      "TPU available: False, using: 0 TPU cores\n",
      "IPU available: False, using: 0 IPUs\n",
      "HPU available: False, using: 0 HPUs\n",
      "LOCAL_RANK: 0 - CUDA_VISIBLE_DEVICES: [0]\n"
     ]
    },
    {
     "data": {
      "text/html": [
       "<pre style=\"white-space:pre;overflow-x:auto;line-height:normal;font-family:Menlo,'DejaVu Sans Mono',consolas,'Courier New',monospace\">┏━━━┳━━━━━━━━━━━━━━━━━┳━━━━━━━━━━━━━━━━━━━━━━━━━━━━━━━━━━━━━┳━━━━━━━━┓\n",
       "┃<span style=\"color: #800080; text-decoration-color: #800080; font-weight: bold\">   </span>┃<span style=\"color: #800080; text-decoration-color: #800080; font-weight: bold\"> Name            </span>┃<span style=\"color: #800080; text-decoration-color: #800080; font-weight: bold\"> Type                                </span>┃<span style=\"color: #800080; text-decoration-color: #800080; font-weight: bold\"> Params </span>┃\n",
       "┡━━━╇━━━━━━━━━━━━━━━━━╇━━━━━━━━━━━━━━━━━━━━━━━━━━━━━━━━━━━━━╇━━━━━━━━┩\n",
       "│<span style=\"color: #7f7f7f; text-decoration-color: #7f7f7f\"> 0 </span>│ model           │ DistilBertForSequenceClassification │  135 M │\n",
       "│<span style=\"color: #7f7f7f; text-decoration-color: #7f7f7f\"> 1 </span>│ train_acc       │ MulticlassAccuracy                  │      0 │\n",
       "│<span style=\"color: #7f7f7f; text-decoration-color: #7f7f7f\"> 2 </span>│ valid_acc_micro │ MulticlassAccuracy                  │      0 │\n",
       "│<span style=\"color: #7f7f7f; text-decoration-color: #7f7f7f\"> 3 </span>│ valid_acc_macro │ MulticlassAccuracy                  │      0 │\n",
       "│<span style=\"color: #7f7f7f; text-decoration-color: #7f7f7f\"> 4 </span>│ test_acc        │ MulticlassAccuracy                  │      0 │\n",
       "└───┴─────────────────┴─────────────────────────────────────┴────────┘\n",
       "</pre>\n"
      ],
      "text/plain": [
       "┏━━━┳━━━━━━━━━━━━━━━━━┳━━━━━━━━━━━━━━━━━━━━━━━━━━━━━━━━━━━━━┳━━━━━━━━┓\n",
       "┃\u001b[1;35m \u001b[0m\u001b[1;35m \u001b[0m\u001b[1;35m \u001b[0m┃\u001b[1;35m \u001b[0m\u001b[1;35mName           \u001b[0m\u001b[1;35m \u001b[0m┃\u001b[1;35m \u001b[0m\u001b[1;35mType                               \u001b[0m\u001b[1;35m \u001b[0m┃\u001b[1;35m \u001b[0m\u001b[1;35mParams\u001b[0m\u001b[1;35m \u001b[0m┃\n",
       "┡━━━╇━━━━━━━━━━━━━━━━━╇━━━━━━━━━━━━━━━━━━━━━━━━━━━━━━━━━━━━━╇━━━━━━━━┩\n",
       "│\u001b[2m \u001b[0m\u001b[2m0\u001b[0m\u001b[2m \u001b[0m│ model           │ DistilBertForSequenceClassification │  135 M │\n",
       "│\u001b[2m \u001b[0m\u001b[2m1\u001b[0m\u001b[2m \u001b[0m│ train_acc       │ MulticlassAccuracy                  │      0 │\n",
       "│\u001b[2m \u001b[0m\u001b[2m2\u001b[0m\u001b[2m \u001b[0m│ valid_acc_micro │ MulticlassAccuracy                  │      0 │\n",
       "│\u001b[2m \u001b[0m\u001b[2m3\u001b[0m\u001b[2m \u001b[0m│ valid_acc_macro │ MulticlassAccuracy                  │      0 │\n",
       "│\u001b[2m \u001b[0m\u001b[2m4\u001b[0m\u001b[2m \u001b[0m│ test_acc        │ MulticlassAccuracy                  │      0 │\n",
       "└───┴─────────────────┴─────────────────────────────────────┴────────┘\n"
      ]
     },
     "metadata": {},
     "output_type": "display_data"
    },
    {
     "data": {
      "text/html": [
       "<pre style=\"white-space:pre;overflow-x:auto;line-height:normal;font-family:Menlo,'DejaVu Sans Mono',consolas,'Courier New',monospace\"><span style=\"font-weight: bold\">Trainable params</span>: 135 M                                                                                            \n",
       "<span style=\"font-weight: bold\">Non-trainable params</span>: 0                                                                                            \n",
       "<span style=\"font-weight: bold\">Total params</span>: 135 M                                                                                                \n",
       "<span style=\"font-weight: bold\">Total estimated model params size (MB)</span>: 541                                                                        \n",
       "</pre>\n"
      ],
      "text/plain": [
       "\u001b[1mTrainable params\u001b[0m: 135 M                                                                                            \n",
       "\u001b[1mNon-trainable params\u001b[0m: 0                                                                                            \n",
       "\u001b[1mTotal params\u001b[0m: 135 M                                                                                                \n",
       "\u001b[1mTotal estimated model params size (MB)\u001b[0m: 541                                                                        \n"
      ]
     },
     "metadata": {},
     "output_type": "display_data"
    },
    {
     "data": {
      "application/vnd.jupyter.widget-view+json": {
       "model_id": "fe2e603b9e504c63b5a518b4f10abc77",
       "version_major": 2,
       "version_minor": 0
      },
      "text/plain": [
       "Output()"
      ]
     },
     "metadata": {},
     "output_type": "display_data"
    },
    {
     "data": {
      "text/html": [
       "<pre style=\"white-space:pre;overflow-x:auto;line-height:normal;font-family:Menlo,'DejaVu Sans Mono',consolas,'Courier New',monospace\">/home/kamil/miniconda3/envs/thesis/lib/python3.11/site-packages/pytorch_lightning/trainer/connectors/data_connector\n",
       ".py:441: The 'val_dataloader' does not have many workers which may be a bottleneck. Consider increasing the value \n",
       "of the `num_workers` argument` to `num_workers=15` in the `DataLoader` to improve performance.\n",
       "</pre>\n"
      ],
      "text/plain": [
       "/home/kamil/miniconda3/envs/thesis/lib/python3.11/site-packages/pytorch_lightning/trainer/connectors/data_connector\n",
       ".py:441: The 'val_dataloader' does not have many workers which may be a bottleneck. Consider increasing the value \n",
       "of the `num_workers` argument` to `num_workers=15` in the `DataLoader` to improve performance.\n"
      ]
     },
     "metadata": {},
     "output_type": "display_data"
    },
    {
     "name": "stderr",
     "output_type": "stream",
     "text": [
      "You're using a DistilBertTokenizerFast tokenizer. Please note that with a fast tokenizer, using the `__call__` method is faster than using a method to encode the text followed by a call to the `pad` method to get a padded encoding.\n"
     ]
    },
    {
     "data": {
      "text/html": [
       "<pre style=\"white-space:pre;overflow-x:auto;line-height:normal;font-family:Menlo,'DejaVu Sans Mono',consolas,'Courier New',monospace\">/home/kamil/miniconda3/envs/thesis/lib/python3.11/site-packages/pytorch_lightning/trainer/connectors/data_connector\n",
       ".py:441: The 'train_dataloader' does not have many workers which may be a bottleneck. Consider increasing the value\n",
       "of the `num_workers` argument` to `num_workers=15` in the `DataLoader` to improve performance.\n",
       "</pre>\n"
      ],
      "text/plain": [
       "/home/kamil/miniconda3/envs/thesis/lib/python3.11/site-packages/pytorch_lightning/trainer/connectors/data_connector\n",
       ".py:441: The 'train_dataloader' does not have many workers which may be a bottleneck. Consider increasing the value\n",
       "of the `num_workers` argument` to `num_workers=15` in the `DataLoader` to improve performance.\n"
      ]
     },
     "metadata": {},
     "output_type": "display_data"
    },
    {
     "name": "stderr",
     "output_type": "stream",
     "text": [
      "`Trainer.fit` stopped: `max_epochs=6` reached.\n"
     ]
    },
    {
     "data": {
      "text/html": [
       "<pre style=\"white-space:pre;overflow-x:auto;line-height:normal;font-family:Menlo,'DejaVu Sans Mono',consolas,'Courier New',monospace\"></pre>\n"
      ],
      "text/plain": []
     },
     "metadata": {},
     "output_type": "display_data"
    },
    {
     "data": {
      "text/html": [
       "<pre style=\"white-space:pre;overflow-x:auto;line-height:normal;font-family:Menlo,'DejaVu Sans Mono',consolas,'Courier New',monospace\">\n",
       "</pre>\n"
      ],
      "text/plain": [
       "\n"
      ]
     },
     "metadata": {},
     "output_type": "display_data"
    }
   ],
   "source": [
    "from pytorch_lightning.loggers import TensorBoardLogger, CSVLogger\n",
    "from pytorch_lightning.callbacks import RichProgressBar\n",
    "\n",
    "tensorboard_logger = TensorBoardLogger(save_dir=\"../../lightning_logs/comments_sentiment/tensorboard/\", name=f\"{type(model).__name__}\")\n",
    "csv_logger = CSVLogger(save_dir=\"../../lightning_logs/comments_sentiment/csv/\", name=f\"{type(model).__name__}\")\n",
    "\n",
    "\n",
    "trainer = pl.Trainer(\n",
    "    accelerator=\"gpu\",\n",
    "    max_epochs=6,\n",
    "    callbacks=[RichProgressBar()],\n",
    "    logger=[tensorboard_logger, csv_logger]\n",
    ")\n",
    "\n",
    "trainer.fit(model=pl_model, train_dataloaders=train_dataloader, val_dataloaders=eval_dataloader)\n",
    "# trainer.validate(pl_model, dataloaders=eval_dataloader)"
   ]
  },
  {
   "cell_type": "code",
   "execution_count": 20,
   "metadata": {},
   "outputs": [],
   "source": [
    "model = AutoModelForSequenceClassification.from_pretrained(\"../../models/distillbert-12-10/distilbert-base-multilingual-cased/\")\n",
    "pl_model = LitHuggingfaceClassifier(model, learning_rate=1e-5)"
   ]
  },
  {
   "cell_type": "code",
   "execution_count": 21,
   "metadata": {},
   "outputs": [
    {
     "name": "stdout",
     "output_type": "stream",
     "text": [
      "Accuracy: 20908 / 21689 = 0.9639909631610494\n"
     ]
    }
   ],
   "source": [
    "correct_predictions = 0\n",
    "items = 0\n",
    "\n",
    "pl_model.cuda()\n",
    "\n",
    "for batch in eval_dataloader:\n",
    "    with torch.no_grad():\n",
    "        batch = {k: v.cuda() for k, v in batch.items()}\n",
    "        outputs = pl_model(batch)\n",
    "        predicts = torch.argmax(outputs.logits, dim=-1)\n",
    "        labels = batch[\"labels\"]\n",
    "        correct_predictions += torch.sum(predicts == labels).item()\n",
    "        items += len(labels)\n",
    "\n",
    "print(f\"Accuracy: {correct_predictions} / {items} = {correct_predictions / items}\")"
   ]
  },
  {
   "cell_type": "code",
   "execution_count": 22,
   "metadata": {},
   "outputs": [
    {
     "name": "stderr",
     "output_type": "stream",
     "text": [
      "LOCAL_RANK: 0 - CUDA_VISIBLE_DEVICES: [0]\n"
     ]
    },
    {
     "data": {
      "application/vnd.jupyter.widget-view+json": {
       "model_id": "20d52318014f4c5d820d909e76913f16",
       "version_major": 2,
       "version_minor": 0
      },
      "text/plain": [
       "Output()"
      ]
     },
     "metadata": {},
     "output_type": "display_data"
    },
    {
     "data": {
      "text/html": [
       "<pre style=\"white-space:pre;overflow-x:auto;line-height:normal;font-family:Menlo,'DejaVu Sans Mono',consolas,'Courier New',monospace\">┏━━━━━━━━━━━━━━━━━━━━━━━━━━━┳━━━━━━━━━━━━━━━━━━━━━━━━━━━┓\n",
       "┃<span style=\"font-weight: bold\">      Validate metric      </span>┃<span style=\"font-weight: bold\">       DataLoader 0        </span>┃\n",
       "┡━━━━━━━━━━━━━━━━━━━━━━━━━━━╇━━━━━━━━━━━━━━━━━━━━━━━━━━━┩\n",
       "│<span style=\"color: #008080; text-decoration-color: #008080\">      valid_acc_macro      </span>│<span style=\"color: #800080; text-decoration-color: #800080\">    0.9432557821273804     </span>│\n",
       "│<span style=\"color: #008080; text-decoration-color: #008080\">      valid_acc_micro      </span>│<span style=\"color: #800080; text-decoration-color: #800080\">    0.9639909863471985     </span>│\n",
       "│<span style=\"color: #008080; text-decoration-color: #008080\">        valid_loss         </span>│<span style=\"color: #800080; text-decoration-color: #800080\">    0.10363312065601349    </span>│\n",
       "└───────────────────────────┴───────────────────────────┘\n",
       "</pre>\n"
      ],
      "text/plain": [
       "┏━━━━━━━━━━━━━━━━━━━━━━━━━━━┳━━━━━━━━━━━━━━━━━━━━━━━━━━━┓\n",
       "┃\u001b[1m \u001b[0m\u001b[1m     Validate metric     \u001b[0m\u001b[1m \u001b[0m┃\u001b[1m \u001b[0m\u001b[1m      DataLoader 0       \u001b[0m\u001b[1m \u001b[0m┃\n",
       "┡━━━━━━━━━━━━━━━━━━━━━━━━━━━╇━━━━━━━━━━━━━━━━━━━━━━━━━━━┩\n",
       "│\u001b[36m \u001b[0m\u001b[36m     valid_acc_macro     \u001b[0m\u001b[36m \u001b[0m│\u001b[35m \u001b[0m\u001b[35m   0.9432557821273804    \u001b[0m\u001b[35m \u001b[0m│\n",
       "│\u001b[36m \u001b[0m\u001b[36m     valid_acc_micro     \u001b[0m\u001b[36m \u001b[0m│\u001b[35m \u001b[0m\u001b[35m   0.9639909863471985    \u001b[0m\u001b[35m \u001b[0m│\n",
       "│\u001b[36m \u001b[0m\u001b[36m       valid_loss        \u001b[0m\u001b[36m \u001b[0m│\u001b[35m \u001b[0m\u001b[35m   0.10363312065601349   \u001b[0m\u001b[35m \u001b[0m│\n",
       "└───────────────────────────┴───────────────────────────┘\n"
      ]
     },
     "metadata": {},
     "output_type": "display_data"
    },
    {
     "data": {
      "text/html": [
       "<pre style=\"white-space:pre;overflow-x:auto;line-height:normal;font-family:Menlo,'DejaVu Sans Mono',consolas,'Courier New',monospace\"></pre>\n"
      ],
      "text/plain": []
     },
     "metadata": {},
     "output_type": "display_data"
    },
    {
     "data": {
      "text/html": [
       "<pre style=\"white-space:pre;overflow-x:auto;line-height:normal;font-family:Menlo,'DejaVu Sans Mono',consolas,'Courier New',monospace\">\n",
       "</pre>\n"
      ],
      "text/plain": [
       "\n"
      ]
     },
     "metadata": {},
     "output_type": "display_data"
    },
    {
     "data": {
      "text/plain": [
       "[{'valid_loss': 0.10363312065601349,\n",
       "  'valid_acc_micro': 0.9639909863471985,\n",
       "  'valid_acc_macro': 0.9432557821273804}]"
      ]
     },
     "execution_count": 22,
     "metadata": {},
     "output_type": "execute_result"
    }
   ],
   "source": [
    "trainer.validate(pl_model, dataloaders=eval_dataloader)"
   ]
  },
  {
   "cell_type": "code",
   "execution_count": 19,
   "metadata": {},
   "outputs": [
    {
     "name": "stderr",
     "output_type": "stream",
     "text": [
      "GPU available: True (cuda), used: True\n",
      "TPU available: False, using: 0 TPU cores\n",
      "IPU available: False, using: 0 IPUs\n",
      "HPU available: False, using: 0 HPUs\n",
      "LOCAL_RANK: 0 - CUDA_VISIBLE_DEVICES: [0]\n"
     ]
    },
    {
     "data": {
      "text/html": [
       "<pre style=\"white-space:pre;overflow-x:auto;line-height:normal;font-family:Menlo,'DejaVu Sans Mono',consolas,'Courier New',monospace\">┏━━━┳━━━━━━━━━━━┳━━━━━━━━━━━━━━━━━━━━━━━━━━━━━━━━━━━━━┳━━━━━━━━┓\n",
       "┃<span style=\"color: #800080; text-decoration-color: #800080; font-weight: bold\">   </span>┃<span style=\"color: #800080; text-decoration-color: #800080; font-weight: bold\"> Name      </span>┃<span style=\"color: #800080; text-decoration-color: #800080; font-weight: bold\"> Type                                </span>┃<span style=\"color: #800080; text-decoration-color: #800080; font-weight: bold\"> Params </span>┃\n",
       "┡━━━╇━━━━━━━━━━━╇━━━━━━━━━━━━━━━━━━━━━━━━━━━━━━━━━━━━━╇━━━━━━━━┩\n",
       "│<span style=\"color: #7f7f7f; text-decoration-color: #7f7f7f\"> 0 </span>│ model     │ DistilBertForSequenceClassification │  135 M │\n",
       "│<span style=\"color: #7f7f7f; text-decoration-color: #7f7f7f\"> 1 </span>│ train_acc │ MulticlassAccuracy                  │      0 │\n",
       "│<span style=\"color: #7f7f7f; text-decoration-color: #7f7f7f\"> 2 </span>│ valid_acc │ MulticlassAccuracy                  │      0 │\n",
       "│<span style=\"color: #7f7f7f; text-decoration-color: #7f7f7f\"> 3 </span>│ test_acc  │ MulticlassAccuracy                  │      0 │\n",
       "└───┴───────────┴─────────────────────────────────────┴────────┘\n",
       "</pre>\n"
      ],
      "text/plain": [
       "┏━━━┳━━━━━━━━━━━┳━━━━━━━━━━━━━━━━━━━━━━━━━━━━━━━━━━━━━┳━━━━━━━━┓\n",
       "┃\u001b[1;35m \u001b[0m\u001b[1;35m \u001b[0m\u001b[1;35m \u001b[0m┃\u001b[1;35m \u001b[0m\u001b[1;35mName     \u001b[0m\u001b[1;35m \u001b[0m┃\u001b[1;35m \u001b[0m\u001b[1;35mType                               \u001b[0m\u001b[1;35m \u001b[0m┃\u001b[1;35m \u001b[0m\u001b[1;35mParams\u001b[0m\u001b[1;35m \u001b[0m┃\n",
       "┡━━━╇━━━━━━━━━━━╇━━━━━━━━━━━━━━━━━━━━━━━━━━━━━━━━━━━━━╇━━━━━━━━┩\n",
       "│\u001b[2m \u001b[0m\u001b[2m0\u001b[0m\u001b[2m \u001b[0m│ model     │ DistilBertForSequenceClassification │  135 M │\n",
       "│\u001b[2m \u001b[0m\u001b[2m1\u001b[0m\u001b[2m \u001b[0m│ train_acc │ MulticlassAccuracy                  │      0 │\n",
       "│\u001b[2m \u001b[0m\u001b[2m2\u001b[0m\u001b[2m \u001b[0m│ valid_acc │ MulticlassAccuracy                  │      0 │\n",
       "│\u001b[2m \u001b[0m\u001b[2m3\u001b[0m\u001b[2m \u001b[0m│ test_acc  │ MulticlassAccuracy                  │      0 │\n",
       "└───┴───────────┴─────────────────────────────────────┴────────┘\n"
      ]
     },
     "metadata": {},
     "output_type": "display_data"
    },
    {
     "data": {
      "text/html": [
       "<pre style=\"white-space:pre;overflow-x:auto;line-height:normal;font-family:Menlo,'DejaVu Sans Mono',consolas,'Courier New',monospace\"><span style=\"font-weight: bold\">Trainable params</span>: 135 M                                                                                            \n",
       "<span style=\"font-weight: bold\">Non-trainable params</span>: 0                                                                                            \n",
       "<span style=\"font-weight: bold\">Total params</span>: 135 M                                                                                                \n",
       "<span style=\"font-weight: bold\">Total estimated model params size (MB)</span>: 541                                                                        \n",
       "</pre>\n"
      ],
      "text/plain": [
       "\u001b[1mTrainable params\u001b[0m: 135 M                                                                                            \n",
       "\u001b[1mNon-trainable params\u001b[0m: 0                                                                                            \n",
       "\u001b[1mTotal params\u001b[0m: 135 M                                                                                                \n",
       "\u001b[1mTotal estimated model params size (MB)\u001b[0m: 541                                                                        \n"
      ]
     },
     "metadata": {},
     "output_type": "display_data"
    },
    {
     "data": {
      "application/vnd.jupyter.widget-view+json": {
       "model_id": "700097d0a1b2437197008e03c008b196",
       "version_major": 2,
       "version_minor": 0
      },
      "text/plain": [
       "Output()"
      ]
     },
     "metadata": {},
     "output_type": "display_data"
    },
    {
     "data": {
      "text/html": [
       "<pre style=\"white-space:pre;overflow-x:auto;line-height:normal;font-family:Menlo,'DejaVu Sans Mono',consolas,'Courier New',monospace\">/home/kamil/miniconda3/envs/thesis/lib/python3.11/site-packages/pytorch_lightning/trainer/connectors/data_connector\n",
       ".py:441: The 'val_dataloader' does not have many workers which may be a bottleneck. Consider increasing the value \n",
       "of the `num_workers` argument` to `num_workers=15` in the `DataLoader` to improve performance.\n",
       "</pre>\n"
      ],
      "text/plain": [
       "/home/kamil/miniconda3/envs/thesis/lib/python3.11/site-packages/pytorch_lightning/trainer/connectors/data_connector\n",
       ".py:441: The 'val_dataloader' does not have many workers which may be a bottleneck. Consider increasing the value \n",
       "of the `num_workers` argument` to `num_workers=15` in the `DataLoader` to improve performance.\n"
      ]
     },
     "metadata": {},
     "output_type": "display_data"
    },
    {
     "name": "stderr",
     "output_type": "stream",
     "text": [
      "You're using a DistilBertTokenizerFast tokenizer. Please note that with a fast tokenizer, using the `__call__` method is faster than using a method to encode the text followed by a call to the `pad` method to get a padded encoding.\n"
     ]
    },
    {
     "data": {
      "text/html": [
       "<pre style=\"white-space:pre;overflow-x:auto;line-height:normal;font-family:Menlo,'DejaVu Sans Mono',consolas,'Courier New',monospace\">/home/kamil/miniconda3/envs/thesis/lib/python3.11/site-packages/pytorch_lightning/trainer/connectors/data_connector\n",
       ".py:441: The 'train_dataloader' does not have many workers which may be a bottleneck. Consider increasing the value\n",
       "of the `num_workers` argument` to `num_workers=15` in the `DataLoader` to improve performance.\n",
       "</pre>\n"
      ],
      "text/plain": [
       "/home/kamil/miniconda3/envs/thesis/lib/python3.11/site-packages/pytorch_lightning/trainer/connectors/data_connector\n",
       ".py:441: The 'train_dataloader' does not have many workers which may be a bottleneck. Consider increasing the value\n",
       "of the `num_workers` argument` to `num_workers=15` in the `DataLoader` to improve performance.\n"
      ]
     },
     "metadata": {},
     "output_type": "display_data"
    },
    {
     "name": "stderr",
     "output_type": "stream",
     "text": [
      "`Trainer.fit` stopped: `max_epochs=5` reached.\n"
     ]
    },
    {
     "data": {
      "text/html": [
       "<pre style=\"white-space:pre;overflow-x:auto;line-height:normal;font-family:Menlo,'DejaVu Sans Mono',consolas,'Courier New',monospace\"></pre>\n"
      ],
      "text/plain": []
     },
     "metadata": {},
     "output_type": "display_data"
    },
    {
     "data": {
      "text/html": [
       "<pre style=\"white-space:pre;overflow-x:auto;line-height:normal;font-family:Menlo,'DejaVu Sans Mono',consolas,'Courier New',monospace\">\n",
       "</pre>\n"
      ],
      "text/plain": [
       "\n"
      ]
     },
     "metadata": {},
     "output_type": "display_data"
    }
   ],
   "source": [
    "\n",
    "trainer.fit(model=pl_model, train_dataloaders=train_dataloader, val_dataloaders=eval_dataloader)"
   ]
  },
  {
   "cell_type": "code",
   "execution_count": 20,
   "metadata": {},
   "outputs": [],
   "source": [
    "# torch.save(model.state_dict(), \"../../models/distillbert/distilbert-base-multilingual-cased.pt\")"
   ]
  },
  {
   "cell_type": "code",
   "execution_count": 22,
   "metadata": {},
   "outputs": [],
   "source": [
    "model.save_pretrained(\"../../models/distillbert-12-10/distilbert-base-multilingual-cased\")"
   ]
  },
  {
   "cell_type": "code",
   "execution_count": null,
   "metadata": {},
   "outputs": [],
   "source": []
  }
 ],
 "metadata": {
  "kernelspec": {
   "display_name": "thesis",
   "language": "python",
   "name": "python3"
  },
  "language_info": {
   "codemirror_mode": {
    "name": "ipython",
    "version": 3
   },
   "file_extension": ".py",
   "mimetype": "text/x-python",
   "name": "python",
   "nbconvert_exporter": "python",
   "pygments_lexer": "ipython3",
   "version": "3.11.5"
  }
 },
 "nbformat": 4,
 "nbformat_minor": 2
}
