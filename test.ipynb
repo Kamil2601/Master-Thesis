{
 "cells": [
  {
   "cell_type": "code",
   "execution_count": 4,
   "metadata": {},
   "outputs": [
    {
     "name": "stderr",
     "output_type": "stream",
     "text": [
      "2023-01-03 12:43:10.256666: I tensorflow/core/platform/cpu_feature_guard.cc:193] This TensorFlow binary is optimized with oneAPI Deep Neural Network Library (oneDNN) to use the following CPU instructions in performance-critical operations:  AVX2 FMA\n",
      "To enable them in other operations, rebuild TensorFlow with the appropriate compiler flags.\n",
      "2023-01-03 12:43:11.352708: W tensorflow/compiler/xla/stream_executor/platform/default/dso_loader.cc:64] Could not load dynamic library 'libnvinfer.so.7'; dlerror: libnvinfer.so.7: cannot open shared object file: No such file or directory\n",
      "2023-01-03 12:43:11.352768: W tensorflow/compiler/xla/stream_executor/platform/default/dso_loader.cc:64] Could not load dynamic library 'libnvinfer_plugin.so.7'; dlerror: libnvinfer_plugin.so.7: cannot open shared object file: No such file or directory\n",
      "2023-01-03 12:43:11.352775: W tensorflow/compiler/tf2tensorrt/utils/py_utils.cc:38] TF-TRT Warning: Cannot dlopen some TensorRT libraries. If you would like to use Nvidia GPU with TensorRT, please make sure the missing libraries mentioned above are installed properly.\n"
     ]
    }
   ],
   "source": [
    "%load_ext autoreload\n",
    "%autoreload 2\n",
    "\n",
    "import spacy\n",
    "import data_process as dp\n",
    "from spacy.symbols import ORTH"
   ]
  },
  {
   "cell_type": "code",
   "execution_count": 5,
   "metadata": {},
   "outputs": [
    {
     "name": "stdout",
     "output_type": "stream",
     "text": [
      "!! brilliant move it gives Black the d4 pawn but this is trap.\n",
      "['!', '!', 'brilliant', 'move', 'it', 'give', 'black', 'the', '__notation__', 'pawn', 'but', 'this', 'be', 'trap']\n",
      "--------------------------------------------------\n",
      "?The strategic line is Nb4 -> Qf7 -> Nxd5 -> Qxd5, giving back some material and establishing three free pawns. 23.f4 Nxd3 24.Qxd3 Qf6 25.Bg5 Bf5 26.Bxf6 Bxd3 27.fe de 28.Bxe5/Rxe5 - ...but, alas, as we will see g6 needed protection!\n",
      "['the', 'strategic', 'line', 'be', '__notation__', 'give', 'back', 'some', 'material', 'and', 'establish', 'three', 'free', 'pawn', '__notation__', 'but', 'ala', 'as', 'we', 'will', 'see', '__notation__', 'need', 'protection', '!']\n",
      "--------------------------------------------------\n",
      "ok, did some thinking around Nb4 ... but it's too easily defendable by Na3 ...\n",
      " looks like it leads to attacking possibilities but nothing too promising.\n",
      " Like the idea of offering John en-passant, and if he takes I'll shift e pawn -> f6\n",
      " looking also to open up the d file ... castle on the Queens side... and have queen, rook, bishop and knight bearing down on poor d4.\n",
      "['ok', 'do', 'some', 'thinking', 'around', '__notation__', 'but', 'it', 's', 'too', 'easily', 'defendable', 'by', '__notation__', 'look', 'like', 'it', 'lead', 'to', 'attack', 'possibility', 'but', 'nothing', 'too', 'promise', 'like', 'the', 'idea', 'of', 'offer', 'john', 'en', 'passant', 'and', 'if', 'he', 'take', 'i', 'll', 'shift', 'e', 'pawn', '__notation__', 'look', 'also', 'to', 'open', 'up', 'the', 'd', 'file', 'castle', 'on', 'the', 'queens', 'side', 'and', 'have', 'queen', 'rook', 'bishop', 'and', 'knight', 'bear', 'down', 'on', 'poor', '__notation__']\n",
      "--------------------------------------------------\n",
      "now he can choose the way the game will be ended\n",
      " lets see where he can move his king:\n",
      " 1. e2 and g2 --> losses his queen instantly because of Nf4 \n",
      " 2. f1 --> Rf6 his king is limited to two squares (e2 and g2, and we already \n",
      " know what will happen there :) )\n",
      " 3. f3 --> Rg6 followed by either e2 (see 1.) or g4 followed by Qg2 which \n",
      " leads to checkmate in 4 or 5 moves\n",
      "['now', 'he', 'can', 'choose', 'the', 'way', 'the', 'game', 'will', 'be', 'end', 'let', 'see', 'where', 'he', 'can', 'move', 'his', 'king', '__notation__', 'and', '__notation__', 'loss', 'his', 'queen', 'instantly', 'because', 'of', '__notation__', 'his', 'king', 'be', 'limit', 'to', 'two', 'square', '__notation__', 'and', '__notation__', 'and', 'we', 'already', 'know', 'what', 'will', 'happen', 'there', '__notation__', 'follow', 'by', 'either', '__notation__', 'see', 'or', '__notation__', 'follow', 'by', '__notation__', 'which', 'lead', 'to', 'checkmate', 'in', 'or', 'move']\n",
      "--------------------------------------------------\n",
      "Score : (-0.06) +0.29 Depth : 17/39 14. Nb5 Be7 15. Nxd4 Rc8 16. f5 Nxf5 17. Nxf5 exf5 18. Rxf5 Qc6 19. Raf1\n",
      "['score', 'depth', '__notation__']\n",
      "--------------------------------------------------\n",
      "48. ....... d3?! - this pawn push is injudicious as this pawn is soon gonna drop off. Gameknot called it an Inaccuracy: +1.47 » … d3 48. Bxf6+ Kxf6 49. Rd1 Re2+ 50. Kf3 Ra2 51. Rxd3 h5 52. Rc3 g5 53. Rc6+ Ke7 54. Rh6 Rb2 55. Rxh5 Rxb3+ 56. Ke4\n",
      " Best: +0.76 » … Re3 48. Rb1 Be5 49. a5 Rd3 50. Ke2 Re3+ 51. Kd2 f6 52. g3 Rf3 53. b4 Ra3 54. Rc1 h6\n",
      " \n",
      " In the best line my queenside passers are stymied by black's rook. Although there are no more further mistakes, my advantage accumulates steadily over the next 20 moves until it becomes a winning one.\n",
      "['__notation__', 'this', 'pawn', 'push', 'be', 'injudicious', 'as', 'this', 'pawn', 'be', 'soon', 'go', 'to', 'drop', 'off', 'gameknot', 'call', 'it', 'an', 'inaccuracy', '__notation__', 'best', '__notation__', 'in', 'the', 'good', 'line', 'my', 'queenside', 'passer', 'be', 'stymie', 'by', 'black', 's', 'rook', 'although', 'there', 'be', 'no', 'more', 'further', 'mistake', 'my', 'advantage', 'accumulate', 'steadily', 'over', 'the', 'next', 'move', 'until', 'it', 'become', 'a', 'win', 'one']\n",
      "--------------------------------------------------\n",
      "? Unnecessary, e.g. 14... Qf6 15. Bd5?! (15. Rxb8?? Na5) Bh2+. The wasted tempo gives White a clear advantage. (Fritz: 14... Rb8 +1.25/17; 14... Re8 +0.37)\n",
      "['unnecessary', 'e', 'g', '__notation__', 'the', 'waste', 'tempo', 'give', 'white', 'a', 'clear', 'advantage', 'fritz', '__notation__']\n",
      "--------------------------------------------------\n",
      "A strange transposition. Now White has many plans, including the status quo Nc3, the \"anti-Sicilian\" c3, and c4 in the Maroczy bind spirit. That fact that many moves have been tired (successfully) here speaks to Black's opening choice. His dark squares are in critical condition (see d6 and b6), and he has yet too develop a piece in 3 moves. No doubt many White players past and present have attempted to refute this indulgence with various systems, but in reality Black's Kan-type system will not fall apart so easily with accurate play from the second player.\n",
      "['a', 'strange', 'transposition', 'now', 'white', 'have', 'many', 'plan', 'include', 'the', 'status', 'quo', '__notation__', 'the', 'anti', 'sicilian', '__notation__', 'and', '__notation__', 'in', 'the', 'maroczy', 'bind', 'spirit', 'that', 'fact', 'that', 'many', 'move', 'have', 'be', 'tired', 'successfully', 'here', 'speak', 'to', 'black', 's', 'opening', 'choice', 'his', 'dark', 'square', 'be', 'in', 'critical', 'condition', 'see', '__notation__', 'and', '__notation__', 'and', 'he', 'have', 'yet', 'too', 'develop', 'a', 'piece', 'in', 'move', 'no', 'doubt', 'many', 'white', 'player', 'past', 'and', 'present', 'have', 'attempt', 'to', 'refute', 'this', 'indulgence', 'with', 'various', 'system', 'but', 'in', 'reality', 'black', 's', 'kan', 'type', 'system', 'will', 'not', 'fall', 'apart', 'so', 'easily', 'with', 'accurate', 'play', 'from', 'the', 'second', 'player']\n",
      "--------------------------------------------------\n",
      "...B-f6...Excellent Move for Black...!!!!......If ..20.R-b1---B-d4 pinning / winning Rook on f2....White at this point might want to consider moving (20) R-f1 Bxb2...(21) Rb1 Bd4 check...(22) Kh1..from that point Black can move more aggresively with Re3..followed by R/1-e8..doubling the Rooks and a Commanding Control over center with strong attacking possibilities....OR....Black can move...(21) Rb1 Bd4 ck...(22) Kh1 and then..Be5 threatening mate...!!..either way...Black Will Decide...!!!!!!!!!!\n",
      "['__notation__', 'excellent', 'move', 'for', 'black', '!', '!', '!', '!', 'if', '__notation__', 'pin', 'win', 'rook', 'on', '__notation__', 'white', 'at', 'this', 'point', 'might', 'want', 'to', 'consider', 'move', '__notation__', 'check', '__notation__', 'from', 'that', 'point', 'black', 'can', 'move', 'more', 'aggresively', 'with', '__notation__', 'follow', 'by', 'r', '__notation__', 'double', 'the', 'rooks', 'and', 'a', 'commanding', 'control', 'over', 'center', 'with', 'strong', 'attacking', 'possibility', 'or', 'black', 'can', 'move', '__notation__', 'ck', '__notation__', 'and', 'then', '__notation__', 'threaten', 'mate', '!', '!', 'either', 'way', 'black', 'will', 'decide', '!', '!', '!', '!', '!', '!', '!', '!', '!', '!']\n",
      "--------------------------------------------------\n"
     ]
    }
   ],
   "source": [
    "import re\n",
    "com1 = \"!! brilliant move it gives Black the d4 pawn but this is trap.\"\n",
    "com2 = \"?The strategic line is Nb4 -> Qf7 -> Nxd5 -> Qxd5, giving back some material and establishing three free pawns. 23.f4 Nxd3 24.Qxd3 Qf6 25.Bg5 Bf5 26.Bxf6 Bxd3 27.fe de 28.Bxe5/Rxe5 - ...but, alas, as we will see g6 needed protection!\"\n",
    "com3 = \"\"\"ok, did some thinking around Nb4 ... but it's too easily defendable by Na3 ...\n",
    " looks like it leads to attacking possibilities but nothing too promising.\n",
    " Like the idea of offering John en-passant, and if he takes I'll shift e pawn -> f6\n",
    " looking also to open up the d file ... castle on the Queens side... and have queen, rook, bishop and knight bearing down on poor d4.\"\"\"\n",
    "com4 = \"\"\"now he can choose the way the game will be ended\n",
    " lets see where he can move his king:\n",
    " 1. e2 and g2 --> losses his queen instantly because of Nf4 \n",
    " 2. f1 --> Rf6 his king is limited to two squares (e2 and g2, and we already \n",
    " know what will happen there :) )\n",
    " 3. f3 --> Rg6 followed by either e2 (see 1.) or g4 followed by Qg2 which \n",
    " leads to checkmate in 4 or 5 moves\"\"\"\n",
    "com5 = \"Score : (-0.06) +0.29 Depth : 17/39 14. Nb5 Be7 15. Nxd4 Rc8 16. f5 Nxf5 17. Nxf5 exf5 18. Rxf5 Qc6 19. Raf1\"\n",
    "com6 = \"\"\"48. ....... d3?! - this pawn push is injudicious as this pawn is soon gonna drop off. Gameknot called it an Inaccuracy: +1.47 » … d3 48. Bxf6+ Kxf6 49. Rd1 Re2+ 50. Kf3 Ra2 51. Rxd3 h5 52. Rc3 g5 53. Rc6+ Ke7 54. Rh6 Rb2 55. Rxh5 Rxb3+ 56. Ke4\n",
    " Best: +0.76 » … Re3 48. Rb1 Be5 49. a5 Rd3 50. Ke2 Re3+ 51. Kd2 f6 52. g3 Rf3 53. b4 Ra3 54. Rc1 h6\n",
    " \n",
    " In the best line my queenside passers are stymied by black's rook. Although there are no more further mistakes, my advantage accumulates steadily over the next 20 moves until it becomes a winning one.\"\"\"\n",
    "com7 = \"? Unnecessary, e.g. 14... Qf6 15. Bd5?! (15. Rxb8?? Na5) Bh2+. The wasted tempo gives White a clear advantage. (Fritz: 14... Rb8 +1.25/17; 14... Re8 +0.37)\"\n",
    "com8 = \"\"\"A strange transposition. Now White has many plans, including the status quo Nc3, the \"anti-Sicilian\" c3, and c4 in the Maroczy bind spirit. That fact that many moves have been tired (successfully) here speaks to Black's opening choice. His dark squares are in critical condition (see d6 and b6), and he has yet too develop a piece in 3 moves. No doubt many White players past and present have attempted to refute this indulgence with various systems, but in reality Black's Kan-type system will not fall apart so easily with accurate play from the second player.\"\"\"\n",
    "com9 = \"\"\"...B-f6...Excellent Move for Black...!!!!......If ..20.R-b1---B-d4 pinning / winning Rook on f2....White at this point might want to consider moving (20) R-f1 Bxb2...(21) Rb1 Bd4 check...(22) Kh1..from that point Black can move more aggresively with Re3..followed by R/1-e8..doubling the Rooks and a Commanding Control over center with strong attacking possibilities....OR....Black can move...(21) Rb1 Bd4 ck...(22) Kh1 and then..Be5 threatening mate...!!..either way...Black Will Decide...!!!!!!!!!!\"\"\"\n",
    "# com = dp.replace_notation(com5)\n",
    "# print(com)\n",
    "\n",
    "coms = [com1, com2, com3, com4, com5, com6, com7, com8, com9]\n",
    "\n",
    "for com in coms:\n",
    "    print(com)\n",
    "    print(dp.process_comment(com))\n",
    "    print('--------------------------------------------------')\n",
    "\n",
    "# doc = nlp(com)\n",
    "\n",
    "# for token in doc:\n",
    "#     print(token, \"|\", token.lemma_, \"|\", token.pos_)\n",
    "\n",
    "# regex = r\"[\\\"#\\$%&\\'\\(\\)\\*\\+,-\\./:;<=>\\@\\[\\\\\\]\\^_`{\\|}~ ]+\"\n",
    "\n",
    "# res = [token.lemma_ for token in doc if not re.match(regex, token.lemma_) or re.match(\"__notation__\", token.lemma_)]\n",
    "# res"
   ]
  },
  {
   "cell_type": "code",
   "execution_count": 18,
   "metadata": {},
   "outputs": [],
   "source": [
    "nlp = spacy.load(\"en_core_web_sm\")"
   ]
  },
  {
   "cell_type": "code",
   "execution_count": 37,
   "metadata": {},
   "outputs": [
    {
     "data": {
      "text/plain": [
       "'Centerior'"
      ]
     },
     "execution_count": 37,
     "metadata": {},
     "output_type": "execute_result"
    }
   ],
   "source": [
    "list(nlp.vocab.strings)[10000]"
   ]
  },
  {
   "cell_type": "code",
   "execution_count": 24,
   "metadata": {},
   "outputs": [
    {
     "data": {
      "text/plain": [
       "False"
      ]
     },
     "execution_count": 24,
     "metadata": {},
     "output_type": "execute_result"
    }
   ],
   "source": [
    "\"gówno123\" in nlp.vocab.strings"
   ]
  },
  {
   "cell_type": "code",
   "execution_count": 39,
   "metadata": {},
   "outputs": [
    {
     "name": "stdout",
     "output_type": "stream",
     "text": [
      "True\n",
      "True\n",
      "True\n",
      "False\n",
      "False\n",
      "True\n",
      "True\n"
     ]
    }
   ],
   "source": [
    "import spacy\n",
    "nlp = spacy.load('en_core_web_sm')\n",
    "\n",
    "def is_english_word(word):\n",
    "    return word in nlp.vocab.strings\n",
    "\n",
    "print(is_english_word('hello'))  # True\n",
    "print(is_english_word('world'))  # True\n",
    "print(is_english_word('greetings'))  # True\n",
    "print(is_english_word('hello123'))  # False\n",
    "print(is_english_word('ck'))  # False\n",
    "print(is_english_word('a'))\n",
    "print(is_english_word('b'))"
   ]
  },
  {
   "cell_type": "code",
   "execution_count": 40,
   "metadata": {},
   "outputs": [
    {
     "name": "stdout",
     "output_type": "stream",
     "text": [
      "a True\n",
      "b True\n",
      "c True\n",
      "d True\n",
      "e True\n",
      "f True\n",
      "g True\n",
      "h True\n",
      "i True\n",
      "j True\n",
      "k True\n",
      "l True\n",
      "m True\n",
      "n True\n",
      "o True\n",
      "p True\n",
      "q True\n",
      "r True\n",
      "s True\n",
      "t True\n",
      "u True\n",
      "v True\n",
      "w True\n",
      "x True\n",
      "y True\n",
      "z True\n",
      "A True\n",
      "B True\n",
      "C True\n",
      "D True\n",
      "E True\n",
      "F True\n",
      "G True\n",
      "H True\n",
      "I True\n",
      "J True\n",
      "K True\n",
      "L True\n",
      "M True\n",
      "N True\n",
      "O True\n",
      "P True\n",
      "Q True\n",
      "R True\n",
      "S True\n",
      "T True\n",
      "U True\n",
      "V True\n",
      "W True\n",
      "X True\n",
      "Y True\n",
      "Z True\n"
     ]
    }
   ],
   "source": [
    "import string\n",
    "\n",
    "for c in string.ascii_letters:\n",
    "    print(c, is_english_word(c))"
   ]
  },
  {
   "cell_type": "code",
   "execution_count": 1,
   "metadata": {},
   "outputs": [
    {
     "name": "stdout",
     "output_type": "stream",
     "text": [
      "--2023-01-03 12:17:18--  http://downloads.cs.stanford.edu/nlp/data/glove.6B.zip\n",
      "Resolving downloads.cs.stanford.edu (downloads.cs.stanford.edu)... 171.64.64.22\n",
      "Connecting to downloads.cs.stanford.edu (downloads.cs.stanford.edu)|171.64.64.22|:80... connected.\n",
      "HTTP request sent, awaiting response... 200 OK\n",
      "Length: 862182613 (822M) [application/zip]\n",
      "Saving to: ‘glove.6B.zip’\n",
      "\n",
      "glove.6B.zip        100%[===================>] 822,24M  4,92MB/s    in 2m 45s  \n",
      "\n",
      "2023-01-03 12:20:03 (4,98 MB/s) - ‘glove.6B.zip’ saved [862182613/862182613]\n",
      "\n"
     ]
    }
   ],
   "source": [
    "!wget http://downloads.cs.stanford.edu/nlp/data/glove.6B.zip"
   ]
  },
  {
   "cell_type": "code",
   "execution_count": 6,
   "metadata": {},
   "outputs": [
    {
     "name": "stderr",
     "output_type": "stream",
     "text": [
      "[nltk_data] Downloading package wordnet to /home/kamil/nltk_data...\n",
      "[nltk_data]   Package wordnet is already up-to-date!\n"
     ]
    },
    {
     "data": {
      "text/plain": [
       "True"
      ]
     },
     "execution_count": 6,
     "metadata": {},
     "output_type": "execute_result"
    }
   ],
   "source": [
    "import nltk\n",
    "\n",
    "nltk.download('wordnet')"
   ]
  },
  {
   "cell_type": "code",
   "execution_count": 13,
   "metadata": {},
   "outputs": [
    {
     "name": "stdout",
     "output_type": "stream",
     "text": [
      "!! brilliant move it gives Black the d4 pawn but this is trap.\n",
      "['!!', 'brilliant', 'move', 'it', 'gives', 'Black', 'the', '__notation__', 'pawn', 'but', 'this', 'is', 'trap']\n",
      "---------------------------------------\n",
      "?The strategic line is Nb4 -> Qf7 -> Nxd5 -> Qxd5, giving back some material and establishing three free pawns. 23.f4 Nxd3 24.Qxd3 Qf6 25.Bg5 Bf5 26.Bxf6 Bxd3 27.fe de 28.Bxe5/Rxe5 - ...but, alas, as we will see g6 needed protection!\n",
      "['?', 'The', 'strategic', 'line', 'is', '__notation__', 'giving', 'back', 'some', 'material', 'and', 'establishing', 'three', 'free', 'pawns', '__notation__', 'but', 'alas', 'as', 'we', 'will', 'see', '__notation__', 'needed', 'protection', '!']\n",
      "---------------------------------------\n",
      "ok, did some thinking around Nb4 ... but it's too easily defendable by Na3 ...\n",
      " looks like it leads to attacking possibilities but nothing too promising.\n",
      " Like the idea of offering John en-passant, and if he takes I'll shift e pawn -> f6\n",
      " looking also to open up the d file ... castle on the Queens side... and have queen, rook, bishop and knight bearing down on poor d4.\n",
      "['ok', 'did', 'some', 'thinking', 'around', '__notation__', 'but', 'it', 's', 'too', 'easily', 'defendable', 'by', '__notation__', 'looks', 'like', 'it', 'leads', 'to', 'attacking', 'possibilities', 'but', 'nothing', 'too', 'promising', 'Like', 'the', 'idea', 'of', 'offering', 'John', 'en', 'passant', 'and', 'if', 'he', 'takes', 'I', 'll', 'shift', 'e', 'pawn', '__notation__', 'looking', 'also', 'to', 'open', 'up', 'the', 'd', 'file', 'castle', 'on', 'the', 'Queens', 'side', 'and', 'have', 'queen', 'rook', 'bishop', 'and', 'knight', 'bearing', 'down', 'on', 'poor', '__notation__']\n",
      "---------------------------------------\n",
      "now he can choose the way the game will be ended\n",
      " lets see where he can move his king:\n",
      " 1. e2 and g2 --> losses his queen instantly because of Nf4 \n",
      " 2. f1 --> Rf6 his king is limited to two squares (e2 and g2, and we already \n",
      " know what will happen there :) )\n",
      " 3. f3 --> Rg6 followed by either e2 (see 1.) or g4 followed by Qg2 which \n",
      " leads to checkmate in 4 or 5 moves\n",
      "['now', 'he', 'can', 'choose', 'the', 'way', 'the', 'game', 'will', 'be', 'ended', 'lets', 'see', 'where', 'he', 'can', 'move', 'his', 'king', '__notation__', 'and', '__notation__', 'losses', 'his', 'queen', 'instantly', 'because', 'of', '__notation__', 'his', 'king', 'is', 'limited', 'to', 'two', 'squares', '__notation__', 'and', '__notation__', 'and', 'we', 'already', 'know', 'what', 'will', 'happen', 'there', '__notation__', 'followed', 'by', 'either', '__notation__', 'see', '1', 'or', '__notation__', 'followed', 'by', '__notation__', 'which', 'leads', 'to', 'checkmate', 'in', '4', 'or', '5', 'moves']\n",
      "---------------------------------------\n",
      "Score : (-0.06) +0.29 Depth : 17/39 14. Nb5 Be7 15. Nxd4 Rc8 16. f5 Nxf5 17. Nxf5 exf5 18. Rxf5 Qc6 19. Raf1\n",
      "['Score', '0', '06', '0', '29', 'Depth', '17', '39', '__notation__']\n",
      "---------------------------------------\n",
      "48. ....... d3?! - this pawn push is injudicious as this pawn is soon gonna drop off. Gameknot called it an Inaccuracy: +1.47 » … d3 48. Bxf6+ Kxf6 49. Rd1 Re2+ 50. Kf3 Ra2 51. Rxd3 h5 52. Rc3 g5 53. Rc6+ Ke7 54. Rh6 Rb2 55. Rxh5 Rxb3+ 56. Ke4\n",
      " Best: +0.76 » … Re3 48. Rb1 Be5 49. a5 Rd3 50. Ke2 Re3+ 51. Kd2 f6 52. g3 Rf3 53. b4 Ra3 54. Rc1 h6\n",
      " \n",
      " In the best line my queenside passers are stymied by black's rook. Although there are no more further mistakes, my advantage accumulates steadily over the next 20 moves until it becomes a winning one.\n",
      "['48', '__notation__', 'this', 'pawn', 'push', 'is', 'injudicious', 'as', 'this', 'pawn', 'is', 'soon', 'gonna', 'drop', 'off', 'Gameknot', 'called', 'it', 'an', 'Inaccuracy', '1', '47', '__notation__', 'Best', '0', '76', '__notation__', 'In', 'the', 'best', 'line', 'my', 'queenside', 'passers', 'are', 'stymied', 'by', 'black', 's', 'rook', 'Although', 'there', 'are', 'no', 'more', 'further', 'mistakes', 'my', 'advantage', 'accumulates', 'steadily', 'over', 'the', 'next', '20', 'moves', 'until', 'it', 'becomes', 'a', 'winning', 'one']\n",
      "---------------------------------------\n",
      "? Unnecessary, e.g. 14... Qf6 15. Bd5?! (15. Rxb8?? Na5) Bh2+. The wasted tempo gives White a clear advantage. (Fritz: 14... Rb8 +1.25/17; 14... Re8 +0.37)\n",
      "['?', 'Unnecessary', 'e', 'g', '__notation__', 'The', 'wasted', 'tempo', 'gives', 'White', 'a', 'clear', 'advantage', 'Fritz', '__notation__']\n",
      "---------------------------------------\n",
      "A strange transposition. Now White has many plans, including the status quo Nc3, the \"anti-Sicilian\" c3, and c4 in the Maroczy bind spirit. That fact that many moves have been tired (successfully) here speaks to Black's opening choice. His dark squares are in critical condition (see d6 and b6), and he has yet too develop a piece in 3 moves. No doubt many White players past and present have attempted to refute this indulgence with various systems, but in reality Black's Kan-type system will not fall apart so easily with accurate play from the second player.\n",
      "['A', 'strange', 'transposition', 'Now', 'White', 'has', 'many', 'plans', 'including', 'the', 'status', 'quo', '__notation__', 'the', 'anti', 'Sicilian', '__notation__', 'and', '__notation__', 'in', 'the', 'Maroczy', 'bind', 'spirit', 'That', 'fact', 'that', 'many', 'moves', 'have', 'been', 'tired', 'successfully', 'here', 'speaks', 'to', 'Black', 's', 'opening', 'choice', 'His', 'dark', 'squares', 'are', 'in', 'critical', 'condition', 'see', '__notation__', 'and', '__notation__', 'and', 'he', 'has', 'yet', 'too', 'develop', 'a', 'piece', 'in', '3', 'moves', 'No', 'doubt', 'many', 'White', 'players', 'past', 'and', 'present', 'have', 'attempted', 'to', 'refute', 'this', 'indulgence', 'with', 'various', 'systems', 'but', 'in', 'reality', 'Black', 's', 'Kan', 'type', 'system', 'will', 'not', 'fall', 'apart', 'so', 'easily', 'with', 'accurate', 'play', 'from', 'the', 'second', 'player']\n",
      "---------------------------------------\n",
      "...B-f6...Excellent Move for Black...!!!!......If ..20.R-b1---B-d4 pinning / winning Rook on f2....White at this point might want to consider moving (20) R-f1 Bxb2...(21) Rb1 Bd4 check...(22) Kh1..from that point Black can move more aggresively with Re3..followed by R/1-e8..doubling the Rooks and a Commanding Control over center with strong attacking possibilities....OR....Black can move...(21) Rb1 Bd4 ck...(22) Kh1 and then..Be5 threatening mate...!!..either way...Black Will Decide...!!!!!!!!!!\n",
      "['__notation__', 'Excellent', 'Move', 'for', 'Black', '!!!!', 'If', '20', '__notation__', 'pinning', 'winning', 'Rook', 'on', '__notation__', 'White', 'at', 'this', 'point', 'might', 'want', 'to', 'consider', 'moving', '20', '__notation__', 'check', '22', '__notation__', 'from', 'that', 'point', 'Black', 'can', 'move', 'more', 'aggresively', 'with', '__notation__', 'followed', 'by', 'R', '__notation__', 'doubling', 'the', 'Rooks', 'and', 'a', 'Commanding', 'Control', 'over', 'center', 'with', 'strong', 'attacking', 'possibilities', 'OR', 'Black', 'can', 'move', '21', '__notation__', 'ck', '22', '__notation__', 'and', 'then', '__notation__', 'threatening', 'mate', '!!', 'either', 'way', 'Black', 'Will', 'Decide', '!!!!', '!!!!', '!!']\n",
      "---------------------------------------\n"
     ]
    }
   ],
   "source": [
    "tokenizer = nltk.RegexpTokenizer(r\"\\w+|[!?]{1,4}\")\n",
    "\n",
    "for com in coms:\n",
    "    print(com)\n",
    "    c = dp.replace_notation(com)\n",
    "    print(tokenizer.tokenize(c))\n",
    "    print('---------------------------------------')"
   ]
  },
  {
   "cell_type": "code",
   "execution_count": null,
   "metadata": {},
   "outputs": [],
   "source": [
    "import torch"
   ]
  }
 ],
 "metadata": {
  "kernelspec": {
   "display_name": "Python 3",
   "language": "python",
   "name": "python3"
  },
  "language_info": {
   "codemirror_mode": {
    "name": "ipython",
    "version": 3
   },
   "file_extension": ".py",
   "mimetype": "text/x-python",
   "name": "python",
   "nbconvert_exporter": "python",
   "pygments_lexer": "ipython3",
   "version": "3.10.6 (main, Nov 14 2022, 16:10:14) [GCC 11.3.0]"
  },
  "orig_nbformat": 4,
  "vscode": {
   "interpreter": {
    "hash": "916dbcbb3f70747c44a77c7bcd40155683ae19c65e1c03b4aa3499c5328201f1"
   }
  }
 },
 "nbformat": 4,
 "nbformat_minor": 2
}
