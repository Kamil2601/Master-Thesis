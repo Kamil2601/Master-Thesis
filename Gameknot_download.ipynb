{
 "cells": [
  {
   "cell_type": "code",
   "execution_count": 2,
   "metadata": {},
   "outputs": [],
   "source": [
    "from bs4 import BeautifulSoup\n",
    "import requests\n",
    "import chess\n",
    "import chess.pgn\n",
    "import requests\n",
    "import json\n",
    "import numpy as np\n",
    "import urllib.parse as up\n",
    "import re\n",
    "from tqdm import tqdm\n",
    "import time"
   ]
  },
  {
   "cell_type": "code",
   "execution_count": 3,
   "metadata": {},
   "outputs": [
    {
     "name": "stdout",
     "output_type": "stream",
     "text": [
      "[Event \"Let's play chess\"]\n",
      "[Date \"2022.08.17\"]\n",
      "[White \"otakumadness\"]\n",
      "[Black \"meihua\"]\n",
      "[Result \"1-0\"]\n",
      "[BlackElo \"994\"]\n",
      "[WhiteElo \"1187\"]\n",
      "\n",
      "1. d4 d5 2. e3 e6 3. Nf3 Nf6 4. Nc3 b6 5. Bb5+ c6 6. Bd3 Ng4 7. Ne5 h5 { Very typical opening for me so far. At this point, I'd have expected Nxe5, which I counter with dxe5, but leaving an unprotected pawn out for a possible counterattack, perhaps by Qc7, but my opponent goes for a defensive maneuver instead. } 8. Nxg4 hxg4 9. Qxg4 { With my initiation of the knight exchange, I get a free pawn. } 9... f5 10. Qe2 Qg5 11. g3 e5 12. dxe5 { Getting another free pawn. } 12... Bc5 13. e4 { Getting another free pawn by threatening the queen like this. } 13... Qg6 14. exf5 Qh7 15. f6 Qh3 { At this point my pawn is so close to getting promoted I totally expected gxf6. That does technically allow me to do exf6+, but I'm not sure why my opponent did this instead of doing Qg8 or something else. } 16. Bg6+ Kd8 17. fxg7 { Getting another free pawn. } 17... Rg8 18. Bg5+ Kc7 19. Bf6 { Here my bishop supports both my e pawn and my g pawn. This bishop ends up being a hard worker in the endgame! xD } 19... Qg2 20. Rf1 Ba6 21. Bd3 { Rather clever move by Black, if only I hadn't still had my own bishop to trade. } 21... Bc4 22. Bxc4 dxc4 23. Qxc4 { Rather than Black doing Bxd3, they instead let me initiate the exchange and I claim another free pawn. } 23... Nd7 24. b4 { Dead bishop now, so Black at least has it take a pawn to lessen the material lost. } 24... Bxb4 25. Qxb4 a5 26. Qd6+ Kc8 27. f3 { Blocking the queen from accessing the diagonal. } 27... Nc5 28. Qxc6+ { Claiming another free pawn. } 28... Kb8 29. Qxb6+ { And getting another free pawn. } 29... Nb7 { This knight was the LITERAL BANE OF MY EXISTENCE in the endgame; so many checkmates were prevented by it. } 30. O-O-O a4 31. Rd8+ Rxd8 32. Bxd8 { Exchange of material. At this point, Black could have easily done Qxf1+ and regained some control (and some material) but they didn't see it? } 32... Ra5 { I think Black wanted to do Rxe5 on the next move but instead this just results in a dead rook; in a few more turns, the bishop gets the rook. } 33. Qc7+ Ka8 34. Rd1 { Moving the rook to prevent Qxf1+. } 34... Qxf3 { Black takes a free pawn but the endgame is already in progress. } 35. g8=Q { I legit forgot about that pawn being ready to promote until now. xD } 35... a3 { Maybe Black wants to try and promote their own pawn? } 36. Qc8+ { Endgame begins; from here, it's a forced mate, essentially. } 36... Ka7 37. Bxa5 { The rook here prevented a lot of moves I wanted to do so I had to get rid of it. } 1-0\n"
     ]
    }
   ],
   "source": [
    "def download_gameknot_game(id):\n",
    "    url = f\"https://gameknot.com/annotate.pl?id={id}\"\n",
    "    results = requests.get(url)\n",
    "    lines = results.text.split('\\n')\n",
    "    game_movelist = None\n",
    "    game_notes = None\n",
    "\n",
    "    game = chess.pgn.Game()\n",
    "    node = game\n",
    "    game.headers.clear()\n",
    "\n",
    "    result_dict = [\"\", \"1-0\", \"1/2-1/2\", \"0-1\"]\n",
    "\n",
    "    def fix_move(move):\n",
    "        if move[-1] == \"-\":\n",
    "            return move[:-1]\n",
    "        return move\n",
    "\n",
    "    for line in lines:\n",
    "        if line.startswith('game_movelist'):\n",
    "            game_str = eval(line[16:-1])\n",
    "            game_movelist = [game_str[i: i+5] for i in range(0, len(game_str), 5)]\n",
    "            game_movelist = [fix_move(move) for move in game_movelist]\n",
    "            # game_movelist = eval(line[16:-1]).split(\"-\")\n",
    "        elif line.startswith('game_notes'):\n",
    "            game_notes = list(map(up.unquote, eval(line[13:-1])))\n",
    "        elif line.startswith('game_result'):\n",
    "            game.headers[\"Result\"] = result_dict[int(line[-2])]\n",
    "        elif line.startswith('game_title'):\n",
    "            game.headers[\"Event\"] = up.unquote(line[25:-3])\n",
    "        elif line.startswith('game_player_w'):\n",
    "            game.headers[\"White\"] = up.unquote(line[28:-3])\n",
    "        elif line.startswith('game_player_b'):\n",
    "            game.headers[\"Black\"] = up.unquote(line[28:-3])\n",
    "        elif line.startswith('game_rating_w'):\n",
    "            game.headers[\"WhiteElo\"] = up.unquote(line[28:-3])\n",
    "        elif line.startswith('game_rating_b'):\n",
    "            game.headers[\"BlackElo\"] = up.unquote(line[28:-3])\n",
    "        elif line.startswith('game_started'):\n",
    "            game.headers[\"Date\"] = up.unquote(line[27:-3])\n",
    "        \n",
    "\n",
    "\n",
    "    node.comment = game_notes[0]\n",
    "\n",
    "\n",
    "    for move, comment in  zip(game_movelist[:-1], game_notes[1:]):\n",
    "        node = node.add_variation(chess.Move.from_uci(move))\n",
    "        node.comment = comment\n",
    "\n",
    "    return game\n",
    "\n",
    "\n",
    "# url = 'https://gameknot.com/annotate.pl?id=27351'\n",
    "game = download_gameknot_game(70528)\n",
    "\n",
    "print(game)"
   ]
  },
  {
   "cell_type": "code",
   "execution_count": 4,
   "metadata": {},
   "outputs": [],
   "source": [
    "def get_game_ids_from_page(page):\n",
    "    url = f\"https://gameknot.com/list_annotated.pl?u=all&c=0&sb=0&rm=0&rn=0&rx=9999&sr=0&p={page}\"\n",
    "    response = requests.get(url)\n",
    "\n",
    "    ids = re.findall(\"[?]gm=\\d+\", response.text)\n",
    "\n",
    "    ids = set([id[4:] for id in ids])\n",
    "\n",
    "    return ids"
   ]
  },
  {
   "cell_type": "code",
   "execution_count": 5,
   "metadata": {},
   "outputs": [],
   "source": [
    "def load_ids_from_file(file_name = \"data_scrappers/annotated_game_ids.txt\"):\n",
    "    f = open(file_name)\n",
    "    return list(map(int, f.readlines()))\n",
    "\n",
    "all_ids = load_ids_from_file()"
   ]
  },
  {
   "cell_type": "code",
   "execution_count": 7,
   "metadata": {},
   "outputs": [
    {
     "name": "stderr",
     "output_type": "stream",
     "text": [
      "  1%|          | 112/12751 [00:40<59:29,  3.54it/s]  "
     ]
    },
    {
     "name": "stdout",
     "output_type": "stream",
     "text": [
      "23489\n"
     ]
    },
    {
     "name": "stderr",
     "output_type": "stream",
     "text": [
      "  2%|▏         | 221/12751 [01:19<58:17,  3.58it/s]  "
     ]
    },
    {
     "name": "stdout",
     "output_type": "stream",
     "text": [
      "10154\n"
     ]
    },
    {
     "name": "stderr",
     "output_type": "stream",
     "text": [
      "  2%|▏         | 250/12751 [01:31<6:11:37,  1.78s/it]"
     ]
    }
   ],
   "source": [
    "failed_ids = []\n",
    "\n",
    "for i, id in enumerate(tqdm(all_ids)):\n",
    "    if (i+1)%50 == 0:\n",
    "        time.sleep(5)\n",
    "    try:\n",
    "        game = download_gameknot_game(id)\n",
    "        if game != None:\n",
    "            print(game, file=open(f\"./data/gameknot/annotated_games_2/{id}.pgn\", \"w\"), end=\"\\n\\n\")\n",
    "    except:\n",
    "        print(id)\n",
    "        failed_ids.append(id)\n",
    "    "
   ]
  },
  {
   "cell_type": "code",
   "execution_count": null,
   "metadata": {},
   "outputs": [],
   "source": []
  }
 ],
 "metadata": {
  "kernelspec": {
   "display_name": "Python 3.8.10 64-bit",
   "language": "python",
   "name": "python3"
  },
  "language_info": {
   "codemirror_mode": {
    "name": "ipython",
    "version": 3
   },
   "file_extension": ".py",
   "mimetype": "text/x-python",
   "name": "python",
   "nbconvert_exporter": "python",
   "pygments_lexer": "ipython3",
   "version": "3.10.4"
  },
  "orig_nbformat": 4,
  "vscode": {
   "interpreter": {
    "hash": "916dbcbb3f70747c44a77c7bcd40155683ae19c65e1c03b4aa3499c5328201f1"
   }
  }
 },
 "nbformat": 4,
 "nbformat_minor": 2
}
