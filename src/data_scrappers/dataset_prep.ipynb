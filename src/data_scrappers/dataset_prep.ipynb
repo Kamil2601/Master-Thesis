{
 "cells": [
  {
   "cell_type": "code",
   "execution_count": 72,
   "metadata": {},
   "outputs": [],
   "source": [
    "%reload_ext autoreload\n",
    "%autoreload 2\n",
    "\n",
    "import sys\n",
    "sys.path.append(\"..\")\n",
    "\n",
    "import os\n",
    "import chess.pgn\n",
    "import chess\n",
    "import pandas as pd\n",
    "import pathlib\n",
    "import io\n",
    "\n",
    "from extract_moves import extract_games_info_from_pgn_files, extract_games_info\n",
    "\n",
    "from utils.utils import games_to_moves, save_to_sql, load_sql_to_df"
   ]
  },
  {
   "cell_type": "code",
   "execution_count": 73,
   "metadata": {},
   "outputs": [],
   "source": [
    "# os.listdir(path)"
   ]
  },
  {
   "cell_type": "code",
   "execution_count": 74,
   "metadata": {},
   "outputs": [
    {
     "data": {
      "application/vnd.jupyter.widget-view+json": {
       "model_id": "206ab8c99dfc4fa4b4b8ae50161f37ff",
       "version_major": 2,
       "version_minor": 0
      },
      "text/plain": [
       "Extracting games:   0%|          | 0/23 [00:00<?, ?it/s]"
      ]
     },
     "metadata": {},
     "output_type": "display_data"
    },
    {
     "name": "stderr",
     "output_type": "stream",
     "text": [
      "illegal san: 'Bb5' in r1bqkbnr/pppppppp/2n5/8/8/5N2/PPPPPPPP/RNBQKB1R w KQkq - 2 2 while parsing <Game at 0x7fdd1e975210 ('?' vs. '?', '????.??.??' at '?')>\n",
      "illegal san: 'Rgf1' in rnbqkbnr/pppppppp/8/8/8/8/PPPPPPPP/RNBQKBNR w KQkq - 0 1 while parsing <Game at 0x7fdd1ed74cd0 ('?' vs. '?', '????.??.??' at '?')>\n",
      "illegal san: 'h6' in rnbqkbnr/pppppppp/8/8/8/8/PPPPPPPP/RNBQKBNR w KQkq - 0 1 while parsing <Game at 0x7fdd1ed22c90 ('?' vs. '?', '????.??.??' at '?')>\n",
      "illegal san: 'f5' in rnbqkbnr/pppppppp/8/8/8/8/PPPPPPPP/RNBQKBNR w KQkq - 0 1 while parsing <Game at 0x7fdd2198c0d0 ('?' vs. '?', '????.??.??' at '?')>\n",
      "ambiguous san: 'Rf8' in r6k/1ppqbrpp/2bp1p1n/p4P2/2QNP2B/2N5/PPP3PP/3R1RK1 b - - 0 15 while parsing <Game at 0x7fdd226d8050 ('Morphy' vs. 'Baucher', '1858.??.??' at '?')>\n",
      "ambiguous san: 'Rd1' in r1bq1rk1/p4ppp/1pn1p3/8/2BPP3/5N2/P2Q1PPP/R4RK1 w - - 0 13 while parsing <Game at 0x7fdd228840d0 ('Spassky' vs. 'Petrosian', '1969.??.??' at '?')>\n",
      "ambiguous san: 'Nd7' in rnbq1rk1/pp2bppp/2p2n2/8/2BP4/2N1BN1P/PP3PP1/R2QK2R b KQ - 0 9 while parsing <Game at 0x7fdd22800250 (' La Bourdonnais ' vs. ' McDonnell ', '1834' at 'London')>\n",
      "illegal san: 'Kg6' in 2r2r2/p3bk2/2n1b1B1/q2pP3/3P1P2/p1N2NR1/1P4P1/1K1R4 b - - 2 26 while parsing <Game at 0x7fdd22ca2a90 ('Evans, Larry GM' vs. 'Pilnick, Carl', '1946.03.07' at 'New York, NY')>\n",
      "illegal san: 'Rh1' in 2r2r2/p3bk2/2n1b1B1/q2pP3/3P1P2/p1N2NR1/1P4P1/1K1R4 b - - 2 26 while parsing <Game at 0x7fdd22ca2a90 ('Evans, Larry GM' vs. 'Pilnick, Carl', '1946.03.07' at 'New York, NY', 1 errors)>\n",
      "illegal san: 'Bxh7' in 2r2r1k/p3b2B/2n1b3/q2pP3/3P1P2/p1N2NR1/1P4P1/1K1R4 w - - 1 26 while parsing <Game at 0x7fdd22ca2a90 ('Evans, Larry GM' vs. 'Pilnick, Carl', '1946.03.07' at 'New York, NY', 2 errors)>\n"
     ]
    },
    {
     "data": {
      "application/vnd.jupyter.widget-view+json": {
       "model_id": "ddc871aea9e9407e9987f7ddb1e28689",
       "version_major": 2,
       "version_minor": 0
      },
      "text/plain": [
       "Extracting moves info from games:   0%|          | 0/587 [00:00<?, ?it/s]"
      ]
     },
     "metadata": {},
     "output_type": "display_data"
    }
   ],
   "source": [
    "path = \"../../data/Annotated Games/\"\n",
    "# gameknot_games = load_sql_to_df(\"SELECT pgn FROM gameknot_games\", \"../../data/chess.db\")\n",
    "# gameknot_games = [chess.pgn.read_game(io.StringIO(game)) for game in gameknot_games[\"pgn\"]]\n",
    "info = extract_games_info_from_pgn_files(path)"
   ]
  },
  {
   "cell_type": "code",
   "execution_count": 75,
   "metadata": {},
   "outputs": [],
   "source": [
    "info_pd = pd.DataFrame(info)"
   ]
  },
  {
   "cell_type": "code",
   "execution_count": 76,
   "metadata": {},
   "outputs": [],
   "source": [
    "info_pd.nags = info_pd.nags.apply(lambda x: repr(x))"
   ]
  },
  {
   "cell_type": "code",
   "execution_count": 77,
   "metadata": {},
   "outputs": [
    {
     "data": {
      "text/html": [
       "<div>\n",
       "<style scoped>\n",
       "    .dataframe tbody tr th:only-of-type {\n",
       "        vertical-align: middle;\n",
       "    }\n",
       "\n",
       "    .dataframe tbody tr th {\n",
       "        vertical-align: top;\n",
       "    }\n",
       "\n",
       "    .dataframe thead th {\n",
       "        text-align: right;\n",
       "    }\n",
       "</style>\n",
       "<table border=\"1\" class=\"dataframe\">\n",
       "  <thead>\n",
       "    <tr style=\"text-align: right;\">\n",
       "      <th></th>\n",
       "      <th>fen</th>\n",
       "      <th>move</th>\n",
       "      <th>comment</th>\n",
       "      <th>nags</th>\n",
       "      <th>sentiment</th>\n",
       "    </tr>\n",
       "  </thead>\n",
       "  <tbody>\n",
       "    <tr>\n",
       "      <th>0</th>\n",
       "      <td>rnb2rk1/pp2ppbp/6p1/8/3PP3/4BN2/P2q1PPP/1R2KB1...</td>\n",
       "      <td>e1d2</td>\n",
       "      <td>(In this line White has to accept some risks. ...</td>\n",
       "      <td>[]</td>\n",
       "      <td>-1</td>\n",
       "    </tr>\n",
       "    <tr>\n",
       "      <th>1</th>\n",
       "      <td>rnbr2k1/pp2ppbp/6p1/8/3PP3/4BN2/P2K1PPP/1R3B1R...</td>\n",
       "      <td>d4d5</td>\n",
       "      <td>\\n(The first step of White's strategical plan:...</td>\n",
       "      <td>[1]</td>\n",
       "      <td>1</td>\n",
       "    </tr>\n",
       "    <tr>\n",
       "      <th>2</th>\n",
       "      <td>rnbr2k1/pp2ppbp/6p1/3P4/4P3/4BN2/P2K1PPP/1R3B1...</td>\n",
       "      <td>b8c6</td>\n",
       "      <td>(Taking advantage of the pin.)</td>\n",
       "      <td>[]</td>\n",
       "      <td>-1</td>\n",
       "    </tr>\n",
       "    <tr>\n",
       "      <th>3</th>\n",
       "      <td>r1br2k1/pp3pbp/2n1p1p1/2BP4/4P3/5N2/P2K1PPP/1R...</td>\n",
       "      <td>d5d6</td>\n",
       "      <td>\\n(The second step.)</td>\n",
       "      <td>[]</td>\n",
       "      <td>-1</td>\n",
       "    </tr>\n",
       "    <tr>\n",
       "      <th>4</th>\n",
       "      <td>r1br2k1/pp3pbp/2nPp1p1/2B5/4P3/5N2/P2K1PPP/1R3...</td>\n",
       "      <td>b7b6</td>\n",
       "      <td>(What about 15...e5? A good plan would be then...</td>\n",
       "      <td>[]</td>\n",
       "      <td>-1</td>\n",
       "    </tr>\n",
       "    <tr>\n",
       "      <th>...</th>\n",
       "      <td>...</td>\n",
       "      <td>...</td>\n",
       "      <td>...</td>\n",
       "      <td>...</td>\n",
       "      <td>...</td>\n",
       "    </tr>\n",
       "    <tr>\n",
       "      <th>15223</th>\n",
       "      <td>4r1k1/pp4pp/4pr2/3R4/3n4/2q4B/P1P1QPPP/5RK1 w ...</td>\n",
       "      <td>e2h5</td>\n",
       "      <td>White loses the upper hand.  20. Qe4 Rf4 21. Q...</td>\n",
       "      <td>[2]</td>\n",
       "      <td>0</td>\n",
       "    </tr>\n",
       "    <tr>\n",
       "      <th>15224</th>\n",
       "      <td>4r1k1/pp4pp/4pr2/3R3Q/3n4/2q4B/P1P2PPP/5RK1 b ...</td>\n",
       "      <td>e8f8</td>\n",
       "      <td>With the decisive threat Rxf2.  Black has noth...</td>\n",
       "      <td>[]</td>\n",
       "      <td>-1</td>\n",
       "    </tr>\n",
       "    <tr>\n",
       "      <th>15225</th>\n",
       "      <td>5rk1/pp4pp/4pr2/3R3Q/3n4/2q4B/P1P2PPP/5RK1 w -...</td>\n",
       "      <td>d5e5</td>\n",
       "      <td>White may have wanted to play 21. Rc5, but aft...</td>\n",
       "      <td>[]</td>\n",
       "      <td>-1</td>\n",
       "    </tr>\n",
       "    <tr>\n",
       "      <th>15226</th>\n",
       "      <td>5rk1/pp4pp/4p2r/4R2Q/3n4/2q4B/P1P2PPP/5RK1 w -...</td>\n",
       "      <td>h5g5</td>\n",
       "      <td>If 22. Qg4? then black would win routinely wit...</td>\n",
       "      <td>[]</td>\n",
       "      <td>-1</td>\n",
       "    </tr>\n",
       "    <tr>\n",
       "      <th>15227</th>\n",
       "      <td>5rk1/pp4pp/4p3/2R3Q1/3n4/2q4r/P1P2PPP/5RK1 b -...</td>\n",
       "      <td>c3g3</td>\n",
       "      <td>There you have a move to admire.  The Queen is...</td>\n",
       "      <td>[]</td>\n",
       "      <td>-1</td>\n",
       "    </tr>\n",
       "  </tbody>\n",
       "</table>\n",
       "<p>15228 rows × 5 columns</p>\n",
       "</div>"
      ],
      "text/plain": [
       "                                                     fen  move  \\\n",
       "0      rnb2rk1/pp2ppbp/6p1/8/3PP3/4BN2/P2q1PPP/1R2KB1...  e1d2   \n",
       "1      rnbr2k1/pp2ppbp/6p1/8/3PP3/4BN2/P2K1PPP/1R3B1R...  d4d5   \n",
       "2      rnbr2k1/pp2ppbp/6p1/3P4/4P3/4BN2/P2K1PPP/1R3B1...  b8c6   \n",
       "3      r1br2k1/pp3pbp/2n1p1p1/2BP4/4P3/5N2/P2K1PPP/1R...  d5d6   \n",
       "4      r1br2k1/pp3pbp/2nPp1p1/2B5/4P3/5N2/P2K1PPP/1R3...  b7b6   \n",
       "...                                                  ...   ...   \n",
       "15223  4r1k1/pp4pp/4pr2/3R4/3n4/2q4B/P1P1QPPP/5RK1 w ...  e2h5   \n",
       "15224  4r1k1/pp4pp/4pr2/3R3Q/3n4/2q4B/P1P2PPP/5RK1 b ...  e8f8   \n",
       "15225  5rk1/pp4pp/4pr2/3R3Q/3n4/2q4B/P1P2PPP/5RK1 w -...  d5e5   \n",
       "15226  5rk1/pp4pp/4p2r/4R2Q/3n4/2q4B/P1P2PPP/5RK1 w -...  h5g5   \n",
       "15227  5rk1/pp4pp/4p3/2R3Q1/3n4/2q4r/P1P2PPP/5RK1 b -...  c3g3   \n",
       "\n",
       "                                                 comment nags  sentiment  \n",
       "0      (In this line White has to accept some risks. ...   []         -1  \n",
       "1      \\n(The first step of White's strategical plan:...  [1]          1  \n",
       "2                         (Taking advantage of the pin.)   []         -1  \n",
       "3                                   \\n(The second step.)   []         -1  \n",
       "4      (What about 15...e5? A good plan would be then...   []         -1  \n",
       "...                                                  ...  ...        ...  \n",
       "15223  White loses the upper hand.  20. Qe4 Rf4 21. Q...  [2]          0  \n",
       "15224  With the decisive threat Rxf2.  Black has noth...   []         -1  \n",
       "15225  White may have wanted to play 21. Rc5, but aft...   []         -1  \n",
       "15226  If 22. Qg4? then black would win routinely wit...   []         -1  \n",
       "15227  There you have a move to admire.  The Queen is...   []         -1  \n",
       "\n",
       "[15228 rows x 5 columns]"
      ]
     },
     "execution_count": 77,
     "metadata": {},
     "output_type": "execute_result"
    }
   ],
   "source": [
    "info_pd"
   ]
  },
  {
   "cell_type": "code",
   "execution_count": 67,
   "metadata": {},
   "outputs": [],
   "source": [
    "save_to_sql(info_pd, \"../../data/chess_dl\", \"github/ValdemarOrn/Chess_moves\", if_exists='replace')"
   ]
  }
 ],
 "metadata": {
  "kernelspec": {
   "display_name": "Python 3",
   "language": "python",
   "name": "python3"
  },
  "language_info": {
   "codemirror_mode": {
    "name": "ipython",
    "version": 3
   },
   "file_extension": ".py",
   "mimetype": "text/x-python",
   "name": "python",
   "nbconvert_exporter": "python",
   "pygments_lexer": "ipython3",
   "version": "3.11.5"
  },
  "orig_nbformat": 4
 },
 "nbformat": 4,
 "nbformat_minor": 2
}
