{
 "cells": [
  {
   "cell_type": "code",
   "execution_count": 20,
   "metadata": {},
   "outputs": [],
   "source": [
    "import sys\n",
    "sys.path.append(\"..\")\n",
    "\n",
    "import chess\n",
    "import random\n",
    "from tqdm import tqdm\n",
    "import pandas as pd\n",
    "\n",
    "from common.utils import save_to_sql"
   ]
  },
  {
   "cell_type": "code",
   "execution_count": 17,
   "metadata": {},
   "outputs": [],
   "source": [
    "def random_game_moves(n_moves = 45):\n",
    "    board = chess.Board()\n",
    "\n",
    "    result = []\n",
    "\n",
    "    for i in range(2*n_moves):\n",
    "        legal_moves = list(board.legal_moves)\n",
    "\n",
    "        if len(legal_moves) == 0:\n",
    "            return result\n",
    "\n",
    "        random_move = random.choice(legal_moves)\n",
    "\n",
    "        result.append((board.fen(), random_move))\n",
    "\n",
    "        board.push(random_move)\n",
    "\n",
    "    return result"
   ]
  },
  {
   "cell_type": "code",
   "execution_count": 13,
   "metadata": {},
   "outputs": [
    {
     "name": "stderr",
     "output_type": "stream",
     "text": [
      "100%|██████████| 10000/10000 [01:32<00:00, 108.10it/s]\n"
     ]
    }
   ],
   "source": [
    "random_moves = []\n",
    "n_games = 10000\n",
    "\n",
    "for i in tqdm(range(n_games)):\n",
    "    random_moves += random_game_moves()\n"
   ]
  },
  {
   "cell_type": "code",
   "execution_count": 18,
   "metadata": {},
   "outputs": [
    {
     "data": {
      "text/html": [
       "<div>\n",
       "<style scoped>\n",
       "    .dataframe tbody tr th:only-of-type {\n",
       "        vertical-align: middle;\n",
       "    }\n",
       "\n",
       "    .dataframe tbody tr th {\n",
       "        vertical-align: top;\n",
       "    }\n",
       "\n",
       "    .dataframe thead th {\n",
       "        text-align: right;\n",
       "    }\n",
       "</style>\n",
       "<table border=\"1\" class=\"dataframe\">\n",
       "  <thead>\n",
       "    <tr style=\"text-align: right;\">\n",
       "      <th></th>\n",
       "      <th>position</th>\n",
       "      <th>move</th>\n",
       "      <th>sentiment</th>\n",
       "    </tr>\n",
       "  </thead>\n",
       "  <tbody>\n",
       "    <tr>\n",
       "      <th>0</th>\n",
       "      <td>rnbqkbnr/pppppppp/8/8/8/8/PPPPPPPP/RNBQKBNR w ...</td>\n",
       "      <td>b1c3</td>\n",
       "      <td>0</td>\n",
       "    </tr>\n",
       "    <tr>\n",
       "      <th>1</th>\n",
       "      <td>rnbqkbnr/pppppppp/8/8/8/2N5/PPPPPPPP/R1BQKBNR ...</td>\n",
       "      <td>c7c5</td>\n",
       "      <td>0</td>\n",
       "    </tr>\n",
       "    <tr>\n",
       "      <th>2</th>\n",
       "      <td>rnbqkbnr/pp1ppppp/8/2p5/8/2N5/PPPPPPPP/R1BQKBN...</td>\n",
       "      <td>a2a3</td>\n",
       "      <td>0</td>\n",
       "    </tr>\n",
       "    <tr>\n",
       "      <th>3</th>\n",
       "      <td>rnbqkbnr/pp1ppppp/8/2p5/8/P1N5/1PPPPPPP/R1BQKB...</td>\n",
       "      <td>b8a6</td>\n",
       "      <td>0</td>\n",
       "    </tr>\n",
       "    <tr>\n",
       "      <th>4</th>\n",
       "      <td>r1bqkbnr/pp1ppppp/n7/2p5/8/P1N5/1PPPPPPP/R1BQK...</td>\n",
       "      <td>b2b3</td>\n",
       "      <td>0</td>\n",
       "    </tr>\n",
       "    <tr>\n",
       "      <th>...</th>\n",
       "      <td>...</td>\n",
       "      <td>...</td>\n",
       "      <td>...</td>\n",
       "    </tr>\n",
       "    <tr>\n",
       "      <th>891581</th>\n",
       "      <td>3q1k2/3bpnr1/2p5/3pP3/1PpP1RPP/2BR4/3K2B1/1N6 ...</td>\n",
       "      <td>c6c5</td>\n",
       "      <td>0</td>\n",
       "    </tr>\n",
       "    <tr>\n",
       "      <th>891582</th>\n",
       "      <td>3q1k2/3bpnr1/8/2ppP3/1PpP1RPP/2BR4/3K2B1/1N6 w...</td>\n",
       "      <td>g2h3</td>\n",
       "      <td>0</td>\n",
       "    </tr>\n",
       "    <tr>\n",
       "      <th>891583</th>\n",
       "      <td>3q1k2/3bpnr1/8/2ppP3/1PpP1RPP/2BR3B/3K4/1N6 b ...</td>\n",
       "      <td>d7e8</td>\n",
       "      <td>0</td>\n",
       "    </tr>\n",
       "    <tr>\n",
       "      <th>891584</th>\n",
       "      <td>3qbk2/4pnr1/8/2ppP3/1PpP1RPP/2BR3B/3K4/1N6 w -...</td>\n",
       "      <td>f4e4</td>\n",
       "      <td>0</td>\n",
       "    </tr>\n",
       "    <tr>\n",
       "      <th>891585</th>\n",
       "      <td>3qbk2/4pnr1/8/2ppP3/1PpPR1PP/2BR3B/3K4/1N6 b -...</td>\n",
       "      <td>c5d4</td>\n",
       "      <td>0</td>\n",
       "    </tr>\n",
       "  </tbody>\n",
       "</table>\n",
       "<p>891586 rows × 3 columns</p>\n",
       "</div>"
      ],
      "text/plain": [
       "                                                 position  move  sentiment\n",
       "0       rnbqkbnr/pppppppp/8/8/8/8/PPPPPPPP/RNBQKBNR w ...  b1c3          0\n",
       "1       rnbqkbnr/pppppppp/8/8/8/2N5/PPPPPPPP/R1BQKBNR ...  c7c5          0\n",
       "2       rnbqkbnr/pp1ppppp/8/2p5/8/2N5/PPPPPPPP/R1BQKBN...  a2a3          0\n",
       "3       rnbqkbnr/pp1ppppp/8/2p5/8/P1N5/1PPPPPPP/R1BQKB...  b8a6          0\n",
       "4       r1bqkbnr/pp1ppppp/n7/2p5/8/P1N5/1PPPPPPP/R1BQK...  b2b3          0\n",
       "...                                                   ...   ...        ...\n",
       "891581  3q1k2/3bpnr1/2p5/3pP3/1PpP1RPP/2BR4/3K2B1/1N6 ...  c6c5          0\n",
       "891582  3q1k2/3bpnr1/8/2ppP3/1PpP1RPP/2BR4/3K2B1/1N6 w...  g2h3          0\n",
       "891583  3q1k2/3bpnr1/8/2ppP3/1PpP1RPP/2BR3B/3K4/1N6 b ...  d7e8          0\n",
       "891584  3qbk2/4pnr1/8/2ppP3/1PpP1RPP/2BR3B/3K4/1N6 w -...  f4e4          0\n",
       "891585  3qbk2/4pnr1/8/2ppP3/1PpPR1PP/2BR3B/3K4/1N6 b -...  c5d4          0\n",
       "\n",
       "[891586 rows x 3 columns]"
      ]
     },
     "execution_count": 18,
     "metadata": {},
     "output_type": "execute_result"
    }
   ],
   "source": [
    "random_moves_df = pd.DataFrame(random_moves, columns=[\"position\", \"move\"]).astype({\"position\": \"str\", \"move\": str})\n",
    "random_moves_df['sentiment'] = 0\n",
    "random_moves_df"
   ]
  },
  {
   "cell_type": "code",
   "execution_count": null,
   "metadata": {},
   "outputs": [],
   "source": [
    "save_to_sql(random_moves_df, \"../../chess.db\", \"random_moves\", if_exists=\"replace\")"
   ]
  }
 ],
 "metadata": {
  "kernelspec": {
   "display_name": "Python 3",
   "language": "python",
   "name": "python3"
  },
  "language_info": {
   "codemirror_mode": {
    "name": "ipython",
    "version": 3
   },
   "file_extension": ".py",
   "mimetype": "text/x-python",
   "name": "python",
   "nbconvert_exporter": "python",
   "pygments_lexer": "ipython3",
   "version": "3.10.6"
  },
  "orig_nbformat": 4
 },
 "nbformat": 4,
 "nbformat_minor": 2
}
